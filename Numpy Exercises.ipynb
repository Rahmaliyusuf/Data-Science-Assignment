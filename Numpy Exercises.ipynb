{
 "cells": [
  {
   "cell_type": "markdown",
   "metadata": {},
   "source": [
    "# NUMPY ASSIGNMENT"
   ]
  },
  {
   "cell_type": "markdown",
   "metadata": {},
   "source": [
    "#### 1. Import the numpy package under the name np "
   ]
  },
  {
   "cell_type": "code",
   "execution_count": 2,
   "metadata": {},
   "outputs": [],
   "source": [
    "import numpy as np\n"
   ]
  },
  {
   "cell_type": "markdown",
   "metadata": {},
   "source": [
    "#### 2. Print the numpy version and the configuration"
   ]
  },
  {
   "cell_type": "code",
   "execution_count": 3,
   "metadata": {},
   "outputs": [
    {
     "data": {
      "text/plain": [
       "'1.26.3'"
      ]
     },
     "execution_count": 3,
     "metadata": {},
     "output_type": "execute_result"
    }
   ],
   "source": [
    "np.__version__"
   ]
  },
  {
   "cell_type": "markdown",
   "metadata": {},
   "source": [
    "#### 3. Create a null vector of size 10 "
   ]
  },
  {
   "cell_type": "code",
   "execution_count": 4,
   "metadata": {},
   "outputs": [
    {
     "data": {
      "text/plain": [
       "array([0., 0., 0., 0., 0., 0., 0., 0., 0., 0.])"
      ]
     },
     "execution_count": 4,
     "metadata": {},
     "output_type": "execute_result"
    }
   ],
   "source": [
    "np.zeros(10)"
   ]
  },
  {
   "cell_type": "markdown",
   "metadata": {},
   "source": [
    "#### 4. How to find the memory size of any array "
   ]
  },
  {
   "cell_type": "code",
   "execution_count": 5,
   "metadata": {},
   "outputs": [
    {
     "ename": "ValueError",
     "evalue": "setting an array element with a sequence. The requested array has an inhomogeneous shape after 1 dimensions. The detected shape was (2,) + inhomogeneous part.",
     "output_type": "error",
     "traceback": [
      "\u001b[1;31m---------------------------------------------------------------------------\u001b[0m",
      "\u001b[1;31mValueError\u001b[0m                                Traceback (most recent call last)",
      "Cell \u001b[1;32mIn[5], line 1\u001b[0m\n\u001b[1;32m----> 1\u001b[0m arr \u001b[38;5;241m=\u001b[39m \u001b[43mnp\u001b[49m\u001b[38;5;241;43m.\u001b[39;49m\u001b[43marray\u001b[49m\u001b[43m(\u001b[49m\u001b[43m[\u001b[49m\u001b[43m[\u001b[49m\u001b[38;5;241;43m2\u001b[39;49m\u001b[43m,\u001b[49m\u001b[38;5;241;43m2\u001b[39;49m\u001b[43m,\u001b[49m\u001b[38;5;241;43m3\u001b[39;49m\u001b[43m,\u001b[49m\u001b[38;5;241;43m4\u001b[39;49m\u001b[43m]\u001b[49m\u001b[43m,\u001b[49m\u001b[43m \u001b[49m\u001b[43m[\u001b[49m\u001b[38;5;241;43m7\u001b[39;49m\u001b[43m,\u001b[49m\u001b[38;5;241;43m8\u001b[39;49m\u001b[43m,\u001b[49m\u001b[38;5;241;43m9\u001b[39;49m\u001b[43m]\u001b[49m\u001b[43m]\u001b[49m\u001b[43m)\u001b[49m\n\u001b[0;32m      2\u001b[0m memorysize \u001b[38;5;241m=\u001b[39m arr\u001b[38;5;241m.\u001b[39msize\n\u001b[0;32m      3\u001b[0m \u001b[38;5;28mprint\u001b[39m(memorysize)\n",
      "\u001b[1;31mValueError\u001b[0m: setting an array element with a sequence. The requested array has an inhomogeneous shape after 1 dimensions. The detected shape was (2,) + inhomogeneous part."
     ]
    }
   ],
   "source": [
    "arr = np.array([[2,2,3,4], [7,8,9]])\n",
    "memorysize = arr.size\n",
    "print(memorysize)"
   ]
  },
  {
   "cell_type": "markdown",
   "metadata": {},
   "source": [
    "#### 5.How to get the documentation of the numpy add function from the command line? "
   ]
  },
  {
   "cell_type": "code",
   "execution_count": null,
   "metadata": {},
   "outputs": [],
   "source": []
  },
  {
   "cell_type": "code",
   "execution_count": null,
   "metadata": {},
   "outputs": [],
   "source": []
  },
  {
   "cell_type": "markdown",
   "metadata": {},
   "source": [
    "#### 6. Create a null vector of size 10 but the fifth value which is 1"
   ]
  },
  {
   "cell_type": "code",
   "execution_count": null,
   "metadata": {},
   "outputs": [
    {
     "ename": "NameError",
     "evalue": "name 'np' is not defined",
     "output_type": "error",
     "traceback": [
      "\u001b[1;31m---------------------------------------------------------------------------\u001b[0m",
      "\u001b[1;31mNameError\u001b[0m                                 Traceback (most recent call last)",
      "Cell \u001b[1;32mIn[1], line 1\u001b[0m\n\u001b[1;32m----> 1\u001b[0m Null_Vector \u001b[38;5;241m=\u001b[39m \u001b[43mnp\u001b[49m\u001b[38;5;241m.\u001b[39mzeros(\u001b[38;5;241m10\u001b[39m)\n\u001b[0;32m      2\u001b[0m Null_Vector[\u001b[38;5;241m4\u001b[39m] \u001b[38;5;241m=\u001b[39m \u001b[38;5;241m1\u001b[39m\n\u001b[0;32m      3\u001b[0m \u001b[38;5;28mprint\u001b[39m(Null_Vector)\n",
      "\u001b[1;31mNameError\u001b[0m: name 'np' is not defined"
     ]
    }
   ],
   "source": [
    "Null_Vector = np.zeros(10)\n",
    "Null_Vector[4] = 1\n",
    "print(Null_Vector)\n"
   ]
  },
  {
   "cell_type": "markdown",
   "metadata": {},
   "source": [
    "#### 7. Create a vector with values ranging from 10 to 49 "
   ]
  },
  {
   "cell_type": "code",
   "execution_count": null,
   "metadata": {},
   "outputs": [
    {
     "data": {
      "text/plain": [
       "array([10, 11, 12, 13, 14, 15, 16, 17, 18, 19, 20, 21, 22, 23, 24, 25, 26,\n",
       "       27, 28, 29, 30, 31, 32, 33, 34, 35, 36, 37, 38, 39, 40, 41, 42, 43,\n",
       "       44, 45, 46, 47, 48, 49])"
      ]
     },
     "execution_count": 16,
     "metadata": {},
     "output_type": "execute_result"
    }
   ],
   "source": [
    "Value_Range = np.arange(10,50)\n",
    "Value_Range"
   ]
  },
  {
   "cell_type": "markdown",
   "metadata": {},
   "source": [
    "#### 8. Reverse a vector (first element becomes last) "
   ]
  },
  {
   "cell_type": "code",
   "execution_count": null,
   "metadata": {},
   "outputs": [
    {
     "name": "stdout",
     "output_type": "stream",
     "text": [
      "[49 48 47 46 45 44 43 42 41 40 39 38 37 36 35 34 33 32 31 30 29 28 27 26\n",
      " 25 24 23 22 21 20 19 18 17 16 15 14 13 12 11 10]\n"
     ]
    }
   ],
   "source": [
    "Value_Range = np.arange(10,50)\n",
    "reverse = Value_Range[::-1]\n",
    "print(reverse)"
   ]
  },
  {
   "cell_type": "markdown",
   "metadata": {},
   "source": [
    "#### 9. Create a 3x3 matrix with values ranging from 0 to 8"
   ]
  },
  {
   "cell_type": "code",
   "execution_count": null,
   "metadata": {},
   "outputs": [
    {
     "name": "stdout",
     "output_type": "stream",
     "text": [
      "[[0 1 2]\n",
      " [3 4 5]\n",
      " [6 7 8]]\n"
     ]
    }
   ],
   "source": [
    "matr = np.arange(9).reshape(3, 3)\n",
    "print(matr)"
   ]
  },
  {
   "cell_type": "markdown",
   "metadata": {},
   "source": [
    "#### 10. Find indices of non-zero elements from [1,2,0,0,4,0]"
   ]
  },
  {
   "cell_type": "code",
   "execution_count": null,
   "metadata": {},
   "outputs": [],
   "source": [
    "non_zero = np.nonzero([1,2,0,0,4,0])\n",
    "print(non_zero)"
   ]
  },
  {
   "cell_type": "markdown",
   "metadata": {},
   "source": [
    "#### 11. Create a 3x3 identity matrix\n"
   ]
  },
  {
   "cell_type": "code",
   "execution_count": null,
   "metadata": {},
   "outputs": [
    {
     "data": {
      "text/plain": [
       "array([[ 1,  3,  5],\n",
       "       [ 7,  9, 11],\n",
       "       [13, 15, 17]])"
      ]
     },
     "execution_count": 22,
     "metadata": {},
     "output_type": "execute_result"
    }
   ],
   "source": [
    "identity= np.array([[1, 3, 5], [7, 9, 11], [13, 15, 17]])\n",
    "identity"
   ]
  },
  {
   "cell_type": "markdown",
   "metadata": {},
   "source": [
    "#### 12. Create a 3x3x3 array with random values"
   ]
  },
  {
   "cell_type": "code",
   "execution_count": null,
   "metadata": {},
   "outputs": [
    {
     "data": {
      "text/plain": [
       "array([[[233, 147, 101],\n",
       "        [ 87, 295, 210],\n",
       "        [ 29, 123, 209]],\n",
       "\n",
       "       [[ 66,  66, 194],\n",
       "        [216, 230, 198],\n",
       "        [232,  39, 135]],\n",
       "\n",
       "       [[260,  52,  52],\n",
       "        [ 73, 234, 219],\n",
       "        [282, 186, 261]]])"
      ]
     },
     "execution_count": 27,
     "metadata": {},
     "output_type": "execute_result"
    }
   ],
   "source": [
    "random_var = np.random.randint(20,299 , size=(3, 3, 3))\n",
    "random_var"
   ]
  },
  {
   "cell_type": "markdown",
   "metadata": {},
   "source": [
    "#### 13. Create a 10x10 array with random values and find the minimum and maximum values "
   ]
  },
  {
   "cell_type": "code",
   "execution_count": null,
   "metadata": {},
   "outputs": [
    {
     "name": "stdout",
     "output_type": "stream",
     "text": [
      "minimum value is  2\n",
      "maximum value is  993\n"
     ]
    }
   ],
   "source": [
    "rand = np.random.randint(1, 999 ,size=(10, 10))\n",
    "rand\n",
    "print('minimum value is ', rand.min())\n",
    "print('maximum value is ', rand.max())"
   ]
  },
  {
   "cell_type": "markdown",
   "metadata": {},
   "source": [
    "#### 14. Create a random vector of size 30 and find the mean value "
   ]
  },
  {
   "cell_type": "code",
   "execution_count": null,
   "metadata": {},
   "outputs": [
    {
     "name": "stdout",
     "output_type": "stream",
     "text": [
      "[860 744 154 715 126 100 644 494 162 312 152 267 759 570 124 420 167 130\n",
      " 260 501 610 106 855 868 757 750 113 383 717 418]\n",
      "mean value is  441.26666666666665\n"
     ]
    }
   ],
   "source": [
    "randVec = np.random.randint(34,890, size=30)\n",
    "print(randVec)\n",
    "print('mean value is ', randVec.mean())"
   ]
  },
  {
   "cell_type": "markdown",
   "metadata": {},
   "source": [
    "#### 15. Create a 2d array with 1 on the border and 0 inside "
   ]
  },
  {
   "cell_type": "code",
   "execution_count": null,
   "metadata": {},
   "outputs": [
    {
     "name": "stdout",
     "output_type": "stream",
     "text": [
      "Arary:\n",
      "[[1. 1. 1. 1. 1. 1. 1.]\n",
      " [1. 1. 1. 1. 1. 1. 1.]\n",
      " [1. 1. 1. 1. 1. 1. 1.]\n",
      " [1. 1. 1. 1. 1. 1. 1.]\n",
      " [1. 1. 1. 1. 1. 1. 1.]\n",
      " [1. 1. 1. 1. 1. 1. 1.]\n",
      " [1. 1. 1. 1. 1. 1. 1.]]\n",
      "[[1. 1. 1. 1. 1. 1. 1.]\n",
      " [1. 0. 0. 0. 0. 0. 1.]\n",
      " [1. 0. 0. 0. 0. 0. 1.]\n",
      " [1. 0. 0. 0. 0. 0. 1.]\n",
      " [1. 0. 0. 0. 0. 0. 1.]\n",
      " [1. 0. 0. 0. 0. 0. 1.]\n",
      " [1. 1. 1. 1. 1. 1. 1.]]\n"
     ]
    }
   ],
   "source": [
    "border = np.ones((7, 7))\n",
    "print(\"Arary:\")\n",
    "print(border)\n",
    "border[1:-1, 1:-1] = 0\n",
    "print(border)"
   ]
  },
  {
   "cell_type": "markdown",
   "metadata": {},
   "source": [
    "#### 16. How to add a border (filled with 0's) around an existing array?"
   ]
  },
  {
   "cell_type": "code",
   "execution_count": null,
   "metadata": {},
   "outputs": [
    {
     "name": "stdout",
     "output_type": "stream",
     "text": [
      "[[0. 0. 0. 0. 0. 0. 0. 0. 0.]\n",
      " [0. 1. 1. 1. 1. 1. 1. 1. 0.]\n",
      " [0. 1. 0. 0. 0. 0. 0. 1. 0.]\n",
      " [0. 1. 0. 0. 0. 0. 0. 1. 0.]\n",
      " [0. 1. 0. 0. 0. 0. 0. 1. 0.]\n",
      " [0. 1. 0. 0. 0. 0. 0. 1. 0.]\n",
      " [0. 1. 0. 0. 0. 0. 0. 1. 0.]\n",
      " [0. 1. 1. 1. 1. 1. 1. 1. 0.]\n",
      " [0. 0. 0. 0. 0. 0. 0. 0. 0.]]\n"
     ]
    }
   ],
   "source": [
    "\n",
    "border = np.pad(border, pad_width=1, mode='constant', constant_values=0)\n",
    "print(border)"
   ]
  },
  {
   "cell_type": "markdown",
   "metadata": {},
   "source": [
    "#### 17. What is the result of the following expression? (★☆☆)\n",
    "```python\n",
    "0 * np.nan\n",
    "np.nan == np.nan\n",
    "np.inf > np.nan\n",
    "np.nan - np.nan\n",
    "np.nan in set([np.nan])\n",
    "0.3 == 3 * 0.1"
   ]
  },
  {
   "cell_type": "code",
   "execution_count": null,
   "metadata": {},
   "outputs": [
    {
     "data": {
      "text/plain": [
       "False"
      ]
     },
     "execution_count": 37,
     "metadata": {},
     "output_type": "execute_result"
    }
   ],
   "source": [
    "0 * np.nan\n",
    "np.nan == np.nan\n",
    "np.inf > np.nan\n",
    "np.nan - np.nan\n",
    "np.nan in set([np.nan])\n",
    "0.3 == 3 * 0.1"
   ]
  },
  {
   "cell_type": "markdown",
   "metadata": {},
   "source": [
    "#### 18. Create a 5x5 matrix with values 1,2,3,4 just below the diagonal"
   ]
  },
  {
   "cell_type": "code",
   "execution_count": null,
   "metadata": {},
   "outputs": [
    {
     "data": {
      "text/plain": [
       "array([[1, 0, 0, 0],\n",
       "       [0, 2, 0, 0],\n",
       "       [0, 0, 3, 0],\n",
       "       [0, 0, 0, 4]])"
      ]
     },
     "execution_count": 38,
     "metadata": {},
     "output_type": "execute_result"
    }
   ],
   "source": [
    "diagonal= np.diag([1, 2, 3, 4])\n",
    "diagonal"
   ]
  },
  {
   "cell_type": "markdown",
   "metadata": {},
   "source": [
    "#### 19. Create a 8x8 matrix and fill it with a checkerboard pattern"
   ]
  },
  {
   "cell_type": "code",
   "execution_count": null,
   "metadata": {},
   "outputs": [
    {
     "name": "stdout",
     "output_type": "stream",
     "text": [
      "[[0 1 0 1 0 1 0 1]\n",
      " [1 0 1 0 1 0 1 0]\n",
      " [0 1 0 1 0 1 0 1]\n",
      " [1 0 1 0 1 0 1 0]\n",
      " [0 1 0 1 0 1 0 1]\n",
      " [1 0 1 0 1 0 1 0]\n",
      " [0 1 0 1 0 1 0 1]\n",
      " [1 0 1 0 1 0 1 0]]\n"
     ]
    }
   ],
   "source": [
    "checker = np.zeros((8,8),dtype=int)\n",
    "checker[1::2,::2] = 1\n",
    "checker[::2,1::2] = 1\n",
    "print(checker)"
   ]
  },
  {
   "cell_type": "markdown",
   "metadata": {},
   "source": [
    "#### 20. Consider a (6,7,8) shape array, what is the index (x,y,z) of the 100th element?"
   ]
  },
  {
   "cell_type": "code",
   "execution_count": null,
   "metadata": {},
   "outputs": [
    {
     "name": "stdout",
     "output_type": "stream",
     "text": [
      "Index (x, y, z) of the 100th element: (1, 5, 4)\n"
     ]
    }
   ],
   "source": [
    "shape = (6, 7, 8)\n",
    "index_1d = 100\n",
    "\n",
    "index_3d = np.unravel_index(index_1d, shape)\n",
    "\n",
    "print(\"Index (x, y, z) of the 100th element:\", index_3d)\n"
   ]
  },
  {
   "cell_type": "markdown",
   "metadata": {},
   "source": [
    "#### 21. Create a checkerboard 8x8 matrix using the tile function"
   ]
  },
  {
   "cell_type": "code",
   "execution_count": null,
   "metadata": {},
   "outputs": [
    {
     "name": "stdout",
     "output_type": "stream",
     "text": [
      "[[0 1 0 1 0 1 0 1]\n",
      " [1 0 1 0 1 0 1 0]\n",
      " [0 1 0 1 0 1 0 1]\n",
      " [1 0 1 0 1 0 1 0]\n",
      " [0 1 0 1 0 1 0 1]\n",
      " [1 0 1 0 1 0 1 0]\n",
      " [0 1 0 1 0 1 0 1]\n",
      " [1 0 1 0 1 0 1 0]]\n"
     ]
    }
   ],
   "source": [
    "checkerboard8x8 =np.tile(np.array([[0, 1], [1, 0]]), (4, 4))\n",
    "\n",
    "print(checkerboard8x8)\n"
   ]
  },
  {
   "cell_type": "markdown",
   "metadata": {},
   "source": [
    "#### 22. Normalize a 5x5 random matrix"
   ]
  },
  {
   "cell_type": "code",
   "execution_count": null,
   "metadata": {},
   "outputs": [
    {
     "name": "stdout",
     "output_type": "stream",
     "text": [
      "[[-1.25882963e+00 -1.05706042e-01  5.82506801e-01  1.48266596e+00\n",
      "  -1.60282688e+00]\n",
      " [ 1.51101343e+00  4.06261781e-01 -1.65496782e+00  1.68539729e+00\n",
      "  -7.50939027e-02]\n",
      " [ 7.33961290e-04 -1.92077463e-01  1.73780263e+00 -9.76461150e-01\n",
      "   1.99104274e-01]\n",
      " [ 1.53016219e+00  4.60753279e-02 -4.16997197e-01 -1.74379730e-02\n",
      "  -7.52683119e-01]\n",
      " [-6.96259945e-02  7.09816063e-01 -7.79663274e-01 -8.62289031e-01\n",
      "  -1.12688023e+00]]\n"
     ]
    }
   ],
   "source": [
    "normal = np.random.random((5,5))\n",
    "normal_mat = (normal - np.mean (normal)) / (np.std (normal))\n",
    "print(normal_mat)"
   ]
  },
  {
   "cell_type": "markdown",
   "metadata": {},
   "source": [
    "#### 23. Create a custom dtype that describes a color as four unsigned bytes (RGBA) "
   ]
  },
  {
   "cell_type": "code",
   "execution_count": null,
   "metadata": {},
   "outputs": [
    {
     "name": "stdout",
     "output_type": "stream",
     "text": [
      "[(255,   0,   0, 255) (  0, 255,   0, 255) (  0,   0, 255, 128)]\n"
     ]
    }
   ],
   "source": [
    "color_dtype = np.dtype([('R', np.uint8), ('G', np.uint8), ('B', np.uint8), ('A', np.uint8)])\n",
    "\n",
    "\n",
    "color_array = np.array([(255, 0, 0, 255),  \n",
    "                        (0, 255, 0, 255),  \n",
    "                        (0, 0, 255, 128)],  \n",
    "                       dtype=color_dtype)\n",
    "\n",
    "\n",
    "print(color_array)"
   ]
  },
  {
   "cell_type": "markdown",
   "metadata": {},
   "source": [
    "#### 24. Multiply a 5x3 matrix by a 3x2 matrix (real matrix product) "
   ]
  },
  {
   "cell_type": "code",
   "execution_count": null,
   "metadata": {},
   "outputs": [
    {
     "data": {
      "text/plain": [
       "array([[1.74955132, 0.81022681],\n",
       "       [1.04933689, 0.45319731],\n",
       "       [1.14878701, 0.50121519],\n",
       "       [0.81704239, 0.41043107],\n",
       "       [0.94168192, 0.39608272]])"
      ]
     },
     "execution_count": 53,
     "metadata": {},
     "output_type": "execute_result"
    }
   ],
   "source": [
    "five_by_three_mat = np.random.random ((5, 3))\n",
    "\n",
    "Three_by_two= np.random.random ((3, 2))\n",
    "\n",
    "\n",
    "real_mat= np.dot(five_by_three_mat, Three_by_two)\n",
    "real_mat"
   ]
  },
  {
   "cell_type": "markdown",
   "metadata": {},
   "source": [
    "#### 25. Given a 1D array, negate all elements which are between 3 and 8, in place."
   ]
  },
  {
   "cell_type": "code",
   "execution_count": null,
   "metadata": {},
   "outputs": [
    {
     "data": {
      "text/plain": [
       "array([ 0,  1,  2,  3, -4, -5, -6, -7,  8,  9])"
      ]
     },
     "execution_count": 54,
     "metadata": {},
     "output_type": "execute_result"
    }
   ],
   "source": [
    "one_d = np.arange(10)\n",
    "one_d[(3 < one_d) & (one_d < 8)] *= -1\n",
    "one_d"
   ]
  },
  {
   "cell_type": "markdown",
   "metadata": {},
   "source": [
    "#### 26. What is the output of the following script? \n",
    "```python\n",
    "# Author: Jake VanderPlas\n",
    "\n",
    "print(sum(range(5),-1))\n",
    "from numpy import *\n",
    "print(sum(range(5),-1))"
   ]
  },
  {
   "cell_type": "code",
   "execution_count": null,
   "metadata": {},
   "outputs": [
    {
     "name": "stdout",
     "output_type": "stream",
     "text": [
      "9\n",
      "10\n"
     ]
    }
   ],
   "source": [
    "print(sum(range(5),-1))\n",
    "from numpy import *\n",
    "print(sum(range(5),-1))"
   ]
  },
  {
   "cell_type": "markdown",
   "metadata": {},
   "source": [
    "#### 27. Consider an integer vector Z, which of these expressions are legal? (★☆☆)\n",
    "```python\n",
    "Z**Z\n",
    "2 << Z >> 2\n",
    "Z <- Z\n",
    "1j*Z\n",
    "Z/1/1\n",
    "Z<Z>Z"
   ]
  },
  {
   "cell_type": "code",
   "execution_count": null,
   "metadata": {},
   "outputs": [
    {
     "ename": "ValueError",
     "evalue": "The truth value of an array with more than one element is ambiguous. Use a.any() or a.all()",
     "output_type": "error",
     "traceback": [
      "\u001b[1;31m---------------------------------------------------------------------------\u001b[0m",
      "\u001b[1;31mValueError\u001b[0m                                Traceback (most recent call last)",
      "Cell \u001b[1;32mIn[57], line 7\u001b[0m\n\u001b[0;32m      5\u001b[0m \u001b[38;5;241m1\u001b[39mj\u001b[38;5;241m*\u001b[39mZ\n\u001b[0;32m      6\u001b[0m Z\u001b[38;5;241m/\u001b[39m\u001b[38;5;241m1\u001b[39m\u001b[38;5;241m/\u001b[39m\u001b[38;5;241m1\u001b[39m\n\u001b[1;32m----> 7\u001b[0m Z\u001b[38;5;241m<\u001b[39mZ\u001b[38;5;241m>\u001b[39mZ\n",
      "\u001b[1;31mValueError\u001b[0m: The truth value of an array with more than one element is ambiguous. Use a.any() or a.all()"
     ]
    }
   ],
   "source": [
    "Z= np.arange(10)\n",
    "Z**Z\n",
    "2 << Z >> 2\n",
    "Z <- Z\n",
    "1j*Z\n",
    "Z/1/1\n",
    "Z<Z>Z"
   ]
  },
  {
   "cell_type": "markdown",
   "metadata": {},
   "source": [
    "#### 28. What are the result of the following expressions? (★☆☆)\n",
    "```python\n",
    "np.array(0) / np.array(0)\n",
    "np.array(0) // np.array(0)\n",
    "np.array([np.nan]).astype(int).astype(float)\n",
    "```"
   ]
  },
  {
   "cell_type": "code",
   "execution_count": null,
   "metadata": {},
   "outputs": [
    {
     "name": "stderr",
     "output_type": "stream",
     "text": [
      "C:\\Users\\pc\\AppData\\Local\\Temp\\ipykernel_11200\\548293649.py:1: RuntimeWarning: invalid value encountered in divide\n",
      "  np.array(0) / np.array(0)\n",
      "C:\\Users\\pc\\AppData\\Local\\Temp\\ipykernel_11200\\548293649.py:2: RuntimeWarning: divide by zero encountered in floor_divide\n",
      "  np.array(0) // np.array(0)\n",
      "C:\\Users\\pc\\AppData\\Local\\Temp\\ipykernel_11200\\548293649.py:3: RuntimeWarning: invalid value encountered in cast\n",
      "  np.array([np.nan]).astype(int).astype(float)\n"
     ]
    },
    {
     "data": {
      "text/plain": [
       "array([-2.14748365e+09])"
      ]
     },
     "execution_count": 58,
     "metadata": {},
     "output_type": "execute_result"
    }
   ],
   "source": [
    "np.array(0) / np.array(0)\n",
    "np.array(0) // np.array(0)\n",
    "np.array([np.nan]).astype(int).astype(float)"
   ]
  },
  {
   "cell_type": "markdown",
   "metadata": {},
   "source": [
    "#### 29. How to round away from zero a float array ?"
   ]
  },
  {
   "cell_type": "code",
   "execution_count": null,
   "metadata": {},
   "outputs": [
    {
     "name": "stdout",
     "output_type": "stream",
     "text": [
      "[0. 1. 2. 3. 4. 5. 6. 7. 8. 9.]\n",
      "[ -2.  10.   8.   1. -10.   7.   7. -10.  -6.  -1.]\n"
     ]
    }
   ],
   "source": [
    "Zero = np.random.uniform(-10,+10,10)\n",
    "print(np.copysign(np.ceil(np.abs(Z)), Z))\n",
    "\n",
    "print(np.where(Zero>0, np.ceil(Zero), np.floor(Zero)))"
   ]
  },
  {
   "cell_type": "markdown",
   "metadata": {},
   "source": [
    "#### 30. How to find common values between two arrays?"
   ]
  },
  {
   "cell_type": "code",
   "execution_count": null,
   "metadata": {},
   "outputs": [
    {
     "name": "stdout",
     "output_type": "stream",
     "text": [
      "[17 18 19 20 21 22]\n"
     ]
    }
   ],
   "source": [
    "val1 = np.arange(23)\n",
    "val2= np.arange(17,34)\n",
    "print(np.intersect1d(val1,val2))"
   ]
  },
  {
   "cell_type": "markdown",
   "metadata": {},
   "source": [
    "#### 31. How to ignore all numpy warnings (not recommended)?"
   ]
  },
  {
   "cell_type": "code",
   "execution_count": null,
   "metadata": {},
   "outputs": [],
   "source": []
  },
  {
   "cell_type": "markdown",
   "metadata": {},
   "source": [
    "#### 32. Is the following expressions true? (★☆☆)\n",
    "```python\n",
    "np.sqrt(-1) == np.emath.sqrt(-1)"
   ]
  },
  {
   "cell_type": "code",
   "execution_count": null,
   "metadata": {},
   "outputs": [
    {
     "name": "stderr",
     "output_type": "stream",
     "text": [
      "C:\\Users\\pc\\AppData\\Local\\Temp\\ipykernel_6100\\244602691.py:1: RuntimeWarning: invalid value encountered in sqrt\n",
      "  np.sqrt(-1) == np.emath.sqrt(-1)\n"
     ]
    },
    {
     "data": {
      "text/plain": [
       "False"
      ]
     },
     "execution_count": 9,
     "metadata": {},
     "output_type": "execute_result"
    }
   ],
   "source": [
    "np.sqrt(-1) == np.emath.sqrt(-1)"
   ]
  },
  {
   "cell_type": "markdown",
   "metadata": {},
   "source": [
    "#### 33. How to get the dates of yesterday, today and tomorrow?"
   ]
  },
  {
   "cell_type": "code",
   "execution_count": null,
   "metadata": {},
   "outputs": [
    {
     "name": "stdout",
     "output_type": "stream",
     "text": [
      "Yesterday was  2024-02-10\n",
      "Todays date is  2024-02-11\n",
      "Tomorrow will be  2024-02-10\n"
     ]
    }
   ],
   "source": [
    "yesterday = np.datetime64(\"today\") - np.timedelta64(1)\n",
    "today = np.datetime64(\"today\") \n",
    "tomorrow = np.datetime64(\"today\") - np.timedelta64(1)\n",
    "print(\"Yesterday was \",yesterday)\n",
    "print(\"Todays date is \",today)\n",
    "print('Tomorrow will be ',tomorrow)"
   ]
  },
  {
   "cell_type": "markdown",
   "metadata": {},
   "source": [
    "#### 34. How to get all the dates corresponding to the month of July 2016? "
   ]
  },
  {
   "cell_type": "code",
   "execution_count": null,
   "metadata": {},
   "outputs": [
    {
     "name": "stdout",
     "output_type": "stream",
     "text": [
      "['2016-07-01' '2016-07-02' '2016-07-03' '2016-07-04' '2016-07-05'\n",
      " '2016-07-06' '2016-07-07' '2016-07-08' '2016-07-09' '2016-07-10'\n",
      " '2016-07-11' '2016-07-12' '2016-07-13' '2016-07-14' '2016-07-15'\n",
      " '2016-07-16' '2016-07-17' '2016-07-18' '2016-07-19' '2016-07-20'\n",
      " '2016-07-21' '2016-07-22' '2016-07-23' '2016-07-24' '2016-07-25'\n",
      " '2016-07-26' '2016-07-27' '2016-07-28' '2016-07-29' '2016-07-30'\n",
      " '2016-07-31']\n"
     ]
    }
   ],
   "source": [
    "import calendar\n",
    "year = 2016\n",
    "month = 7\n",
    "\n",
    "first_day, last_day = calendar.monthrange(year, month)\n",
    "\n",
    "dates_array = np.array([np.datetime64(f\"{year}-{month:02d}-{day:02d}\") for day in range(1, last_day + 1)])\n",
    "\n",
    "\n",
    "print(dates_array)"
   ]
  },
  {
   "cell_type": "markdown",
   "metadata": {},
   "source": [
    "#### 35. How to compute ((A+B)*(-A/2)) in place (without copy)?"
   ]
  },
  {
   "cell_type": "code",
   "execution_count": null,
   "metadata": {},
   "outputs": [
    {
     "name": "stdout",
     "output_type": "stream",
     "text": [
      "[ -2.5  -7.  -13.5]\n"
     ]
    }
   ],
   "source": [
    "A = np.array([1, 2, 3])\n",
    "B = np.array([4, 5, 6])\n",
    "\n",
    "C= ((A + B) *  (-A / 2) )\n",
    "  \n",
    "\n",
    "print(C)\n"
   ]
  },
  {
   "cell_type": "markdown",
   "metadata": {},
   "source": [
    "#### 36. Extract the integer part of a random array of positive numbers using 4 different methods"
   ]
  },
  {
   "cell_type": "code",
   "execution_count": null,
   "metadata": {},
   "outputs": [
    {
     "name": "stdout",
     "output_type": "stream",
     "text": [
      "[ 790 1021 1020  633 1116  625  951  721 1058  974]\n",
      "[ 790 1021 1020  633 1116  625  951  721 1058  974]\n",
      "[ 790. 1021. 1020.  633. 1116.  625.  951.  721. 1058.  974.]\n",
      "[ 790 1021 1020  633 1116  625  951  721 1058  974]\n",
      "[ 790. 1021. 1020.  633. 1116.  625.  951.  721. 1058.  974.]\n"
     ]
    }
   ],
   "source": [
    "num = np.random.randint(34, 1234, 10)\n",
    "print(num - num%1)\n",
    "print(num // 1)\n",
    "print(np.floor(num))\n",
    "print(num.astype(int))\n",
    "print(np.trunc(num))"
   ]
  },
  {
   "cell_type": "markdown",
   "metadata": {},
   "source": [
    "#### 37. Create a 5x5 matrix with row values ranging from 0 to 4 "
   ]
  },
  {
   "cell_type": "code",
   "execution_count": null,
   "metadata": {},
   "outputs": [
    {
     "data": {
      "text/plain": [
       "array([[0., 1., 2., 3., 4.],\n",
       "       [0., 1., 2., 3., 4.],\n",
       "       [0., 1., 2., 3., 4.],\n",
       "       [0., 1., 2., 3., 4.],\n",
       "       [0., 1., 2., 3., 4.]])"
      ]
     },
     "execution_count": 25,
     "metadata": {},
     "output_type": "execute_result"
    }
   ],
   "source": [
    "arrr = np.ones((5,5))\n",
    "arr = np.arange(5) * arrr\n",
    "arr"
   ]
  },
  {
   "cell_type": "markdown",
   "metadata": {},
   "source": [
    "#### 38. Consider a generator function that generates 10 integers and use it to build an array "
   ]
  },
  {
   "cell_type": "code",
   "execution_count": 1,
   "metadata": {},
   "outputs": [
    {
     "ename": "NameError",
     "evalue": "name 'np' is not defined",
     "output_type": "error",
     "traceback": [
      "\u001b[1;31m---------------------------------------------------------------------------\u001b[0m",
      "\u001b[1;31mNameError\u001b[0m                                 Traceback (most recent call last)",
      "Cell \u001b[1;32mIn[1], line 4\u001b[0m\n\u001b[0;32m      2\u001b[0m     \u001b[38;5;28;01mfor\u001b[39;00m i \u001b[38;5;129;01min\u001b[39;00m \u001b[38;5;28mrange\u001b[39m(\u001b[38;5;241m10\u001b[39m):\n\u001b[0;32m      3\u001b[0m         \u001b[38;5;28;01myield\u001b[39;00m i\n\u001b[1;32m----> 4\u001b[0m arr \u001b[38;5;241m=\u001b[39m \u001b[43mnp\u001b[49m\u001b[38;5;241m.\u001b[39mfromiter(generator(),dtype\u001b[38;5;241m=\u001b[39mint64,count\u001b[38;5;241m=\u001b[39m\u001b[38;5;241m-\u001b[39m\u001b[38;5;241m1\u001b[39m)\n\u001b[0;32m      5\u001b[0m \u001b[38;5;28mprint\u001b[39m(arr)\n",
      "\u001b[1;31mNameError\u001b[0m: name 'np' is not defined"
     ]
    }
   ],
   "source": [
    "def generator():\n",
    "    for i in range(10):\n",
    "        yield i\n",
    "arr = np.fromiter(generator(),dtype=int64,count=-1)\n",
    "print(arr)"
   ]
  },
  {
   "cell_type": "markdown",
   "metadata": {},
   "source": [
    "#### 39. Create a vector of size 10 with values ranging from 0 to 1, both excluded "
   ]
  },
  {
   "cell_type": "code",
   "execution_count": 12,
   "metadata": {},
   "outputs": [
    {
     "name": "stdout",
     "output_type": "stream",
     "text": [
      "[0.09090909 0.18181818 0.27272727 0.36363636 0.45454545 0.54545455\n",
      " 0.63636364 0.72727273 0.81818182 0.90909091]\n"
     ]
    }
   ],
   "source": [
    "Vect = np.linspace(0,1, 12 ,endpoint=True)[1: -1]\n",
    "print(Vect)"
   ]
  },
  {
   "cell_type": "markdown",
   "metadata": {},
   "source": [
    "#### 40. Create a random vector of size 10 and sort it"
   ]
  },
  {
   "cell_type": "code",
   "execution_count": 9,
   "metadata": {},
   "outputs": [
    {
     "name": "stdout",
     "output_type": "stream",
     "text": [
      "[ 7 14 17 27 48 67 68 70 85 88]\n"
     ]
    }
   ],
   "source": [
    "RandVect = np.random.randint(3, 89, size = 10)\n",
    "RandVect.sort()\n",
    "print(RandVect)"
   ]
  },
  {
   "cell_type": "markdown",
   "metadata": {},
   "source": [
    "#### 41. How to sum a small array faster than np.sum? "
   ]
  },
  {
   "cell_type": "code",
   "execution_count": 13,
   "metadata": {},
   "outputs": [
    {
     "data": {
      "text/plain": [
       "491"
      ]
     },
     "execution_count": 13,
     "metadata": {},
     "output_type": "execute_result"
    }
   ],
   "source": [
    "np.add.reduce(RandVect)"
   ]
  },
  {
   "cell_type": "markdown",
   "metadata": {},
   "source": [
    "#### 42. Consider two random array A and B, check if they are equal"
   ]
  },
  {
   "cell_type": "code",
   "execution_count": 22,
   "metadata": {},
   "outputs": [
    {
     "name": "stdout",
     "output_type": "stream",
     "text": [
      "[117 179 107 155  82]\n",
      "[186 102 157 149 114]\n",
      "False\n"
     ]
    }
   ],
   "source": [
    "a = np.random.randint(76,199,5)\n",
    "b = np.random.randint(88,190,5)\n",
    "print(a)\n",
    "print(b)\n",
    "equal = np.allclose(a,b)\n",
    "print(equal)\n"
   ]
  },
  {
   "cell_type": "markdown",
   "metadata": {},
   "source": [
    "#### 43. Make an array immutable (read-only)"
   ]
  },
  {
   "cell_type": "code",
   "execution_count": 23,
   "metadata": {},
   "outputs": [
    {
     "ename": "ValueError",
     "evalue": "assignment destination is read-only",
     "output_type": "error",
     "traceback": [
      "\u001b[1;31m---------------------------------------------------------------------------\u001b[0m",
      "\u001b[1;31mValueError\u001b[0m                                Traceback (most recent call last)",
      "Cell \u001b[1;32mIn[23], line 3\u001b[0m\n\u001b[0;32m      1\u001b[0m arra \u001b[38;5;241m=\u001b[39m np\u001b[38;5;241m.\u001b[39marange(\u001b[38;5;241m56\u001b[39m,\u001b[38;5;241m990\u001b[39m, \u001b[38;5;241m6\u001b[39m)\n\u001b[0;32m      2\u001b[0m arra\u001b[38;5;241m.\u001b[39mflags\u001b[38;5;241m.\u001b[39mwriteable \u001b[38;5;241m=\u001b[39m \u001b[38;5;28;01mFalse\u001b[39;00m\n\u001b[1;32m----> 3\u001b[0m \u001b[43marra\u001b[49m\u001b[43m[\u001b[49m\u001b[38;5;241;43m23\u001b[39;49m\u001b[43m]\u001b[49m\u001b[38;5;241m=\u001b[39m\u001b[38;5;241m8\u001b[39m\n",
      "\u001b[1;31mValueError\u001b[0m: assignment destination is read-only"
     ]
    }
   ],
   "source": [
    "arra = np.arange(56,990, 6)\n",
    "arra.flags.writeable = False\n",
    "arra[23]=8"
   ]
  },
  {
   "cell_type": "markdown",
   "metadata": {},
   "source": [
    "#### 44. Consider a random 10x2 matrix representing cartesian coordinates, convert them to polar coordinates "
   ]
  },
  {
   "cell_type": "code",
   "execution_count": 28,
   "metadata": {},
   "outputs": [
    {
     "name": "stdout",
     "output_type": "stream",
     "text": [
      "[601.22707857 500.95309162 606.84512027 322.27317605 291.63161694\n",
      " 679.400471   511.13207686 257.20031104 103.84603989 454.71419595]\n",
      "[0.50903711 1.23515778 0.65569563 0.50529019 0.40534203 0.6423236\n",
      " 0.42338916 0.6419459  1.29778762 0.77140219]\n"
     ]
    }
   ],
   "source": [
    "c = np.random.randint(23,567 , (10,2))\n",
    "c\n",
    "a,b = c[:,0], c[:,1]\n",
    "e = np.sqrt(a**2+b**2)\n",
    "f = np.arctan2(b,a)\n",
    "print(e)\n",
    "print(f)\n"
   ]
  },
  {
   "cell_type": "markdown",
   "metadata": {},
   "source": [
    "#### 45. Create random vector of size 10 and replace the maximum value by 0"
   ]
  },
  {
   "cell_type": "code",
   "execution_count": 29,
   "metadata": {},
   "outputs": [
    {
     "name": "stdout",
     "output_type": "stream",
     "text": [
      "[38 69 47 66 38 40 54 48  0 66]\n"
     ]
    }
   ],
   "source": [
    "VecMax = np.random.randint(34,78,10)\n",
    "VecMax[VecMax.argmax()] = 0\n",
    "print(VecMax)"
   ]
  },
  {
   "cell_type": "markdown",
   "metadata": {},
   "source": [
    "#### 46. Create a structured array with `x` and `y` coordinates covering the [0,1]x[0,1] area"
   ]
  },
  {
   "cell_type": "code",
   "execution_count": null,
   "metadata": {},
   "outputs": [],
   "source": [
    "s = np.zeros((5,5), [('x',float),('y',float)])\n",
    "s['x'], s['y'] = np.meshgrid(np.linspace(0,1,5),\n",
    "                             np.linspace(0,1,5))\n",
    "print(s)"
   ]
  },
  {
   "cell_type": "markdown",
   "metadata": {},
   "source": [
    "#### 47. Given two arrays, X and Y, construct the Cauchy matrix C (Cij =1/(xi - yj)) "
   ]
  },
  {
   "cell_type": "code",
   "execution_count": 31,
   "metadata": {},
   "outputs": [
    {
     "name": "stdout",
     "output_type": "stream",
     "text": [
      "1.5254899813847763e-39\n"
     ]
    }
   ],
   "source": [
    "x = np.random.randint(34,78, 9)\n",
    "y = np.random.randint(45,100, 9)\n",
    "Cauchy = 1.0 / np.subtract.outer(x, y)\n",
    "print(np.linalg.det(Cauchy))"
   ]
  },
  {
   "cell_type": "markdown",
   "metadata": {},
   "source": [
    "#### 48. Print the minimum and maximum representable value for each numpy scalar type"
   ]
  },
  {
   "cell_type": "markdown",
   "metadata": {},
   "source": [
    "#### 49. How to print all the values of an array? "
   ]
  },
  {
   "cell_type": "code",
   "execution_count": 43,
   "metadata": {},
   "outputs": [
    {
     "name": "stdout",
     "output_type": "stream",
     "text": [
      "[[ 62  30  76 121 192  87  25  84  71  54  76  44 103 160  64 136 155]\n",
      " [187 175 114  65 102 135 154  75 151 165 196 176  81 144  39  61  92]\n",
      " [ 54 116  73 100 145  79 166 161  37  49 147 115 140  47 121  80  79]\n",
      " [ 69 164  42 191 104  29  71 102 172 140 183 115 153 138 168  89  74]\n",
      " [ 31 199 141 133  73  98 172 103 153 170 121  76  76 146  43 121  75]\n",
      " [154  50  33 176 177  36  47 136 137 165 197 149 126 162 199 109 193]\n",
      " [ 73  69 116  75  65 179 159 196  86 101  26  86  50 147 127  38 143]\n",
      " [ 82 187 100  48 154 193 133 189 135 180 138 179 196  53 162  30 168]\n",
      " [195  56  84  94 160  91 171  97  58 199 180 162 191 162  45 147 134]\n",
      " [183  41 131 172 146 116  37 189 121 199  87 100 189 114 179 134  67]\n",
      " [ 37  26  66 140 117  85 175  41 139  89 161  21  76  93 135 139  29]\n",
      " [128 175  90  53 156 197  87 152 143 196 120 145  90 167  99 102  25]\n",
      " [ 25  57 109 192 147 132  85  43  78 176  58 160  26 162  47  23 185]\n",
      " [ 97  99 153 147 141 135  83 107 195  46 158  36  69  77  34 102 137]\n",
      " [183 177  97 107  97 102 124 119  92 104 123 152  86  21 177  71  76]\n",
      " [ 59  50 193  32  61  39  22  70  50 196  73  67 102  41  97  22  48]\n",
      " [116 127 191  75  66  97 158 144  58 181  31 108  90 152  94 193 107]\n",
      " [ 80 194 153 175 181  51  74 133  40  30 109  48  57  40  87 104  81]]\n"
     ]
    }
   ],
   "source": [
    "\n",
    "Arr = np.random.randint(20, 200, size = (18, 17))\n",
    "np.set_printoptions(threshold=np.inf)\n",
    "print(Arr)"
   ]
  },
  {
   "cell_type": "markdown",
   "metadata": {},
   "source": [
    "#### 50. How to find the closest value (to a given scalar) in a vector? "
   ]
  },
  {
   "cell_type": "code",
   "execution_count": 47,
   "metadata": {},
   "outputs": [
    {
     "name": "stdout",
     "output_type": "stream",
     "text": [
      "5\n"
     ]
    }
   ],
   "source": [
    "vec= np.arange(25)\n",
    "\n",
    "\n",
    "sca = 5\n",
    "\n",
    "index = np.abs(vec - sca).argmin()\n",
    "\n",
    "clo_val = vec[index]\n",
    "\n",
    "print(clo_val)"
   ]
  },
  {
   "cell_type": "markdown",
   "metadata": {},
   "source": [
    "#### 51. Create a structured array representing a position (x,y) and a color (r,g,b)"
   ]
  },
  {
   "cell_type": "code",
   "execution_count": 49,
   "metadata": {},
   "outputs": [
    {
     "name": "stdout",
     "output_type": "stream",
     "text": [
      "[((33, 3), (255,   0, 0)) ((44, 5), (  0, 255, 0))]\n"
     ]
    }
   ],
   "source": [
    "\n",
    "pos_dtype= [('x', int), ('y', int)]\n",
    "color_dtype = [('r', int), ('g', int), ('b', int)]\n",
    "\n",
    "\n",
    "positions = np.array([(33, 3), (44, 5)], dtype=pos_dtype)\n",
    "colors = np.array([(255, 0, 0), (0, 255, 0)], dtype=color_dtype)\n",
    "\n",
    "# Combine position and color arrays\n",
    "arra = np.empty(2, dtype=[('position', pos_dtype), ('color', color_dtype)])\n",
    "arra['position'] = positions\n",
    "arra['color'] = colors\n",
    "\n",
    "print(arra)\n",
    "\n"
   ]
  },
  {
   "cell_type": "markdown",
   "metadata": {},
   "source": [
    "#### 52. Consider a random vector with shape (100,2) representing coordinates, find point by point distances "
   ]
  },
  {
   "cell_type": "code",
   "execution_count": 50,
   "metadata": {},
   "outputs": [
    {
     "name": "stdout",
     "output_type": "stream",
     "text": [
      "[[  0.         400.58582102 833.60002399 630.27057682 692.31495723\n",
      "  643.18348859 306.21724315 643.20525495 445.17973898 821.65199446\n",
      "  519.06165337 429.78366651 563.89006021 340.53046853 111.30588484\n",
      "  536.85938569 556.00809347 569.12915933 475.79827658 651.09292732\n",
      "  701.07702858 210.26174165 189.23530326 634.56520548 631.31133365\n",
      "  104.21612159 401.29914029  96.33794683 570.46735226 494.87473162\n",
      "  301.24574686 198.56736892 213.19005605 422.85931467  79.07591289\n",
      "  583.33180952 748.505177   635.70826642 713.58531375  47.92702787\n",
      "  645.97523172 398.67028984 610.00327868 617.68762332 632.60256085\n",
      "  266.12027356 570.85287071 336.78628238 325.3567273  387.07234466\n",
      "  715.28735484 322.39882134 367.44115175 254.57808232 632.92495606\n",
      "  469.11405863 247.73574631 448.1350243  498.83163492 540.82899331\n",
      "  270.68062361 463.23752007 551.42089188 448.00111607 132.96992141\n",
      "  177.04519197 842.91162052 588.80387227 815.61265316 125.35549449\n",
      "  141.48498154 602.53630596 456.07017004 334.34862045 480.13019068\n",
      "  244.18230894 408.27441752 365.62959399 564.47143418 240.05207768\n",
      "  459.68793763 380.4944152  526.34304403 272.18376146 305.74662713\n",
      "  622.38251903 444.19027454 557.85481982 374.22586763 868.62189703\n",
      "  146.05478424  35.22782991 512.99220267 494.13560892 443.85245296\n",
      "  602.95936845 659.76056263 250.1539526  333.06605951 314.00636936]\n",
      " [400.58582102   0.         435.27692335 258.19372572 323.40841053\n",
      "  351.2719744  118.01694794 302.16551756 444.8685199  430.97215687\n",
      "  192.13016421  49.24428901 249.32909979 378.25123926 502.90754618\n",
      "  312.64836478 288.04513535 410.76148797 204.89265482 283.38136848\n",
      "  313.85665518 315.05713768 348.79363526 400.52465592 265.36955364\n",
      "  356.56135517 160.82288394 314.08597549 353.16285195 192.09372712\n",
      "  279.12004586 353.40911137 240.95850265 177.55280905 321.51205265\n",
      "  249.20874784 373.94785733 261.35799203 322.83277405 447.97321348\n",
      "  345.37081521 174.66825699 210.79136605 225.08887134 293.1705988\n",
      "  219.16432191 529.74899717 238.00840321 186.09674903 428.32230855\n",
      "  320.54484866 325.7299495  273.38617375 392.47547694 322.01397485\n",
      "  280.4086304  286.27609051 169.06803364 100.41912169 143.6279917\n",
      "  379.71699988 204.         360.56899478 160.11246048 521.50743044\n",
      "  245.49134404 451.98340678 202.20039565 420.80042776 278.82073094\n",
      "  390.60081925 429.41471796  68.62215386 185.06755523 126.\n",
      "  363.08125812  60.90155991  96.74709298 395.8345614  231.741235\n",
      "  156.98407563 311.6167518  179.33767033 352.63720734 291.66076184\n",
      "  396.33950093  48.02082881 240.78413569 361.80934206 481.61499146\n",
      "  497.27758848 428.54404674 146.01369799 335.1492205  328.61223349\n",
      "  202.62526989 284.04401067 210.71782079 101.60708637 167.35889579]\n",
      " [833.60002399 435.27692335   0.         303.42379603 201.35789033\n",
      "  461.67737653 531.20429215 279.30270317 713.28115074  70.17834424\n",
      "  413.09078905 416.75052489 420.90022571 704.41181137 937.89658279\n",
      "  464.00969817 408.07842384 558.02240098 481.27435003 226.97356674\n",
      "  230.86792761 706.69441769 772.60662695 558.0985576  242.53865671\n",
      "  790.79327261 512.50951211 749.2930001  561.79177637 389.78199035\n",
      "  631.86865724 745.87398399 668.72789683 507.69380536 754.82713253\n",
      "  388.31044282 161.68178623 225.94247055 210.53503271 880.27382104\n",
      "  350.1785259  482.37433597 240.77582935 257.66062951 286.04370295\n",
      "  634.71647214 727.18635851 618.94264678 548.60732769 732.40562532\n",
      "  121.74152948 661.67212424 583.80990057 762.49655737 334.05538463\n",
      "  502.83695171 666.003003   428.80531713 335.33565274 292.84979085\n",
      "  742.19202367 437.7784828  508.77106836 423.18081242 956.70267063\n",
      "  666.95727     70.49113419 292.49444439  41.14608122 713.81019886\n",
      "  821.2825336  547.28511765 377.68902552 576.58997563 365.40662282\n",
      "  737.24487112 427.44005428 476.17013766 628.60878136 653.72318301\n",
      "  453.39827966 610.1516205  335.20143198 714.36195307 640.04999805\n",
      "  471.28865889 389.81021023 418.00119617 666.02702648 104.75208828\n",
      "  931.42739921 859.546392   369.77019891 538.49141126 577.7819658\n",
      "  234.05341271 283.59301825 633.48243859 505.30188996 574.41187314]\n",
      " [630.27057682 258.19372572 303.42379603   0.         333.39016182\n",
      "  172.255624   376.08509675 371.6557547  682.82062066 341.47474284\n",
      "  124.52309023 213.23461257 117.98728745 629.64275585 719.52484321\n",
      "  489.60494279 442.64884502 599.05341999 190.79046098 314.80311307\n",
      "   82.61961026 573.01396144 520.07403319 264.46171746 310.09837149\n",
      "  560.80656202 244.13111231 535.46428452 259.51493213 363.38959809\n",
      "  533.31041617 611.04009688 430.23830606 230.72277738 553.54313292\n",
      "   85.07055895 351.19367876 289.8344355  101.78899744 678.06784321\n",
      "  448.44286147 405.10862741 117.32433678  73.24616031 369.08671068\n",
      "  384.3292859  747.11311058 345.80919594 438.63424399 675.86093244\n",
      "  248.24383175 577.76465797 515.69370754 650.48981545 422.30912848\n",
      "  487.31201504 544.25912946 372.15050719 205.10485123 197.04060495\n",
      "  637.12243721 401.76610111 543.41328655 362.35341864 734.82106666\n",
      "  496.75949915 356.62445233  65.36818798 314.84122983 505.01584134\n",
      "  578.14617529 606.14932154 247.63077353 315.9018835  291.65047574\n",
      "  621.16342455 294.81010837 346.88326567 325.9831284  408.33319728\n",
      "  179.74426277 552.48257891 311.01446912 609.69254547 545.33842703\n",
      "  548.04470621 238.51624683 115.95257651 607.00082372 394.46799617\n",
      "  695.12660717 662.24013771 118.45674316 540.4377855  552.67531155\n",
      "  159.61516219  30.01666204 391.36939073 359.09330264 325.30139871]\n",
      " [692.31495723 323.40841053 201.35789033 333.39016182   0.\n",
      "  504.68306887 387.19116725  78.00640999 514.64648061 151.85519418\n",
      "  393.93527387 327.68582514 427.57923242 514.59595801 801.88839622\n",
      "  263.42740936 207.96393918 356.97618968 452.03982125  41.40048309\n",
      "  302.20026473 536.71035019 671.26894759 592.72000135  61.07372594\n",
      "  669.80071663 452.44778704 619.40051663 574.13325979 208.0793118\n",
      "  452.5229276  574.41883674 563.04351519 457.42103144 616.52331667\n",
      "  401.69640277  57.20139858  62.29767251 289.62044127 736.2479202\n",
      "  151.78932769 307.62639679 219.53587406 261.35416584  85.28774824\n",
      "  542.23242249 525.98954362 550.56788864 380.21704328 537.70344987\n",
      "  109.28860874 476.00105042 397.21153055 581.83330946 133.3641631\n",
      "  307.05048445 493.42577963 253.07113624 232.35533134 194.32961689\n",
      "  559.95714122 252.71525478 307.41665537 250.22589794 822.40196984\n",
      "  516.90714834 170.88007491 284.52416418 164.1097194  583.00085763\n",
      "  708.97813789 347.63486592 255.06861822 500.01299983 213.60009363\n",
      "  558.98211063 290.68883707 327.02446392 635.84274786 555.09008278\n",
      "  409.39589641 419.35665012 166.17159805 533.08160726 458.90412942\n",
      "  272.80029325 275.94383486 421.25764088 473.55358725 185.18099255\n",
      "  808.6185751  713.4879116  331.29594021 338.81263259 381.06823536\n",
      "  181.60396471 331.05890714 534.07209251 360.31236448 487.62690656]\n",
      " [643.18348859 351.2719744  461.67737653 172.255624   504.68306887\n",
      "    0.         456.46467552 537.76574826 796.12310606 507.77258689\n",
      "  159.15401346 302.35244335 102.08329932 726.30709758 712.71031984\n",
      "  634.41705526 593.20991226 741.795794   171.2921481  483.73649852\n",
      "  231.05410622 641.91977692 491.94410252  96.5194281  477.18025944\n",
      "  554.4005772  247.37016797 547.48333308 118.06777715 504.92375662\n",
      "  625.85940913 675.96597548 430.04767178 223.72527796 575.00782603\n",
      "  111.39569112 523.40137562 458.05239875 251.1991242  688.44752886\n",
      "  611.42538384 522.34567099 285.85485828 243.3289954  534.11328386\n",
      "  377.27576121 876.60823633 312.21787265 535.76860677 778.16450703\n",
      "  419.90117885 673.84567966 624.65670572 726.03374577 585.02393113\n",
      "  619.57808225 623.00080257 502.19518118 340.96920682 348.42072269\n",
      "  717.52421562 535.47735713 687.32088576 492.2154     723.79140641\n",
      "  549.13204241 521.13817745 223.18826134 479.15028958 525.03428459\n",
      "  555.89297531 753.47528161 370.95147931 309.13104018 428.50904308\n",
      "  696.54289172 404.96543062 448.01785679 180.96684779 403.43524883\n",
      "  204.28411588 662.87932537 460.29772974 692.38211993 638.75660466\n",
      "  702.31403232 353.45438178 110.67520047 712.64717778 559.1287866\n",
      "  671.96800519 677.90412301 215.42516102 674.54651433 676.33275834\n",
      "  326.53483735 182.10161998 393.28615536 448.16514813 332.18217893]\n",
      " [306.21724315 118.01694794 531.20429215 376.08509675 387.19116725\n",
      "  456.46467552   0.         343.83717077 350.137116   515.8730464\n",
      "  299.78992645 163.9908534  356.45055758 270.64737205 414.90721854\n",
      "  284.50834786 281.71261953 361.50933598 294.81010837 345.82799193\n",
      "  430.78765071 197.04060495 306.61539426 492.58907824 326.11807678\n",
      "  287.12366674 229.95651763 233.31095131 438.01826446 200.60907258\n",
      "  170.         235.47823679 204.12006271 252.85766747 229.45587811\n",
      "  361.1384776  442.8916346  329.66043135 438.80861432 351.45412218\n",
      "  361.6807985  124.19742348 322.52286741 341.29898916 333.44414825\n",
      "  210.09759637 450.28213378 262.96767862  88.09086218 324.15428425\n",
      "  411.17514516 218.5497655  183.09560344 275.36339626 343.80372307\n",
      "  230.93072554 169.49926254 157.17506164 202.03960008 241.04978739\n",
      "  263.79727065 183.32484829 320.8519908  153.68799563 435.27692335\n",
      "  135.83077707 537.130338   319.90154735 511.00391388 197.06090429\n",
      "  331.34423188 387.33060814 155.2063143  215.07673049 174.09192974\n",
      "  245.8373446  103.77379245  60.46486583 468.81232919 208.95932619\n",
      "  253.14817795 220.0477221  222.26560688 237.44683615 183.00273222\n",
      "  375.34117813 149.32514859 348.19103952 262.24034777 562.42777314\n",
      "  423.15127319 329.70592958 261.96182928 279.24362123 254.89213405\n",
      "  306.86316169 402.06094065 191.21192431  26.90724809 186.19613315]\n",
      " [643.20525495 302.16551756 279.30270317 371.6557547   78.00640999\n",
      "  537.76574826 343.83717077   0.         437.63455074 228.39658491\n",
      "  410.04633884 318.03930575 451.42551988 442.24201519 754.04243912\n",
      "  185.69060289 130.69812546 279.64441707 460.72225907  62.96824597\n",
      "  355.14785653 475.01684181 641.2838685  620.02903158  61.84658438\n",
      "  630.71388125 448.07142288 576.93847159 593.93265612 148.82204138\n",
      "  386.68333297 511.50171065 533.51757234 457.05251339 569.98421031\n",
      "  429.47060435 128.31601615  83.45058418 345.57922391 685.30868957\n",
      "   81.0246876  248.19548747 254.33245959 298.4577022   10.63014581\n",
      "  519.5276701  448.38599443 538.51648071 322.49030993 462.64024901\n",
      "  179.42407865 406.23638439 327.71328932 513.98151718  58.18075283\n",
      "  232.43278598 430.88977709 195.67319694 226.88322988 198.87936042\n",
      "  491.42751246 187.72320048 229.49074055 195.2331939  775.1451477\n",
      "  466.24671581 246.52180431 314.60610293 242.05164738 540.80033284\n",
      "  673.29414077 271.84002649 234.67637291 486.12138402 179.12007146\n",
      "  492.58907824 257.73047938 283.64766877 651.96395606 529.12002419\n",
      "  414.3669871  347.05186932 125.22779244 465.2794859  391.9311164\n",
      "  198.69826371 258.2130903  444.20378206 399.9324943  256.49366464\n",
      "  766.77571688 661.82323924 344.511248   261.48996157 305.39482641\n",
      "  212.21922627 374.97333239 508.3719111  317.64760349 469.52422728]\n",
      " [445.17973898 444.8685199  713.28115074 682.82062066 514.64648061\n",
      "  796.12310606 350.137116   437.63455074   0.         666.01276264\n",
      "  636.96938702 493.79449167 694.1188659  105.99056562 538.18212531\n",
      "  252.8339376  306.93647551 193.80660463 642.60796758 486.3342472\n",
      "  712.32717202 243.40295808 572.31547245 840.8186487  471.51352048\n",
      "  507.13706234 580.07240927 449.05456239 787.7563075  336.63036108\n",
      "  188.40382162 246.71035649 504.38576506 602.79764432 416.07931936\n",
      "  691.92268354 565.45998974 490.10203019 712.61841121 462.\n",
      "  384.24601494 278.00179856 591.0642943  626.24036919 429.49854482\n",
      "  534.15821626 125.67418191 601.29526857 263.64369896  61.18823416\n",
      "  600.04083194 142.68847185 171.5109326  194.20865068 390.4830342\n",
      "  212.05895407 223.18154046 313.84709653 478.16315207 495.50882939\n",
      "  175.10282693 290.         220.07725916 323.10988843 559.39431531\n",
      "  333.18163215 684.07967372 618.32434854 678.16001062 429.33087473\n",
      "  559.65078397 224.84883811 435.64320263 559.19406292 395.38335827\n",
      "  200.99751242 393.10176799 348.14364851 818.49679291 522.01532545\n",
      "  598.05016512 133.25539389 396.04292697 174.34735444 176.23280058\n",
      "  287.27861041 447.90400757 685.55452008  89.49860334 691.59308846\n",
      "  590.35667185 439.09224543 585.8498101  176.30938716 137.29530218\n",
      "  556.7737422  702.34250904 511.28270067 351.60204778 528.92816147]\n",
      " [821.65199446 430.97215687  70.17834424 341.47474284 151.85519418\n",
      "  507.77258689 515.8730464  228.39658491 666.01276264   0.\n",
      "  439.72377693 420.19281288 455.7060456  665.67634778 928.68993749\n",
      "  413.91061837 359.08355574 502.14340581 506.32005688 185.52088831\n",
      "  277.96582524 680.33080189 776.55263827 603.2685969  203.78910668\n",
      "  787.19819614 528.09563528 741.795794   600.76368066 354.96619557\n",
      "  599.95416492 718.84977568 670.20146225 526.44657849 743.79096526\n",
      "  424.28763828 102.         192.02343607 258.80494586 867.2883027\n",
      "  292.33542379 452.19685979 258.05425786 284.7630594  236.57979626\n",
      "  640.74019696 671.36055887 633.2811382  522.23079189 689.54260202\n",
      "  112.16059914 625.84422982 547.16816428 730.13560384 279.14512355\n",
      "  458.88996502 638.07287985 397.58898375 330.93352807 287.6803782\n",
      "  708.79334083 401.47851748 455.35590476 393.30013984 948.30638509\n",
      "  650.17305389  21.26029163 317.97169685  32.24903099 705.69823579\n",
      "  821.3221049  488.89467168 367.79342028 587.55169985 343.80372307\n",
      "  706.29526404 413.42472108 457.91811495 666.88829649 657.69065677\n",
      "  473.08033144 570.54360044 305.49795417 681.5071533  607.07577781\n",
      "  412.14560534 383.53748187 451.70122869 625.1279869   54.40588203\n",
      "  927.7866134  845.55603008 388.82000977 489.88365966 532.90243009\n",
      "  239.76655313 326.09814474 636.9529025  489.22898524 581.74908681]\n",
      " [519.06165337 192.13016421 413.09078905 124.52309023 393.93527387\n",
      "  159.15401346 299.78992645 410.04633884 636.96938702 439.72377693\n",
      "    0.         143.20963655  57.24508713 568.30977468 602.65578899\n",
      "  483.04554651 445.98206242 588.46665156  68.47627326 364.66011572\n",
      "  206.55265672 490.14793685 397.3977856  217.84857126 353.70750628\n",
      "  442.88373192 122.09013064 422.98463329 184.11409506 353.81633654\n",
      "  468.13886829 525.81745882 312.3859792  106.60675401 444.89099789\n",
      "   65.12296062 426.05750786 338.18633917 224.74207439 566.32322926\n",
      "  476.53856087 363.8035184  183.70900903 155.92626463 404.47620449\n",
      "  263.94128135 718.71273816 221.38202276 377.09680455 619.58857317\n",
      "  333.91765452 515.77708363 465.50832431 572.7172077  450.32099662\n",
      "  463.3497599  468.17518089 346.48232278 193.12690129 211.56795599\n",
      "  562.80813782 380.5180679  534.95794227 336.58579887 616.92463073\n",
      "  402.71578067 457.41119357 121.84005909 417.16783193 395.18223644\n",
      "  456.82928978 602.36616771 215.92822882 194.12367192 277.00180505\n",
      "  543.11140662 246.40008117 288.87713651 242.5963726  288.87713651\n",
      "   59.48108943 503.72710866 315.29668568 536.96275476 480.95322018\n",
      "  556.43957444 196.62146373  48.75448697 553.69666786 494.07388111\n",
      "  574.31437384 552.31874855  65.9241989  518.48336521 518.01544379\n",
      "  214.021027   153.9123127  273.40811985 289.92757716 207.18349355]\n",
      " [429.78366651  49.24428901 416.75052489 213.23461257 327.68582514\n",
      "  302.35244335 163.9908534  318.03930575 493.79449167 420.19281288\n",
      "  143.20963655   0.         200.32473637 427.35114367 527.80773014\n",
      "  351.57360538 321.84623658 453.00110375 161.69724797 289.86203615\n",
      "  274.44671614 360.27211938 356.80807166 354.26684858 273.56169322\n",
      "  375.66075121 130.64838307 339.09438214 309.40103426 226.01991063\n",
      "  327.98323128 398.01130637 251.98412648 142.61837189 351.09115625\n",
      "  200.02499844 373.95454269 265.58049627 285.28231631 477.62432936\n",
      "  370.06215694 221.5039503  181.81859091 188.30825792 310.00645155\n",
      "  220.5855843  576.82666374 223.00896843 235.28068344 477.56151436\n",
      "  308.14606926 374.81328685 322.3740064  439.33131006 345.35199435\n",
      "  324.45955064 333.33016665 209.83088429  95.33624704 135.77186748\n",
      "  427.28210821 244.70594598 401.32904206 200.30227158 545.36684901\n",
      "  284.60674623 440.71986567 161.55494421 406.61775662 305.37845373\n",
      "  404.5540755  469.86381006  88.05679985 172.4093965  152.77761616\n",
      "  409.8206925  104.66135868 145.82523787 355.71055649 237.80033642\n",
      "  112.64546152 360.56899478 201.88362985 400.47222126 340.58919537\n",
      "  431.84487956  64.19501538 191.760267   411.02433018 472.67113303\n",
      "  515.80034897 459.57045162  98.00510191 379.52602019 375.79382645\n",
      "  182.98087332 240.30397417 217.2487054  149.89663105 162.33915116]\n",
      " [563.89006021 249.32909979 420.90022571 117.98728745 427.57923242\n",
      "  102.08329932 356.45055758 451.42551988 694.1188659  455.7060456\n",
      "   57.24508713 200.32473637   0.         625.41266377 642.43054099\n",
      "  535.74060888 496.60144986 642.20868882  90.62008607 401.80841206\n",
      "  198.13379318 545.26507315 429.8953361  169.04733065 392.78747434\n",
      "  482.45725199 162.60688792 467.55213613 147.48898264 406.20807476\n",
      "  525.16378398 580.39383181 353.37515476 141.90842117 491.75705384\n",
      "   33.10589071 454.13654334 375.47436664 218.24756585 610.5481144\n",
      "  521.45181944 420.3546122  209.61870146 173.00289015 446.70571969\n",
      "  302.48305738 774.88386227 249.17664417 434.31900718 676.80499407\n",
      "  356.         572.89178734 522.68250401 628.41546766 495.06565221\n",
      "  518.53640181 524.32146628 401.31907505 243.21389763 255.88278567\n",
      "  618.96041877 434.9678149  588.18789515 391.36811316 655.54633703\n",
      "  455.75102852 471.83895558 144.00694428 430.40910771 441.72615952\n",
      "  491.61977177 655.03129696 270.20732781 232.00215516 329.44347011\n",
      "  598.83303182 302.95214143 346.070802   212.03773249 328.29407549\n",
      "  108.37435121 560.88858074 364.48456757 593.329588   538.00092937\n",
      "  606.58057997 251.97817366   8.60232527 610.94107736 509.40357282\n",
      "  609.26184847 597.81351607 115.52056094 573.60090655 574.42928198\n",
      "  246.         142.23923509 314.87934197 347.05186932 249.90398156]\n",
      " [340.53046853 378.25123926 704.41181137 629.64275585 514.59595801\n",
      "  726.30709758 270.64737205 442.24201519 105.99056562 665.67634778\n",
      "  568.30977468 427.35114367 625.41266377   0.         436.74477673\n",
      "  271.90623384 316.84065396 254.33245959 565.22650327 480.54240188\n",
      "  669.66857474 137.56816492 467.58635566 762.50245901 463.1857079\n",
      "  401.24057621 497.84535752 343.47052275 706.41206105 314.96348995\n",
      "  100.64790112 142.05632686 404.2091043  521.47195514 310.16124839\n",
      "  627.35715506 569.55860102 478.53317544 672.8603124  359.86942076\n",
      "  405.80906841 232.01939574 550.31354699 580.60744053 432.69504273\n",
      "  437.54885442 231.14497615 507.73418242 192.27584352  56.72741841\n",
      "  585.42719445  52.55473337 121.69634341  97.14422268 405.12343798\n",
      "  211.12318679 121.60592091 280.11783235 430.27665519 455.43934832\n",
      "   74.46475676 266.73207531 258.89766318 287.62823227 458.31430264\n",
      "  230.86792761 685.2743976  567.42664724 672.96730976 324.8399606\n",
      "  453.71025997 288.64684305 383.71994996 469.04583998 357.00140056\n",
      "   97.12878049 334.83279409 283.65119425 731.98702174 423.44539199\n",
      "  523.69647698  95.27329112 371.94085551  68.59300256  87.658428\n",
      "  333.51611655 391.12657798 617.01296583  46.69047012 698.40174685\n",
      "  486.23142638 336.38073667 523.71939051 201.6754819  146.21901381\n",
      "  521.0345478  652.13572207 414.3428532  278.38462601 438.56698462]\n",
      " [111.30588484 502.90754618 937.89658279 719.52484321 801.88839622\n",
      "  712.71031984 414.90721854 754.04243912 538.18212531 928.68993749\n",
      "  602.65578899 527.80773014 642.43054099 436.74477673   0.\n",
      "  646.98145259 667.12667463 674.76588533 552.20014488 760.57675484\n",
      "  793.8828629  314.60610293 225.07998578 691.0455846  740.82724032\n",
      "  160.01249951 481.36888142 189.02380802 627.40736368 605.90428287\n",
      "  408.56823176 296.13848112 290.27056344 500.63259982 185.45619429\n",
      "  665.09021944 857.77677749 744.52669529 807.66639153  77.27871635\n",
      "  757.24830802 509.96568512 709.47374863 713.63085696 743.45208319\n",
      "  339.97794046 663.00075415 400.52465592 436.64630996 478.00418408\n",
      "  820.98781964 425.20583251 475.71419991 344.03633529 744.22644403\n",
      "  578.93436588 354.80980821 559.21731018 602.56120021 645.1829198\n",
      "  363.55054669 574.54329689 659.71054259 558.92038789  22.13594362\n",
      "  288.17008866 949.93105013 683.10540914 921.47327688 224.10934831\n",
      "  161.01242188 708.57674249 561.55943586 410.49482335 588.99235988\n",
      "  339.70575503 515.48520832 474.87682613 610.43345256 314.33103569\n",
      "  543.35991755 486.15326801 636.21537234 370.12565434 411.96359062\n",
      "  731.52785319 548.12589795 637.2479894  474.34375721 976.52086511\n",
      "   74.27651042 101.63660758 604.66519662 601.79149213 550.12907576\n",
      "  705.43674415 749.41643964 329.25673873 441.81444069 395.53634473]\n",
      " [536.85938569 312.64836478 464.00969817 489.60494279 263.42740936\n",
      "  634.41705526 284.50834786 185.69060289 252.8339376  413.91061837\n",
      "  483.04554651 351.57360538 535.74060888 271.90623384 646.98145259\n",
      "    0.          56.22277119 109.55363983 513.15689609 238.67970169\n",
      "  498.663213   339.62332075 587.10476067 700.68323799 226.27416998\n",
      "  552.85169802 473.15219539 492.97565863 660.09469018 129.55693729\n",
      "  243.52617929 370.03378224 488.10244826 490.15915783 474.8905137\n",
      "  523.27621769 312.8609915  246.95141223 494.41885077 572.07079981\n",
      "  134.64768843 160.31219542 380.72824954 422.15636913 178.17968459\n",
      "  493.0415804  269.5199436  536.73922905 219.49259669 282.97879779\n",
      "  356.11514992 246.78938389 175.88916965 356.42671056 137.9275172\n",
      "   68.60029154 295.84624385 143.7810836  293.47061182 292.60553652\n",
      "  332.44849225 109.20164834  53.82378656 152.54179755 669.02391587\n",
      "  366.89099199 431.62252027 424.84820819 427.51608157 460.10868281\n",
      "  602.35869712 119.33147112 267.83950418 484.75663998 206.30317496\n",
      "  340.65378319 251.92459189 239.49321494 707.12516572 493.38929863\n",
      "  463.96228295 181.15739013 178.67568385 309.82898509 244.01844193\n",
      "   91.00549434 289.27668416 527.37083727 226.33824246 438.78240621\n",
      "  675.49833456 547.4422344  420.22018038  76.65507159 126.76355943\n",
      "  340.54368295 502.28477978 475.23152252 266.30996977 459.62811054]\n",
      " [556.00809347 288.04513535 408.07842384 442.64884502 207.96393918\n",
      "  593.20991226 281.71261953 130.69812546 306.93647551 359.08355574\n",
      "  445.98206242 321.84623658 496.60144986 316.84065396 667.12667463\n",
      "   56.22277119   0.         161.13658802 481.65651662 182.46369502\n",
      "  447.02125229 368.49016269 588.23889705 663.72434037 170.15581095\n",
      "  561.77753604 448.43951655 503.4600282  626.50299281  96.13532129\n",
      "  274.44853798 401.88555585 485.18553152 463.49217901 489.24840317\n",
      "  481.81427957 258.69866641 191.02355876 441.87441655 594.07911931\n",
      "   92.6984358  161.68178623 330.96978714 373.40192822 122.69066794\n",
      "  484.05061719 325.01076905 520.72449529 231.40008643 333.32566658\n",
      "  299.95499662 285.80062981 209.69024775 395.46554844  88.32326987\n",
      "  105.81587783 323.93826572 127.00393695 253.4284909  246.80559151\n",
      "  372.00134408  98.47842403 106.28264204 133.30416348 688.94121665\n",
      "  381.36596597 377.18032823 378.71493237 371.90993533 469.012793\n",
      "  609.30862459 163.80781422 234.82972555 467.8888757  170.41713529\n",
      "  376.94827231 229.29675096 229.05457865 676.71929188 487.37049562\n",
      "  432.4835257  222.81157959 133.05637903 347.50683447 277.24357522\n",
      "  110.63905278 257.89920512 488.41478274 272.83694764 385.84582413\n",
      "  690.0818792  569.71922909 381.52588379 130.86252328 175.84083712\n",
      "  289.84996119 453.60004409 468.10682541 259.84995671 444.93257916]\n",
      " [569.12915933 410.76148797 558.02240098 599.05341999 356.97618968\n",
      "  741.795794   361.50933598 279.64441707 193.80660463 502.14340581\n",
      "  588.46665156 453.00110375 642.20868882 254.33245959 674.76588533\n",
      "  109.55363983 161.13658802   0.         614.49491454 338.35188783\n",
      "  607.59279127 360.16940459 649.33350445 805.37258458 328.44177566\n",
      "  603.2685969  568.95078873 542.26653963 762.40212487 237.34573938\n",
      "  268.30765923 381.74467907 558.21322091 587.57978182 517.95849255\n",
      "  630.96751105 400.17995952 350.11569516 602.84658081 597.71648798\n",
      "  210.00952359 242.98559628 490.16323812 531.70104382 274.17147919\n",
      "  571.15321937 169.29559947 622.68531378 281.8386063  242.58812832\n",
      "  456.94638635 250.78476828 205.24375752 350.2941621  223.98660674\n",
      "  132.42356286 321.46072855 243.21389763 401.31907505 402.0199\n",
      "  326.49655435 208.49220609  55.75840744 252.85766747 696.85364317\n",
      "  414.09781453 518.00386099 534.20033695 519.54210609 513.02436589\n",
      "  655.06182914  34.43835072 372.54261501 572.3853597  313.3129426\n",
      "  343.10494022 350.0228564  327.39731215 806.58291576 567.62047179\n",
      "  565.61559384 188.73261509 288.20999289 310.93407661 263.38754716\n",
      "   96.76776323 392.68944473 633.75862913 208.94257584 519.54210609\n",
      "  713.49281706 573.17100415 526.83299061  82.76472679 125.44720005\n",
      "  449.75104224 611.83657949 551.29393249 348.56993559 545.2228902 ]\n",
      " [475.79827658 204.89265482 481.27435003 190.79046098 452.03982125\n",
      "  171.2921481  294.81010837 460.72225907 642.60796758 506.32005688\n",
      "   68.47627326 161.69724797  90.62008607 565.22650327 552.20014488\n",
      "  513.15689609 481.65651662 614.49491454   0.         420.14521299\n",
      "  273.35873866 473.07716073 339.44955443 198.21453024 407.49233122\n",
      "  392.31237554  76.1642961  379.55895458 148.27339613 386.52942967\n",
      "  464.64287361 506.17487097 263.97348352  53.08483776 405.39980266\n",
      "  117.04699911 487.64331227 393.85911187 292.06163733 522.01245196\n",
      "  522.01532545 379.2228896  248.85337048 223.7722056  454.2092029\n",
      "  212.46176127 733.42007063 159.32670837 379.08442331 618.96122657\n",
      "  398.94360504 513.3078998  471.96292227 557.98387073 496.28419278\n",
      "  485.07731343 456.82053369 371.44178548 235.8495283  262.48047546\n",
      "  550.78489449 406.35575547 563.02131398 361.96270526 565.10618471\n",
      "  378.44021985 524.37009831 189.25643978 484.48735794 355.31676009\n",
      "  401.01122179 631.55839002 246.86838599 142.20056259 311.31495306\n",
      "  528.68232427 264.8773301  297.88084866 195.15122341 238.43028331\n",
      "   49.24428901 510.09802979 355.92836358 526.56243694 477.67038845\n",
      "  592.12160913 224.26992665  86.31338251 556.12678411 560.72096447\n",
      "  518.66366751 510.08332653 121.26417443 539.94258954 532.46314426\n",
      "  275.63744303 219.31712199 225.88713996 291.00687277 162.30834852]\n",
      " [651.09292732 283.38136848 226.97356674 314.80311307  41.40048309\n",
      "  483.73649852 345.82799193  62.96824597 486.3342472  185.52088831\n",
      "  364.66011572 289.86203615 401.80841206 480.54240188 760.57675484\n",
      "  238.67970169 182.46369502 338.35188783 420.14521299   0.\n",
      "  293.45698152 497.61832764 630.63460102 569.01405958  19.79898987\n",
      "  628.47832103 416.43847085 578.00086505 546.9488093  169.95587663\n",
      "  415.01445758 535.62766919 522.38300125 422.5730706  575.19127253\n",
      "  377.71153014  97.62171889  26.47640459 283.27018904 695.1467471\n",
      "  143.95138068 268.60379744 198.11612756 241.66091947  65.3911309\n",
      "  502.45994865 505.89030432 512.86352961 340.48935372 506.18672444\n",
      "  118.60016863 440.32374453 361.65867887 544.91834251 120.83045974\n",
      "  276.06158733 454.65701358 213.9088591  194.81529714 159.07859693\n",
      "  523.41379424 216.0023148  286.22543563 210.54453211 781.06401786\n",
      "  475.88759177 205.62587386 261.09002279 192.98186443 541.60132939\n",
      "  667.84728793 332.71008401 214.85343842 461.80623642 172.20046458\n",
      "  521.46044912 249.41932563 285.70089254 607.23142211 514.85629063\n",
      "  376.06515393 385.57230191 125.25573839 496.23583103 421.85898118\n",
      "  260.86394921 236.24775131 395.049364   440.69150207 223.34278587\n",
      "  767.23529637 672.45892068 300.54117854 312.00641019 350.89742091\n",
      "  157.30861388 315.97784732 493.85119216 318.94356868 448.55545922]\n",
      " [701.07702858 313.85665518 230.86792761  82.61961026 302.20026473\n",
      "  231.05410622 430.78765071 355.14785653 712.32717202 277.96582524\n",
      "  206.55265672 274.44671614 198.13379318 669.66857474 793.8828629\n",
      "  498.663213   447.02125229 607.59279127 273.35873866 293.45698152\n",
      "    0.         626.97448114 599.40053387 327.34385591 293.98129192\n",
      "  636.42281543 324.07715131 607.63475872 332.52067605 380.2762154\n",
      "  577.4582236  665.90389697 506.43558327 312.01442274 623.20462129\n",
      "  165.06059493 307.24745727 271.82715096  20.61552813 749.00066756\n",
      "  435.5743335  439.14120736 121.29715578  90.04998612 354.93802276\n",
      "  462.39052758 764.47367515 427.28210821 483.12524256 712.023876\n",
      "  201.69531477 619.10419155 551.28395587 700.31492916 410.64948557\n",
      "  507.60713155 594.65956647 398.48964855 239.6038397  216.84326137\n",
      "  685.0029197  423.85138905 552.00362318 389.3096454  809.90122855\n",
      "  558.4012894  290.49784853 112.92918135 248.58197843 575.78207683\n",
      "  656.22023742 610.04999795 287.17416318 395.21639642 317.0520462\n",
      "  671.54299937 339.00589965 393.06233602 399.4608867  485.6686113\n",
      "  259.78837541 586.29770595 322.76926743 657.00304413 588.76480873\n",
      "  545.3191726  284.34486104 197.09134938 642.47334575 328.44025332\n",
      "  772.5652076  732.03825037 189.23530326 557.82882679 577.76465797\n",
      "  158.49605673  55.90169944 467.8888757  410.67018397 402.45372405]\n",
      " [210.26174165 315.05713768 706.69441769 573.01396144 536.71035019\n",
      "  641.91977692 197.04060495 475.01684181 243.40295808 680.33080189\n",
      "  490.14793685 360.27211938 545.26507315 137.56816492 314.60610293\n",
      "  339.62332075 368.49016269 360.16940459 473.07716073 497.61832764\n",
      "  626.97448114   0.         330.96827643 664.55774768 478.28025257\n",
      "  263.73661103 399.83121439 205.99271832 604.70571355 328.8662342\n",
      "   96.25487001  39.56008089 275.86228448 424.16977733 172.69916039\n",
      "  553.56481102 593.87709166 488.32878269 634.19397663 237.64048477\n",
      "  461.08784413 229.09386722 515.45901874 537.1405775  464.52125893\n",
      "  315.35694062 367.8056552  389.60621145 158.31929762 191.0942176\n",
      "  584.95298956 112.21853679 164.24676557  85.88364221 452.68973923\n",
      "  271.04612154  44.59820624 283.73403039 392.82184257 427.65640414\n",
      "   84.86459804 287.32733946 346.78091066 287.27164844 336.70313334\n",
      "  103.07764064 701.17758093 516.75913151 681.12407093 189.02909829\n",
      "  316.28468189 393.97461847 344.39802555 357.96787565 341.5391632\n",
      "   58.00862005 291.04295216 237.22773868 621.90835338 297.8338463\n",
      "  438.01940596 171.56339936 374.8346302   71.11961755  97.86214794\n",
      "  420.00238095 343.23315691 537.37882355 165.30275255 720.95076115\n",
      "  356.02528    213.04694318 457.85696456 288.20131853 235.63743336\n",
      "  495.04141241 599.10099316 292.06334929 216.33538777 328.10059433]\n",
      " [189.23530326 348.79363526 772.60662695 520.07403319 671.26894759\n",
      "  491.94410252 306.61539426 641.2838685  572.31547245 776.55263827\n",
      "  397.3977856  356.80807166 429.8953361  467.58635566 225.07998578\n",
      "  587.10476067 588.23889705 649.33350445 339.44955443 630.63460102\n",
      "  599.40053387 330.96827643   0.         466.09977473 611.97712376\n",
      "   85.23496935 275.96557756 127.31457104 402.61271714 505.20193982\n",
      "  394.12307722 339.84261063 108.25894882 291.23873369 164.80594649\n",
      "  455.82672146 722.66866543 609.59412727 615.5209176  222.30834442\n",
      "  667.25257587 428.47637041 533.52600686 528.04924013 631.37310681\n",
      "  138.6001443  694.13615379 181.43042744 370.01216196 522.02777704\n",
      "  664.7119677  432.28347181 446.75384721 403.29145788 648.15121692\n",
      "  527.00094877 350.0814191  463.42744847 446.60609042 489.53242998\n",
      "  411.67219969 489.77647963 617.05186168 459.24394389 233.56583654\n",
      "  241.62988226 797.22644211 494.63117573 763.42517643 143.02447343\n",
      "   64.49806199 679.17891604 416.4252634  204.247399   462.75371419\n",
      "  383.02088716 383.83590244 362.59205728 386.09066293 119.01680554\n",
      "  340.3307215  473.0517942  516.15210936 402.05720986 403.71400768\n",
      "  678.01032441 396.78835668 425.75579855 487.93954544 828.45518889\n",
      "  180.24982663 222.38030488 413.36303657 567.27418415 528.20923884\n",
      "  539.58687901 550.00545452 139.61733417 329.73474188 199.42417105]\n",
      " [634.56520548 400.52465592 558.0985576  264.46171746 592.72000135\n",
      "   96.5194281  492.58907824 620.02903158 840.8186487  603.2685969\n",
      "  217.84857126 354.26684858 169.04733065 762.50245901 691.0455846\n",
      "  700.68323799 663.72434037 805.37258458 198.21453024 569.01405958\n",
      "  327.34385591 664.55774768 466.09977473   0.         560.81101986\n",
      "  538.13381236 265.66896695 541.93911097  64.12487817 571.60125962\n",
      "  662.07552439 695.43799148 424.166241   241.5884931  573.60788\n",
      "  191.32433196 614.82436516 542.85909774 347.57589099 677.06720494\n",
      "  690.49909486 575.14954577 373.2090567  332.56728642 615.50385864\n",
      "  371.7270504  930.23975404 297.94630389 577.29368609 816.66639456\n",
      "  512.66460771 710.83612739 670.07462271 750.24062807 664.11218932\n",
      "  678.46960138 651.64560921 562.55488621 410.50213154 424.90587193\n",
      "  744.66435392 596.99581238 752.29914263 552.76758226 699.4926733\n",
      "  565.89928433 617.00324148 308.35855753 575.00347825 525.00380951\n",
      "  530.51013185 819.9640236  433.0738967  311.40006423 494.81309603\n",
      "  721.34319155 458.91284576 495.26154706 100.60318086 396.87277558\n",
      "  243.83601047 708.24077827 532.43778979 721.39101741 675.11332382\n",
      "  774.08591254 412.71055232 176.70597047 754.26918272 655.00305343\n",
      "  642.19701027 669.78354713 282.39688384 733.59730098 729.11041688\n",
      "  412.04490047 277.18044664 391.47158262 489.21978701 339.31254029]\n",
      " [631.31133365 265.36955364 242.53865671 310.09837149  61.07372594\n",
      "  477.18025944 326.11807678  61.84658438 471.51352048 203.78910668\n",
      "  353.70750628 273.56169322 392.78747434 463.1857079  740.82724032\n",
      "  226.27416998 170.15581095 328.44177566 407.49233122  19.79898987\n",
      "  293.98129192 478.28025257 611.97712376 560.81101986   0.\n",
      "  609.0886635  401.19945164 558.41292965 536.8472781  151.21177203\n",
      "  396.27389518 516.38454663 503.71817517 408.07842384 555.45386847\n",
      "  369.77019891 117.41379817  22.47220505 285.04385627 675.34953913\n",
      "  141.59802259 249.3591787  192.81597444 236.8628295   60.95900262\n",
      "  484.53070078 494.83835745 496.41212717 320.97507691 489.91121645\n",
      "  129.86916493 422.30912848 343.75718174 526.36109279 116.82465493\n",
      "  260.403533   435.43656254 194.65096969 179.01117284 145.27904185\n",
      "  505.00891081 197.80040445 275.30528509 191.0942176  761.33107122\n",
      "  456.08880714 224.12942689 254.02362095 209.80467106 522.01532545\n",
      "  648.70640509 324.61669704 196.75873551 445.0404476  152.63354808\n",
      "  502.67782923 230.15212361 265.9567634  596.24994759 496.55714676\n",
      "  362.60860442 368.41552627 105.47511555 477.72167629 403.29765682\n",
      "  254.67233851 218.57950499 385.79787454 423.88323864 242.68910153\n",
      "  747.71786123 652.65994208 288.90309794 298.24151287 335.43553777\n",
      "  150.95032295 313.12936624 475.56808135 299.24070579 431.17745767]\n",
      " [104.21612159 356.56135517 790.79327261 560.80656202 669.80071663\n",
      "  554.4005772  287.12366674 630.71388125 507.13706234 787.19819614\n",
      "  442.88373192 375.66075121 482.45725199 401.24057621 160.01249951\n",
      "  552.85169802 561.77753604 603.2685969  392.31237554 628.47832103\n",
      "  636.42281543 263.73661103  85.23496935 538.13381236 609.0886635\n",
      "    0.         321.40939625  61.00819617 474.06750574 487.16732239\n",
      "  338.8509997  266.32686684 130.67899602 340.63029812  91.0933587\n",
      "  505.11087892 723.88189644 609.84260264 650.83715321 140.42791745\n",
      "  646.53615521 400.10623589 557.22975513 558.31263643 620.37811051\n",
      "  179.98055451 631.32400556 242.99794238 333.43065246 453.52397952\n",
      "  677.10338945 371.55349548 398.08039389 328.70199269 629.92459866\n",
      "  488.63585624 289.91378029 442.33019341 456.96827023 500.18896429\n",
      "  339.69545184 464.22408382 576.67495177 439.87725561 174.13213374\n",
      "  189.21416437 808.28274756 526.82919433 777.34483982  92.89241088\n",
      "   52.77309921 634.8582519  419.97738034 250.49151682 456.65304116\n",
      "  311.23624468 379.1635531  347.07924167 463.78119841 154.32433379\n",
      "  383.69258528 419.68678797 507.68691139 333.6240399  346.77081769\n",
      "  642.48657574 403.68552117 477.24312462 426.75754241 837.10513079\n",
      "  140.7302384  137.99275343 447.2940867  523.17205583 479.00104384\n",
      "  556.87072108 590.76983674 169.66437458 313.08145905 235.9682182 ]\n",
      " [401.29914029 160.82288394 512.50951211 244.13111231 452.44778704\n",
      "  247.37016797 229.95651763 448.07142288 580.07240927 528.09563528\n",
      "  122.09013064 130.64838307 162.60688792 497.84535752 481.36888142\n",
      "  473.15219539 448.43951655 568.95078873  76.1642961  416.43847085\n",
      "  324.07715131 399.83121439 275.96557756 265.66896695 401.19945164\n",
      "  321.40939625   0.         304.96229275 208.5857138  352.32371479\n",
      "  397.81905435 431.98379599 191.37659209  24.35159132 329.80297148\n",
      "  183.73078131 494.78985438 391.20838437 340.8240015  447.94642537\n",
      "  500.50074925 327.83074902 272.2590678  258.31182706 440.25560757\n",
      "  141.94717327 676.91801572 106.50821565 316.9858041  552.65540801\n",
      "  416.92325433 446.64527312 411.55801535 485.23911631 475.92541432\n",
      "  437.16472868 385.97668323 329.38731002 222.32408776 258.11818998\n",
      "  479.12941884 364.16479786 520.13267538 320.65557846 495.25952792\n",
      "  303.4633421  547.52260227 223.68057582 509.86762988 279.71592733\n",
      "  334.80292711 589.01358219 217.99311916  72.06941099 282.02836737\n",
      "  456.16225184 221.25324856 243.6554945  240.46829313 167.14065933\n",
      "   64.40496875 449.17368578 332.34018716 455.7246976  410.84546973\n",
      "  557.12924892 193.82982227 156.73225577 492.10771179 582.10394261\n",
      "  452.23998054 435.29530207 143.22011032 490.95111773 477.46204038\n",
      "  289.13145799 274.04561664 152.61061562 230.62523713  87.29833904]\n",
      " [ 96.33794683 314.08597549 749.2930001  535.46428452 619.40051663\n",
      "  547.48333308 233.31095131 576.93847159 449.05456239 741.795794\n",
      "  422.98463329 339.09438214 467.55213613 343.47052275 189.02380802\n",
      "  492.97565863 503.4600282  542.26653963 379.55895458 578.00086505\n",
      "  607.63475872 205.99271832 127.31457104 541.93911097 558.41292965\n",
      "   61.00819617 304.96229275   0.         478.00627611 431.56691254\n",
      "  278.12587079 212.65935202 118.20744477 326.58383304  38.20994635\n",
      "  487.12318771 674.38045642 560.50869752 620.74551952 143.33875959\n",
      "  589.46161877 342.00146199 520.59677294 525.7803724  566.49536627\n",
      "  171.18703222 572.54519472 244.13520844 273.83571717 396.85009764\n",
      "  633.1484818  311.84932259 337.07269246 276.03079538 573.62095499\n",
      "  428.26743981 229.86952821 386.03885815 414.01690787 456.83366776\n",
      "  284.94385412 406.50953248 515.98449589 384.15882132 207.4222746\n",
      "  128.24975634 762.99475752 495.96068393 733.64092034  36.40054945\n",
      "  113.28283189 573.89284714 374.06015559 238.41140912 405.80044357\n",
      "  256.30060476 329.95908837 293.75159574 476.24048547 145.41664279\n",
      "  363.5629244  358.87184342 455.41190147 276.69658473 286.27259736\n",
      "  582.29288163 359.75547251 461.52464723 367.2710171  790.53715915\n",
      "  189.85520799 130.55267136 418.86752082 462.25209572 418.00478466\n",
      "  516.50072604 565.10618471 154.20765221 259.88074188 217.67177125]\n",
      " [570.46735226 353.16285195 561.79177637 259.51493213 574.13325979\n",
      "  118.06777715 438.01826446 593.93265612 787.7563075  600.76368066\n",
      "  184.11409506 309.40103426 147.48898264 706.41206105 627.40736368\n",
      "  660.09469018 626.50299281 762.40212487 148.27339613 546.9488093\n",
      "  332.52067605 604.70571355 402.61271714  64.12487817 536.8472781\n",
      "  474.06750574 208.5857138  478.00627611   0.         532.35326617\n",
      "  606.39920844 634.73616566 360.37341744 185.2052915  509.92744582\n",
      "  177.01129907 601.61200121 520.49975985 353.13595116 612.94371683\n",
      "  660.51873554 527.37557774 357.02801011 320.18900668 588.50063721\n",
      "  308.09901006 881.05958936 233.93161394 524.18698954 761.23058268\n",
      "  503.14312079 655.22515214 618.05501373 690.53964405 634.34139074\n",
      "  633.30956096 593.50652903 519.21864373 375.76588456 395.66778995\n",
      "  685.7674533  554.05775872 710.52234307 509.65086088 636.12734574\n",
      "  505.00891081 616.12742189 291.44639301 574.35616128 461.52464723\n",
      "  467.07708143 778.87418753 392.62322906 249.22680434 456.21924554\n",
      "  661.87612134 413.08715787 445.47951693  66.94027188 333.08857681\n",
      "  196.8146336  655.99771341 497.7650048  663.10557229 619.42715472\n",
      "  737.14109911 370.81801466 153.18289722 700.25281149 653.9457164\n",
      "  579.51100076 605.68803851 250.         688.2012787  680.2896442\n",
      "  392.58756985 278.28941769 328.16154558 436.68753131 277.80028798]\n",
      " [494.87473162 192.09372712 389.78199035 363.38959809 208.0793118\n",
      "  504.92375662 200.60907258 148.82204138 336.63036108 354.96619557\n",
      "  353.81633654 226.01991063 406.20807476 314.96348995 605.90428287\n",
      "  129.55693729  96.13532129 237.34573938 386.52942967 169.95587663\n",
      "  380.2762154  328.8662342  505.20193982 571.60125962 151.21177203\n",
      "  487.16732239 352.32371479 431.56691254 532.35326617   0.\n",
      "  245.07957891 366.37958458 399.49092605 367.39216105 422.62276323\n",
      "  393.86418979 265.1584432  164.43843833 378.63570883 536.61531845\n",
      "  162.18816233 100.12492197 259.61702564 298.73901653 138.19189557\n",
      "  393.73214245 385.09479352 426.48798342 174.         346.46789173\n",
      "  270.47550721 272.02941017 194.03092537 375.17062785 143.25152704\n",
      "  127.48725426 285.39446386  46.86149806 164.07315442 166.96406799\n",
      "  353.93926033  48.37354649 182.45547402  47.41307836 627.14751056\n",
      "  317.83328963 375.34117813 298.15599944 359.56779611 395.80929752\n",
      "  531.95206551 248.82323043 139.7891269  373.48360071  76.83749085\n",
      "  351.51102401 134.21251805 142.61837189 581.38197426 399.14408426\n",
      "  337.295123   221.65062599  59.41380311 326.55933611 252.1150531\n",
      "  205.82759776 162.33915116 397.85047442 278.31277369 392.94910612\n",
      "  621.0032206  513.06334892 290.68883707 178.03651311 199.74483723\n",
      "  222.33533232 378.13357428 379.2228896  175.8635835  351.56933882]\n",
      " [301.24574686 279.12004586 631.86865724 533.31041617 452.5229276\n",
      "  625.85940913 170.         386.68333297 188.40382162 599.95416492\n",
      "  468.13886829 327.98323128 525.16378398 100.64790112 408.56823176\n",
      "  243.52617929 274.44853798 268.30765923 464.64287361 415.01445758\n",
      "  577.4582236   96.25487001 394.12307722 662.07552439 396.27389518\n",
      "  338.8509997  397.81905435 278.12587079 606.39920844 245.07957891\n",
      "    0.         127.47548784 317.97012438 421.3039283  251.01792765\n",
      "  527.78878351 509.28675616 408.62696925 582.00773191 332.17465286\n",
      "  367.14166203 149.6161756  460.08803505 487.69355132 376.38411231\n",
      "  345.89160152 302.90922733 413.05205483  94.76286192 154.84185481\n",
      "  510.72986989  48.82622246  68.         130.63307391 360.22354171\n",
      "  175.0114282   53.75872022 203.18464509 338.05325024 366.99455037\n",
      "  110.85576214 199.96999775 251.28867861 208.71032557 430.70407474\n",
      "  152.61061562 620.3942295  472.33145142 603.51056329 252.41434191\n",
      "  391.39366372 301.43821921 290.29123307 371.9381669  272.2645772\n",
      "  106.47065323 239.30942313 186.42961138 633.43902627 334.43085982\n",
      "  423.06500683  81.         296.71872202  82.71033793  13.03840481\n",
      "  324.00771596 295.32693748 516.79493032  99.04544412 637.67154555\n",
      "  445.19321648 307.48333288 425.02235235 193.22784478 142.86357128\n",
      "  433.94124026 556.80607037 323.11298334 178.39282497 341.5391632 ]\n",
      " [198.56736892 353.40911137 745.87398399 611.04009688 574.41883674\n",
      "  675.96597548 235.47823679 511.50171065 246.71035649 718.84977568\n",
      "  525.81745882 398.01130637 580.39383181 142.05632686 296.13848112\n",
      "  370.03378224 401.88555585 381.74467907 506.17487097 535.62766919\n",
      "  665.90389697  39.56008089 339.84261063 695.43799148 516.38454663\n",
      "  266.32686684 431.98379599 212.65935202 634.73616566 366.37958458\n",
      "  127.47548784   0.         296.15029968 456.32992451 176.2384748\n",
      "  589.66176746 631.53226363 526.8263471  673.31493374 218.9292123\n",
      "  494.5836633  267.02996087 554.83420947 576.14668271 501.06386818\n",
      "  339.20642683 372.37615391 414.77945947 197.30686759 189.48878595\n",
      "  624.13540198 130.97327972 194.20092688  63.60031446 487.25865821\n",
      "  301.80954259  80.99382693 321.73591655 432.26149493 467.20980298\n",
      "   73.68174808 323.81785003 373.06299736 325.59176894 317.95597179\n",
      "  129.76902558 739.6411292  555.37104714 720.0173609  202.07176943\n",
      "  317.72472362 415.98677864 383.8606518  386.42981251 380.86480541\n",
      "   45.89117562 330.49810892 276.74175688 649.11093043 319.8030644\n",
      "  472.64574472 195.45076106 413.41504569  74.16872656 126.01587202\n",
      "  447.28179037 382.42384863 572.62291257 178.21335528 758.96310846\n",
      "  344.17582716 195.02820309 495.29183317 313.96974377 259.53805116\n",
      "  534.58862689 637.37979259 316.18349103 255.40947516 357.11202724]\n",
      " [213.19005605 240.95850265 668.72789683 430.23830606 563.04351519\n",
      "  430.04767178 204.12006271 533.51757234 504.38576506 670.20146225\n",
      "  312.3859792  251.98412648 353.37515476 404.2091043  290.27056344\n",
      "  488.10244826 485.18553152 558.21322091 263.97348352 522.38300125\n",
      "  506.43558327 275.86228448 108.25894882 424.166241   503.71817517\n",
      "  130.67899602 191.37659209 118.20744477 360.37341744 399.49092605\n",
      "  317.97012438 296.15029968   0.         211.51832072 149.68299837\n",
      "  375.06532764 614.62996998 501.42297514 521.23123467 258.5207922\n",
      "  561.67784361 328.         431.66885456 430.         523.67929117\n",
      "   53.00943312 620.79062493 127.09445307 276.37836384 460.69187099\n",
      "  558.6859583  361.70844613 361.46507438 358.26805607 541.91143188\n",
      "  431.35368319 282.64642223 359.08912543 339.57178917 382.68786236\n",
      "  360.66882316 387.08784533 521.80168647 354.29507476 304.80977675\n",
      "  174.14074767 691.00651227 397.81905435 658.00455925 102.52804494\n",
      "  152.76125163 586.3411976  308.30180019 121.82364303 354.75202607\n",
      "  333.05404967 275.87315926 257.28777662 362.0082872   27.29468813\n",
      "  253.10274594 392.01275489 408.31482951 344.81589291 329.23699671\n",
      "  579.06994396 288.97923801 347.84479298 416.20307543 721.6716705\n",
      "  266.67208328 248.0503981  317.60510071 475.47870615 441.61634934\n",
      "  434.90918592 460.21951284  39.         225.39077177 105.30906894]\n",
      " [422.85931467 177.55280905 507.69380536 230.72277738 457.42103144\n",
      "  223.72527796 252.85766747 457.05251339 602.79764432 526.44657849\n",
      "  106.60675401 142.61837189 141.90842117 521.47195514 500.63259982\n",
      "  490.15915783 463.49217901 587.57978182  53.08483776 422.5730706\n",
      "  312.01442274 424.16977733 291.23873369 241.5884931  408.07842384\n",
      "  340.63029812  24.35159132 326.58383304 185.2052915  367.39216105\n",
      "  421.3039283  456.32992451 211.51832072   0.         352.31945731\n",
      "  165.19685227 497.7650048  396.91938728 329.51176003 469.19612104\n",
      "  512.26750824 347.61472926 268.97211751 251.2846991  449.60871878\n",
      "  160.65490967 698.35306257 115.27792503 339.41272811 576.10849673\n",
      "  416.19466599 470.12445161 433.71073309 509.55667006 487.2945721\n",
      "  456.24773972 410.09876859 346.6193878  230.26289323 263.54885695\n",
      "  503.35871901 381.54029931 537.99721189 337.6462646  513.9892995\n",
      "  327.75753233 545.46310599 216.33307653 506.9930966  302.23831656\n",
      "  351.52809276 606.86736607 230.67292862  90.13878189 295.32524443\n",
      "  480.46331806 238.41560352 263.9337038  219.80445855 186.4001073\n",
      "   54.3783045  471.4764045  344.19325967 479.86039637 434.33742643\n",
      "  572.87520456 206.72929159 136.61625086 515.09707823 580.69096773\n",
      "  469.18866141 457.08314342 138.19189557 510.39200621 498.40244783\n",
      "  289.16777137 260.34208265 173.17332358 252.46187831 109.22453937]\n",
      " [ 79.07591289 321.51205265 754.82713253 553.54313292 616.52331667\n",
      "  575.00782603 229.45587811 569.98421031 416.07931936 743.79096526\n",
      "  444.89099789 351.09115625 491.75705384 310.16124839 185.45619429\n",
      "  474.8905137  489.24840317 517.95849255 405.39980266 575.19127253\n",
      "  623.20462129 172.69916039 164.80594649 573.60788    555.45386847\n",
      "   91.0933587  329.80297148  38.20994635 509.92744582 422.62276323\n",
      "  251.01792765 176.2384748  149.68299837 352.31945731   0.\n",
      "  509.64006907 672.33994378 559.07244611 635.39672646 126.65701718\n",
      "  577.36383676 329.1519406  531.0075329  539.18920612 559.43274842\n",
      "  201.88362985 540.41835646 276.74175688 257.93410011 362.50517238\n",
      "  636.85555662 281.44271175 312.96325663 239.26763258 562.89341798\n",
      "  408.67713418 200.48940122 376.26852114 419.88808033 462.00108225\n",
      "  249.20072231 393.99746192 494.63117573 375.35316703 205.88346218\n",
      "  108.16653826 765.04444315 510.694625   737.25504407  50.08991915\n",
      "  143.58621104 550.28083739 377.48244992 266.27053911 403.53686325\n",
      "  220.63997825 330.38916447 289.49956822 510.71028969 176.91240771\n",
      "  385.85230335 332.01355394 451.02993249 242.54690268 258.12400121\n",
      "  562.9253947  365.25607456 485.35863029 336.36289926 791.26796978\n",
      "  200.96019506 108.84851859 435.76369743 439.39617659 392.86129868\n",
      "  523.91697816 582.84560563 182.88794383 256.36302385 243.13165158]\n",
      " [583.33180952 249.20874784 388.31044282  85.07055895 401.69640277\n",
      "  111.39569112 361.1384776  429.47060435 691.92268354 424.28763828\n",
      "   65.12296062 200.02499844  33.10589071 627.35715506 665.09021944\n",
      "  523.27621769 481.81427957 630.96751105 117.04699911 377.71153014\n",
      "  165.06059493 553.56481102 455.82672146 191.32433196 369.77019891\n",
      "  505.11087892 183.73078131 487.12318771 177.01129907 393.86418979\n",
      "  527.78878351 589.66176746 375.06532764 165.19685227 509.64006907\n",
      "    0.         425.96713488 351.5920932  185.14858898 630.4323913\n",
      "  501.59744816 415.71384389 182.43903091 143.58969322 425.30224547\n",
      "  325.37977811 768.28705573 276.34217919 435.29874799 677.46365216\n",
      "  326.30047502 574.81214323 521.02303212 635.41639891 475.17786144\n",
      "  510.09802979 530.29520081 392.65888504 229.81079174 237.42788379\n",
      "  624.81997407 425.47032799 576.31328286 382.66042387 678.84092393\n",
      "  467.42806933 440.10907739 117.17508268 398.54234405 459.83692762\n",
      "  516.65268798 642.24138764 261.60275228 254.9607813  317.66806575\n",
      "  605.80277319 298.96488088 345.22021957 242.66849816 350.80051311\n",
      "  123.79418403 559.01699437 348.91402953 598.58499814 540.45998927\n",
      "  590.9754648  245.50560075  32.64965543 610.53173546 477.78237724\n",
      "  634.3311438  616.78602448 106.53168543 564.88051834 568.8839952\n",
      "  220.7351354  109.17875251 336.21570457 349.43525867 270.32572945]\n",
      " [748.505177   373.94785733 161.68178623 351.19367876  57.20139858\n",
      "  523.40137562 442.8916346  128.31601615 565.45998974 102.\n",
      "  426.05750786 373.95454269 454.13654334 569.55860102 857.77677749\n",
      "  312.8609915  258.69866641 400.17995952 487.64331227  97.62171889\n",
      "  307.24745727 593.87709166 722.66866543 614.82436516 117.41379817\n",
      "  723.88189644 494.78985438 674.38045642 601.61200121 265.1584432\n",
      "  509.28675616 631.53226363 614.62996998 497.7650048  672.33994378\n",
      "  425.96713488   0.         114.03946685 291.7807396  792.69224798\n",
      "  190.51509127 364.80405699 244.66303358 282.60573243 137.2661648\n",
      "  591.57417117 569.42514872 595.5980188  437.41170538 590.92554523\n",
      "  105.60303026 531.92950661 453.15449904 638.30556946 177.22866585\n",
      "  360.55512755 550.54245976 310.2660149  279.10034038 238.43657438\n",
      "  616.26617626 309.35578223 353.45862558 307.41665537 878.16456317\n",
      "  573.48496057 118.82760622 310.17736861 121.27654349 637.98589326\n",
      "  762.05642836 387.39385643 306.36579444 546.16572576 268.88845271\n",
      "  615.71503149 344.81879299 382.95299973 665.20372819 605.52869461\n",
      "  447.59915103 474.28683305 222.87440409 589.54219527 515.48520832\n",
      "  310.85044636 326.0383413  448.52870588 527.81151939 128.94960256\n",
      "  863.20333642 770.04740114 366.40005459 389.16577445 433.71073309\n",
      "  212.23571801 344.05813462 584.51090666 415.98677864 535.55578608]\n",
      " [635.70826642 261.35799203 225.94247055 289.8344355   62.29767251\n",
      "  458.05239875 329.66043135  83.45058418 490.10203019 192.02343607\n",
      "  338.18633917 265.58049627 375.47436664 478.53317544 744.52669529\n",
      "  246.95141223 191.02355876 350.11569516 393.85911187  26.47640459\n",
      "  271.82715096 488.32878269 609.59412727 542.85909774  22.47220505\n",
      "  609.84260264 391.20838437 560.50869752 520.49975985 164.43843833\n",
      "  408.62696925 526.8263471  501.42297514 396.91938728 559.07244611\n",
      "  351.5920932  114.03946685   0.         262.6880279  680.35578927\n",
      "  163.78339354 260.27869678 172.79178221 216.60332407  83.24061509\n",
      "  480.02604096 515.97868173 488.54477789 330.31500117 506.8569818\n",
      "  110.04090149 436.44014481 358.24014292 539.08904645 139.2012931\n",
      "  278.40438215 446.06053401 205.76685836 170.29386366 133.37541003\n",
      "  518.15152224 212.08488866 296.63782631 201.29580224 764.77578414\n",
      "  461.66004809 212.84971224 235.17015117 195.14353692 524.12307715\n",
      "  648.18901564 346.78091066 193.19679086 437.83330161 155.58920271\n",
      "  514.78150705 230.80077989 270.11849252 580.75554238 493.09228345\n",
      "  350.00571424 384.20957823 113.53413584 490.60880547 416.14660878\n",
      "  277.10828208 213.77090541 368.68007812 440.14770248 234.26694176\n",
      "  749.20024026 657.99848024 274.11676344 317.90721917 353.51096164\n",
      "  131.5180596  292.00171232 472.06991008 302.76063152 425.3292842 ]\n",
      " [713.58531375 322.83277405 210.53503271 101.78899744 289.62044127\n",
      "  251.1991242  438.80861432 345.57922391 712.61841121 258.80494586\n",
      "  224.74207439 285.28231631 218.24756585 672.8603124  807.66639153\n",
      "  494.41885077 441.87441655 602.84658081 292.06163733 283.27018904\n",
      "   20.61552813 634.19397663 615.5209176  347.57589099 285.04385627\n",
      "  650.83715321 340.8240015  620.74551952 353.13595116 378.63570883\n",
      "  582.00773191 673.31493374 521.23123467 329.51176003 635.39672646\n",
      "  185.14858898 291.7807396  262.6880279    0.         761.50968477\n",
      "  426.38011211 441.50877681 122.58874337  97.74456507 345.92773812\n",
      "  478.03765542 761.55433161 444.77522413 488.08298475 714.08192807\n",
      "  186.59046064 622.77202892 553.5964234  706.19119224 401.86813758\n",
      "  506.12251481 600.9201278  399.11026045 244.01844193 218.07338214\n",
      "  690.35063555 423.23161508 547.4422344  390.14997116 823.96905282\n",
      "  568.0818603  270.89481353 124.81185841 229.05894438 588.4301148\n",
      "  671.69189365 604.17381605 292.1711827  411.53493169 318.11475917\n",
      "  677.63190598 344.70277051 398.91477787 420.07618357 500.96806285\n",
      "  276.73995013 588.03061145 320.35136959 662.24466778 593.08431104\n",
      "  538.05947627 290.99312707 217.00230414 644.49747866 308.78471465\n",
      "  787.67505991 744.15388194 203.62956563 555.42596266 577.24951278\n",
      "  156.32018424  76.15773106 482.87161855 417.90549171 417.80856861]\n",
      " [ 47.92702787 447.97321348 880.27382104 678.06784321 736.2479202\n",
      "  688.44752886 351.45412218 685.30868957 462.         867.2883027\n",
      "  566.32322926 477.62432936 610.5481144  359.86942076  77.27871635\n",
      "  572.07079981 594.07911931 597.71648798 522.01245196 695.1467471\n",
      "  749.00066756 237.64048477 222.30834442 677.06720494 675.34953913\n",
      "  140.42791745 447.94642537 143.33875959 612.94371683 536.61531845\n",
      "  332.17465286 218.9292123  258.5207922  469.19612104 126.65701718\n",
      "  630.4323913  792.69224798 680.35578927 761.50968477   0.\n",
      "  684.97956174 439.07288689 657.66024663 665.58019802 674.68585282\n",
      "  311.173585   587.14393465 380.02105205 365.05342075 402.1790646\n",
      "  761.5517054  347.95976779 399.62482405 268.15107682 672.88706333\n",
      "  503.77872127 278.44209452 489.76729168 545.83880404 587.64019604\n",
      "  287.06271092 503.18187567 583.45351143 490.13059484  99.24716621\n",
      "  219.49487466 888.54769146 636.72992705 861.76853041 173.25414858\n",
      "  166.41213898 631.58926527 502.61018692 380.17101415 524.90380071\n",
      "  262.76224995 454.17287458 410.27795456 604.16636782 285.01228044\n",
      "  506.90038469 409.20043988 570.10349938 292.97952147 335.21634805\n",
      "  655.70801429 491.19649836 604.62633089 397.11207486 913.76419278\n",
      "  133.15029102  24.69817807 560.8707516  525.3046735  473.26314034\n",
      "  650.17305389 707.58533054 296.13848112 378.19042822 360.66189153]\n",
      " [645.97523172 345.37081521 350.1785259  448.44286147 151.78932769\n",
      "  611.42538384 361.6807985   81.0246876  384.24601494 292.33542379\n",
      "  476.53856087 370.06215694 521.45181944 405.80906841 757.24830802\n",
      "  134.64768843  92.6984358  210.00952359 522.01532545 143.95138068\n",
      "  435.5743335  461.08784413 667.25257587 690.49909486 141.59802259\n",
      "  646.53615521 500.50074925 589.46161877 660.51873554 162.18816233\n",
      "  367.14166203 494.5836633  561.67784361 512.26750824 577.36383676\n",
      "  501.59744816 190.51509127 163.78339354 426.38011211 684.97956174\n",
      "    0.         248.21361768 331.40307784 375.59818956  80.65977932\n",
      "  554.8333083  379.08442331 583.16807183 320.63218803 417.38830841\n",
      "  258.56527222 377.3393698  302.07449412 487.18169095  26.41968963\n",
      "  196.46882704 416.51530584 204.61915844 286.22543563 265.69907791\n",
      "  463.534249   183.37120821 166.1114084  208.12736485 778.9383801\n",
      "  470.12445161 308.         389.12465869 310.85044636 554.30136208\n",
      "  692.53880758 197.14461697 282.56680626 530.11413865 219.58369703\n",
      "  469.26005583 292.33542379 304.68508332 715.9497189  561.02495488\n",
      "  474.05168495 313.20919527 168.18144963 439.50881675 369.8229306\n",
      "  121.27654349 306.7523431  513.85795703 360.66189153 310.33530254\n",
      "  777.63230386 660.74579075 410.61539182 210.09045671 261.37520923\n",
      "  288.92213484 453.43136195 540.94824152 337.61664651 510.14115694]\n",
      " [398.67028984 174.66825699 482.37433597 405.10862741 307.62639679\n",
      "  522.34567099 124.19742348 248.19548747 278.00179856 452.19685979\n",
      "  363.8035184  221.5039503  420.3546122  232.01939574 509.96568512\n",
      "  160.31219542 161.68178623 242.98559628 379.2228896  268.60379744\n",
      "  439.14120736 229.09386722 428.47637041 575.14954577 249.3591787\n",
      "  400.10623589 327.83074902 342.00146199 527.37557774 100.12492197\n",
      "  149.6161756  267.02996087 328.         347.61472926 329.1519406\n",
      "  415.71384389 364.80405699 260.27869678 441.50877681 439.07288689\n",
      "  248.21361768   0.         318.92632378 351.04985401 237.58787848\n",
      "  333.24165406 355.3322389  380.43264844  74.41102069 272.90474529\n",
      "  361.13432404 183.69812193 112.14722466 280.17851452 234.27334462\n",
      "  110.571244   186.07794066  54.70831747 201.30822139 223.64704335\n",
      "  260.31135204  64.84597135 198.48677538  59.23681288 531.50070555\n",
      "  222.14634816 472.88264929 340.99266854 454.58772531 307.37599126\n",
      "  447.72312873 266.27053911 157.66420012 329.61947758 125.06398362\n",
      "  254.9607813  117.41379817  84.59905437 567.40285512 333.09608223\n",
      "  331.63383422 147.70917372 147.46185948 232.28000344 158.38244852\n",
      "  251.16130275 170.47287174 411.75235276 203.39370688 491.94511889\n",
      "  529.50731817 415.2023603  309.23292192 163.26665306 154.30165262\n",
      "  289.01557051 425.40568873 315.06348567 106.96261029 302.94884057]\n",
      " [610.00327868 210.79136605 240.77582935 117.32433678 219.53587406\n",
      "  285.85485828 322.52286741 254.33245959 591.0642943  258.05425786\n",
      "  183.70900903 181.81859091 209.61870146 550.31354699 709.47374863\n",
      "  380.72824954 330.96978714 490.16323812 248.85337048 198.11612756\n",
      "  121.29715578 515.45901874 533.52600686 373.2090567  192.81597444\n",
      "  557.22975513 272.2590678  520.59677294 357.02801011 259.61702564\n",
      "  460.08803505 554.83420947 431.66885456 268.97211751 531.0075329\n",
      "  182.43903091 244.66303358 172.79178221 122.58874337 657.66024663\n",
      "  331.40307784 318.92632378   0.          44.20407221 251.81342299\n",
      "  395.13541982 644.45713589 378.49834874 366.60196399 591.57163556\n",
      "  150.26643005 500.36086977 431.02784133 585.40413391 305.36862969\n",
      "  386.70402118 480.75877527 277.25259241 122.9186723   95.70788891\n",
      "  569.01669571 302.64335446 434.41569953 268.12870044 727.151291\n",
      "  455.29441024 276.70200578  65.62011887 238.02520875 486.43396263\n",
      "  584.40568101 494.75044214 171.4176187  335.84669121 195.92090241\n",
      "  557.13283874 224.58851262 278.74181602 420.57579578 415.10119248\n",
      "  215.2324325  465.60068728 203.03940504 540.83269132 471.00424627\n",
      "  433.67268763 173.21951391 203.88722373 521.9894635  312.43559336\n",
      "  697.03658441 638.77147713 130.92364187 437.52257085 456.50082147\n",
      "   42.52058325 123.23960402 395.27838292 300.04166377 334.52055243]\n",
      " [617.68762332 225.08887134 257.66062951  73.24616031 261.35416584\n",
      "  243.3289954  341.29898916 298.4577022  626.24036919 284.7630594\n",
      "  155.92626463 188.30825792 173.00289015 580.60744053 713.63085696\n",
      "  422.15636913 373.40192822 531.70104382 223.7722056  241.66091947\n",
      "   90.04998612 537.1405775  528.04924013 332.56728642 236.8628295\n",
      "  558.31263643 258.31182706 525.7803724  320.18900668 298.73901653\n",
      "  487.69355132 576.14668271 430.         251.2846991  539.18920612\n",
      "  143.58969322 282.60573243 216.60332407  97.74456507 665.58019802\n",
      "  375.59818956 351.04985401  44.20407221   0.         296.00675668\n",
      "  389.56642566 683.8106463  364.61075135 393.24928481 623.87899468\n",
      "  183.00273222 529.75937934 463.0561521  610.26551598 349.54827993\n",
      "  424.92587589 504.61965875 312.75069944 150.3362897  132.09844814\n",
      "  595.00084034 340.01323504 475.94642556 303.29028999 730.46081346\n",
      "  470.36687809 301.95695057  34.98571137 261.40007651 492.83262879\n",
      "  581.90377211 537.20014892 197.42846806 326.10581105 231.16444363\n",
      "  581.4954858  249.00200802 303.02640149 385.03246616 411.25782667\n",
      "  196.91876498 498.61608478 243.70679104 567.02204543 499.09217586\n",
      "  477.12681752 194.31160542 168.19036833 554.42312362 338.9542742\n",
      "  696.62759061 647.79086131 115.43396381 476.74311741 493.13791174\n",
      "   86.68333173  80.21221852 392.31747348 320.80679544 328.78260295]\n",
      " [632.60256085 293.1705988  286.04370295 369.08671068  85.28774824\n",
      "  534.11328386 333.44414825  10.63014581 429.49854482 236.57979626\n",
      "  404.47620449 310.00645155 446.70571969 432.69504273 743.45208319\n",
      "  178.17968459 122.69066794 274.17147919 454.2092029   65.3911309\n",
      "  354.93802276 464.52125893 631.37310681 615.50385864  60.95900262\n",
      "  620.37811051 440.25560757 566.49536627 588.50063721 138.19189557\n",
      "  376.38411231 501.06386818 523.67929117 449.60871878 559.43274842\n",
      "  425.30224547 137.2661648   83.24061509 345.92773812 674.68585282\n",
      "   80.65977932 237.58787848 251.81342299 296.00675668   0.\n",
      "  510.13135563 442.50762705 529.91414399 311.87337174 453.71025997\n",
      "  183.43936328 396.30417611 317.7184288  503.87696911  56.0357029\n",
      "  223.28905034 420.42002807 185.04323819 219.66565503 193.00259066\n",
      "  481.38342306 177.25969649 223.18826134 184.62123388 764.56327403\n",
      "  455.63691685 255.00196078 311.10769839 249.33912649 530.37345333\n",
      "  663.08973752 267.52943763 225.97787502 477.41910309 169.54350474\n",
      "  482.35775105 247.98790293 273.30020124 646.04179431 519.50072185\n",
      "  407.54508953 337.46407216 115.52056094 455.15931277 381.71848265\n",
      "  195.49424544 249.64975466 439.38593514 390.62129998 265.8006772\n",
      "  756.32400464 651.1965909  338.78754404 253.55078387 296.62265591\n",
      "  209.48030934 373.23719    498.78352018 307.29952815 460.50624317]\n",
      " [266.12027356 219.16432191 634.71647214 384.3292859  542.23242249\n",
      "  377.27576121 210.09759637 519.5276701  534.15821626 640.74019696\n",
      "  263.94128135 220.5855843  302.48305738 437.54885442 339.97794046\n",
      "  493.0415804  484.05061719 571.15321937 212.46176127 502.45994865\n",
      "  462.39052758 315.35694062 138.6001443  371.7270504  484.53070078\n",
      "  179.98055451 141.94717327 171.18703222 308.09901006 393.73214245\n",
      "  345.89160152 339.20642683  53.00943312 160.65490967 201.88362985\n",
      "  325.37977811 591.57417117 480.02604096 478.03765542 311.173585\n",
      "  554.8333083  333.24165406 395.13541982 389.56642566 510.13135563\n",
      "    0.         646.4742841   76.55716818 291.43266804 494.27623855\n",
      "  528.6435472  392.00127551 381.99607328 399.80245122 533.48102122\n",
      "  441.02607633 316.42534665 357.05041661 313.05750271 355.30831682\n",
      "  400.0199995  387.7434719  530.89452813 351.00569796 353.46428391\n",
      "  212.28518554 661.21101019 356.32850012 626.57481596 153.52524222\n",
      "  193.89172236 597.39601606 287.7846417   70.51950085 340.69487815\n",
      "  373.26264212 263.37046152 255.28219679 312.52519898  26.17250466\n",
      "  205.30221626 415.17707066 394.82274504 381.93193111 357.92876386\n",
      "  583.30438023 266.29494926 297.27092021 444.93257916 693.25031554\n",
      "  310.83114387 301.0265769  275.18175812 488.60004093 459.78799462\n",
      "  402.45745117 414.3428532   23.34523506 226.73552876  60.8276253 ]\n",
      " [570.85287071 529.74899717 727.18635851 747.11311058 525.98954362\n",
      "  876.60823633 450.28213378 448.38599443 125.67418191 671.36055887\n",
      "  718.71273816 576.82666374 774.88386227 231.14497615 663.00075415\n",
      "  269.5199436  325.01076905 169.29559947 733.42007063 505.89030432\n",
      "  764.47367515 367.8056552  694.13615379 930.23975404 494.83835745\n",
      "  631.32400556 676.91801572 572.54519472 881.05958936 385.09479352\n",
      "  302.90922733 372.37615391 620.79062493 698.35306257 540.41835646\n",
      "  768.28705573 569.42514872 515.97868173 761.55433161 587.14393465\n",
      "  379.08442331 355.3322389  644.45713589 683.8106463  442.50762705\n",
      "  646.4742841    0.         709.73938879 362.2292092  185.00270268\n",
      "  624.25395473 261.87401551 267.40605827 319.02507738 393.22385482\n",
      "  259.8557292  344.05813462 376.42794795 543.31022446 551.86320769\n",
      "  300.60106454 345.44174617 219.67248348 386.40134575 684.04678203\n",
      "  453.18428922 687.04657775 681.74555371 688.81710199 551.18508688\n",
      "  683.97733881 185.19449236 506.78693748 664.48777265 455.5809478\n",
      "  326.67108841 472.46693006 435.59843893 917.32055466 636.53593771\n",
      "  686.47651089 231.87280996 441.71484014 299.70819141 292.02739598\n",
      "  261.76516193 523.20550456 766.28780494 206.24257562 687.65470987\n",
      "  715.96438459 564.42891492 661.91993474 207.06762181 201.13676939\n",
      "  606.00082508 762.98427245 624.15703152 446.37428241 634.83304892]\n",
      " [336.78628238 238.00840321 618.94264678 345.80919594 550.56788864\n",
      "  312.21787265 262.96767862 538.51648071 601.29526857 633.2811382\n",
      "  221.38202276 223.00896843 249.17664417 507.73418242 400.52465592\n",
      "  536.73922905 520.72449529 622.68531378 159.32670837 512.86352961\n",
      "  427.28210821 389.60621145 181.43042744 297.94630389 496.41212717\n",
      "  242.99794238 106.50821565 244.13520844 233.93161394 426.48798342\n",
      "  413.05205483 414.77945947 127.09445307 115.27792503 276.74175688\n",
      "  276.34217919 595.5980188  488.54477789 444.77522413 380.02105205\n",
      "  583.16807183 380.43264844 378.49834874 364.61075135 529.91414399\n",
      "   76.55716818 709.73938879   0.         349.28498393 564.35804238\n",
      "  521.65985086 460.40417027 442.86792614 474.66303838 560.00089286\n",
      "  490.65772184 387.70349495 395.37324138 318.2514729  357.28000224\n",
      "  473.87445595 428.43902717 578.73137119 388.0051546  411.64304926\n",
      "  286.66705426 652.9356783  329.8620924  615.72477618 229.31419494\n",
      "  244.46881192 646.70317766 303.94900888  53.08483776 364.00549446\n",
      "  447.61143864 292.34397548 297.52310835 235.9682182  100.\n",
      "  168.5823241  477.8755068  417.20258868 454.68780498 425.50910684\n",
      "  625.09599263 280.30340704 245.4648651  511.79878859 687.07859812\n",
      "  361.56465535 371.98118232 249.70382456 541.15524575 517.58863975\n",
      "  393.70674366 375.2932187   98.88377015 274.11676344  77.49193506]\n",
      " [325.3567273  186.09674903 548.60732769 438.63424399 380.21704328\n",
      "  535.76860677  88.09086218 322.49030993 263.64369896 522.23079189\n",
      "  377.09680455 235.28068344 434.31900718 192.27584352 436.64630996\n",
      "  219.49259669 231.40008643 281.8386063  379.08442331 340.48935372\n",
      "  483.12524256 158.31929762 370.01216196 577.29368609 320.97507691\n",
      "  333.43065246 316.9858041  273.83571717 524.18698954 174.\n",
      "   94.76286192 197.30686759 276.37836384 339.41272811 257.93410011\n",
      "  435.29874799 437.41170538 330.31500117 488.08298475 365.05342075\n",
      "  320.63218803  74.41102069 366.60196399 393.24928481 311.87337174\n",
      "  291.43266804 362.2292092  349.28498393   0.         242.49536078\n",
      "  426.87820277 139.84276885  95.01578816 219.34675744 307.85873384\n",
      "  157.05094715 117.65202931 127.56174975 244.07375934 274.78173156\n",
      "  202.41788459 138.1303732  247.0506021  130.         458.31212072\n",
      "  149.96666296 543.13626283 377.57250959 522.80493494 240.63457773\n",
      "  382.89032372 310.21444196 196.002551   302.59213473 184.0543398\n",
      "  191.80198122 144.58561478  91.78235124 556.54739241 286.27259736\n",
      "  335.17159784 132.23085873 216.78099548 174.23260315 106.70520137\n",
      "  309.5948966  200.56420418 425.85091288 177.34147851 563.60003549\n",
      "  458.86054526 341.07183994 331.44531977 199.10047715 168.67127793\n",
      "  342.13009222 462.04437016 270.69170656  88.20430828 273.27092784]\n",
      " [387.07234466 428.32230855 732.40562532 675.86093244 537.70344987\n",
      "  778.16450703 324.15428425 462.64024901  61.18823416 689.54260202\n",
      "  619.58857317 477.56151436 676.80499407  56.72741841 478.00418408\n",
      "  282.97879779 333.32566658 242.58812832 618.96122657 506.18672444\n",
      "  712.023876   191.0942176  522.02777704 816.66639456 489.91121645\n",
      "  453.52397952 552.65540801 396.85009764 761.23058268 346.46789173\n",
      "  154.84185481 189.48878595 460.69187099 576.10849673 362.50517238\n",
      "  677.46365216 590.92554523 506.8569818  714.08192807 402.1790646\n",
      "  417.38830841 272.90474529 591.57163556 623.87899468 453.71025997\n",
      "  494.27623855 185.00270268 564.35804238 242.49536078   0.\n",
      "  615.6565601  106.01886625 160.82288394 134.03357788 420.23445837\n",
      "  230.65341966 178.21896644 316.51224305 473.82697264 496.0171368\n",
      "  116.40017182 298.24151287 259.3260496  324.8876729  499.08115573\n",
      "  287.05748553 708.46665412 612.65079776 699.15734996 379.70119831\n",
      "  505.64908781 275.54491467 428.56154751 525.29039588 396.23225512\n",
      "  143.61058457 381.73420072 332.41540277 787.82294965 480.10415537\n",
      "  576.5552879  126.32101963 405.14935518 120.15406776 141.82383439\n",
      "  331.09666262 437.82416562 668.34197833  69.58448103 718.90263597\n",
      "  531.54962139 379.58134833 572.80013966 207.51144547 157.48650736\n",
      "  560.14730206 697.31843515 471.06899707 330.05454095 494.81814841]\n",
      " [715.28735484 320.54484866 121.74152948 248.24383175 109.28860874\n",
      "  419.90117885 411.17514516 179.42407865 600.04083194 112.16059914\n",
      "  333.91765452 308.14606926 356.         585.42719445 820.98781964\n",
      "  356.11514992 299.95499662 456.94638635 398.94360504 118.60016863\n",
      "  201.69531477 584.95298956 664.7119677  512.66460771 129.86916493\n",
      "  677.10338945 416.92325433 633.1484818  503.14312079 270.47550721\n",
      "  510.72986989 624.13540198 558.6859583  416.19466599 636.85555662\n",
      "  326.30047502 105.60303026 110.04090149 186.59046064 761.5517054\n",
      "  258.56527222 361.13432404 150.26643005 183.00273222 183.43936328\n",
      "  528.6435472  624.25395473 521.65985086 426.87820277 615.6565601\n",
      "    0.         541.58748139 464.24670166 641.31271623 237.50789461\n",
      "  388.18552266 544.30965452 307.96266007 220.16584658 176.91806013\n",
      "  621.25679071 318.78048874 404.58991584 302.03476621 840.23627629\n",
      "  546.6671748  132.57450735 213.67732683 100.49875621 597.28217787\n",
      "  710.22390836 450.95676068 259.45327132 475.53023037 243.73140955\n",
      "  615.8319576  307.61664454 355.20838954 568.01408433 545.78475611\n",
      "  363.41849155 491.90649518 214.44113411 593.329588   519.14256231\n",
      "  378.08464661 273.65123789 351.06979363 548.29280499 165.46903033\n",
      "  817.81171427 740.4032685  279.52996262 427.85277842 463.2763754\n",
      "  127.95311641 239.2822601  525.09522946 384.98441527 469.59131167]\n",
      " [322.39882134 325.7299495  661.67212424 577.76465797 476.00105042\n",
      "  673.84567966 218.5497655  406.23638439 142.68847185 625.84422982\n",
      "  515.77708363 374.81328685 572.89178734  52.55473337 425.20583251\n",
      "  246.78938389 285.80062981 250.78476828 513.3078998  440.32374453\n",
      "  619.10419155 112.21853679 432.28347181 710.83612739 422.30912848\n",
      "  371.55349548 446.64527312 311.84932259 655.22515214 272.02941017\n",
      "   48.82622246 130.97327972 361.70844613 470.12445161 281.44271175\n",
      "  574.81214323 531.92950661 436.44014481 622.77202892 347.95976779\n",
      "  377.3393698  183.69812193 500.36086977 529.75937934 396.30417611\n",
      "  392.00127551 261.87401551 460.40417027 139.84276885 106.01886625\n",
      "  541.58748139   0.          78.79086241 109.87720419 373.73921389\n",
      "  180.9226354   82.28000972 234.17087778 379.52602019 406.00123153\n",
      "   86.21484791 224.54398233 243.90571949 241.01452238 447.20688725\n",
      "  191.46279012 645.84905357 515.88467704 631.51326194 289.38728376\n",
      "  424.32652521 285.01403474 332.53721596 420.10712919 308.64866758\n",
      "   94.86832981 283.00706705 231.38712151 682.05938158 379.4153397\n",
      "  471.43186146  66.4003012  327.24608477  63.2534584   35.80502758\n",
      "  318.6926419  339.28454135 564.48649231  55.6596802  660.85474955\n",
      "  468.23605158 323.59542642 471.27486672 184.76200908 129.3754227\n",
      "  472.17899149 600.55391099 369.01219492 225.84950742 389.66780724]\n",
      " [367.44115175 273.38617375 583.80990057 515.69370754 397.21153055\n",
      "  624.65670572 183.09560344 327.71328932 171.5109326  547.16816428\n",
      "  465.50832431 322.3740064  522.68250401 121.69634341 475.71419991\n",
      "  175.88916965 209.69024775 205.24375752 471.96292227 361.65867887\n",
      "  551.28395587 164.24676557 446.75384721 670.07462271 343.75718174\n",
      "  398.08039389 411.55801535 337.07269246 618.05501373 194.03092537\n",
      "   68.         194.20092688 361.46507438 433.71073309 312.96325663\n",
      "  521.02303212 453.15449904 358.24014292 553.5964234  399.62482405\n",
      "  302.07449412 112.14722466 431.02784133 463.0561521  317.7184288\n",
      "  381.99607328 267.40605827 442.86792614  95.01578816 160.82288394\n",
      "  464.24670166  78.79086241   0.         186.65744025 296.89223634\n",
      "  107.61505471 121.33424908 158.45504094 313.03673906 335.62628026\n",
      "  163.78339354 146.16429112 184.04890654 166.10839834 497.84535752\n",
      "  209.00239233 567.12696991 452.13382975 553.18080227 308.36504341\n",
      "  450.00111111 237.32045845 268.12870044 397.10200201 236.3048878\n",
      "  167.26027622 222.84748148 176.64653973 651.41461451 374.36345976\n",
      "  426.86766099  38.27531842 250.37971164 138.22083779  68.24954212\n",
      "  256.18157623 278.44209452 514.12547107  91.44397192 582.07301947\n",
      "  510.13429604 374.92665949 415.29266789 126.90547664  81.49846624\n",
      "  400.45099575 536.73922905 360.34705493 181.37254478 367.52278841]\n",
      " [254.57808232 392.47547694 762.49655737 650.48981545 581.83330946\n",
      "  726.03374577 275.36339626 513.98151718 194.20865068 730.13560384\n",
      "  572.7172077  439.33131006 628.41546766  97.14422268 344.03633529\n",
      "  356.42671056 395.46554844 350.2941621  557.98387073 544.91834251\n",
      "  700.31492916  85.88364221 403.29145788 750.24062807 526.36109279\n",
      "  328.70199269 485.23911631 276.03079538 690.53964405 375.17062785\n",
      "  130.63307391  63.60031446 358.26805607 509.55667006 239.26763258\n",
      "  635.41639891 638.30556946 539.08904645 706.19119224 268.15107682\n",
      "  487.18169095 280.17851452 585.40413391 610.26551598 503.87696911\n",
      "  399.80245122 319.02507738 474.66303838 219.34675744 134.03357788\n",
      "  641.31271623 109.87720419 186.65744025   0.         483.20596023\n",
      "  290.79546076 106.23088063 333.80383461 462.56350915 494.12751391\n",
      "   24.20743687 329.1519406  350.40690632 339.32432863 365.197207\n",
      "  188.04520733 750.47318406 592.12160913 734.0640299  265.54848898\n",
      "  379.54182905 384.70768123 414.16180413 443.79837764 401.67773152\n",
      "   29.61418579 361.49965422 307.31905245 707.61147532 381.29384994\n",
      "  521.8400138  175.36818412 427.35114367  48.76474136 123.06502346\n",
      "  425.40568873 416.05889006 620.40631847 141.35416513 767.00065189\n",
      "  398.02763723 245.66033461 537.32020249 291.73275442 235.67138138\n",
      "  561.47128155 675.62267576 376.60191184 291.43953061 413.96859784]\n",
      " [632.92495606 322.01397485 334.05538463 422.30912848 133.3641631\n",
      "  585.02393113 343.80372307  58.18075283 390.4830342  279.14512355\n",
      "  450.32099662 345.35199435 495.06565221 405.12343798 744.22644403\n",
      "  137.9275172   88.32326987 223.98660674 496.28419278 120.83045974\n",
      "  410.64948557 452.68973923 648.15121692 664.11218932 116.82465493\n",
      "  629.92459866 475.92541432 573.62095499 634.34139074 143.25152704\n",
      "  360.22354171 487.25865821 541.91143188 487.2945721  562.89341798\n",
      "  475.17786144 177.22866585 139.2012931  401.86813758 672.88706333\n",
      "   26.41968963 234.27334462 305.36862969 349.54827993  56.0357029\n",
      "  533.48102122 393.22385482 560.00089286 307.85873384 420.23445837\n",
      "  237.50789461 373.73921389 296.89223634 483.20596023   0.\n",
      "  194.13912537 408.10415337 187.64061394 260.44001229 239.35329536\n",
      "  459.88041924 169.74392478 176.2299634  190.19200824 765.7734652\n",
      "  456.36936795 295.89525174 362.78919499 295.61123118 538.13381236\n",
      "  675.11480505 214.40149253 258.2130903  507.00394476 196.02295784\n",
      "  464.02262876 270.35162289 285.72189276 690.01014485 540.41558083\n",
      "  448.46961993 311.11734121 143.68368035 435.02873468 363.79252329\n",
      "  140.57738083 282.39157211 487.48333305 360.90580489 301.24076749\n",
      "  762.50245901 648.83665125 384.39693027 214.56001491 263.00760445\n",
      "  262.86498436 427.61898929 520.15862965 319.10029771 487.64126158]\n",
      " [469.11405863 280.4086304  502.83695171 487.31201504 307.05048445\n",
      "  619.57808225 230.93072554 232.43278598 212.05895407 458.88996502\n",
      "  463.3497599  324.45955064 518.53640181 211.12318679 578.93436588\n",
      "   68.60029154 105.81587783 132.42356286 485.07731343 276.06158733\n",
      "  507.60713155 271.04612154 527.00094877 678.46960138 260.403533\n",
      "  488.63585624 437.16472868 428.26743981 633.30956096 127.48725426\n",
      "  175.0114282  301.80954259 431.35368319 456.24773972 408.67713418\n",
      "  510.09802979 360.55512755 278.40438215 506.12251481 503.77872127\n",
      "  196.46882704 110.571244   386.70402118 424.92587589 223.28905034\n",
      "  441.02607633 259.8557292  490.65772184 157.05094715 230.65341966\n",
      "  388.18552266 180.9226354  107.61505471 290.79546076 194.13912537\n",
      "    0.         227.24656213 117.44360349 283.55070093 292.82759433\n",
      "  267.08800048  85.58621384  90.44888059 127.44018205 601.00332778\n",
      "  301.09965128 477.83679222 421.95023403 468.87524993 396.29534441\n",
      "  538.93413327 156.46724897 248.65236777 440.10112474 195.72685048\n",
      "  273.65854637 220.22715546 194.98974332 675.71591664 438.94532689\n",
      "  436.60622991 117.04699911 186.27130751 243.39268683 175.85505395\n",
      "  154.25952159 266.73769887 509.98235264 167.69317219 488.92126155\n",
      "  608.80210249 479.12941884 404.21900005  55.15432893  75.10659092\n",
      "  349.81709507 503.62684599 421.84949923 216.62179022 413.1682466 ]\n",
      " [247.73574631 286.27609051 666.003003   544.25912946 493.42577963\n",
      "  623.00080257 169.49926254 430.88977709 223.18154046 638.07287985\n",
      "  468.17518089 333.33016665 524.32146628 121.60592091 354.80980821\n",
      "  295.84624385 323.93826572 321.46072855 456.82053369 454.65701358\n",
      "  594.65956647  44.59820624 350.0814191  651.64560921 435.43656254\n",
      "  289.91378029 385.97668323 229.86952821 593.50652903 285.39446386\n",
      "   53.75872022  80.99382693 282.64642223 410.09876859 200.48940122\n",
      "  530.29520081 550.54245976 446.06053401 600.9201278  278.44209452\n",
      "  416.51530584 186.07794066 480.75877527 504.61965875 420.42002807\n",
      "  316.42534665 344.05813462 387.70349495 117.65202931 178.21896644\n",
      "  544.30965452  82.28000972 121.33424908 106.23088063 408.10415337\n",
      "  227.24656213   0.         240.78621223 357.8407467  390.86186818\n",
      "   94.64142856 243.16660955 305.01147519 244.77336456 376.94561942\n",
      "  110.01818032 658.82698791 486.02571948 639.61316434 207.13522153\n",
      "  342.6674773  354.80276211 309.34285187 351.20364463 301.70515408\n",
      "   77.00649323 256.32206304 202.09403752 615.30561512 301.8907087\n",
      "  418.74335816 133.09019498 332.74614949  69.7782201   58.30951895\n",
      "  377.51423814 310.31596801 516.20247965 137.9275172  677.98598806\n",
      "  392.1645063  253.7479064  431.33513652 246.98380514 196.12241075\n",
      "  458.32848482 569.42514872 293.15524897 185.21878954 320.8005611 ]\n",
      " [448.1350243  169.06803364 428.80531713 372.15050719 253.07113624\n",
      "  502.19518118 157.17506164 195.67319694 313.84709653 397.58898375\n",
      "  346.48232278 209.83088429 401.31907505 280.11783235 559.21731018\n",
      "  143.7810836  127.00393695 243.21389763 371.44178548 213.9088591\n",
      "  398.48964855 283.73403039 463.42744847 562.55488621 194.65096969\n",
      "  442.33019341 329.38731002 386.03885815 519.21864373  46.86149806\n",
      "  203.18464509 321.73591655 359.08912543 346.6193878  376.26852114\n",
      "  392.65888504 310.2660149  205.76685836 399.11026045 489.76729168\n",
      "  204.61915844  54.70831747 277.25259241 312.75069944 185.04323819\n",
      "  357.05041661 376.42794795 395.37324138 127.56174975 316.51224305\n",
      "  307.96266007 234.17087778 158.45504094 333.80383461 187.64061394\n",
      "  117.44360349 240.78621223   0.         167.29614461 181.66177363\n",
      "  313.38953397  34.98571137 191.75505208  10.         580.50495261\n",
      "  271.09039083 418.24036151 306.96090956 400.38606369 350.49821683\n",
      "  487.9477431  260.50911692 131.24404748 342.86148807  81.60882305\n",
      "  309.09545451 108.2266141  102.1763182  564.40499643 360.55512755\n",
      "  322.47170419 190.21303846  93.60555539 285.56785533 211.24866863\n",
      "  229.92390045 149.96666296 392.78110953 247.16391322 437.25164379\n",
      "  575.16693229 466.20381809 286.80306832 172.35138526 180.69311\n",
      "  243.97745798 389.96025438 341.17737322 133.82077567 318.94356868]\n",
      " [498.83163492 100.41912169 335.33565274 205.10485123 232.35533134\n",
      "  340.96920682 202.03960008 226.88322988 478.16315207 330.93352807\n",
      "  193.12690129  95.33624704 243.21389763 430.27665519 602.56120021\n",
      "  293.47061182 253.4284909  401.31907505 235.8495283  194.81529714\n",
      "  239.6038397  392.82184257 446.60609042 410.50213154 179.01117284\n",
      "  456.96827023 222.32408776 414.01690787 375.76588456 164.07315442\n",
      "  338.05325024 432.26149493 339.57178917 230.26289323 419.88808033\n",
      "  229.81079174 279.10034038 170.29386366 244.01844193 545.83880404\n",
      "  286.22543563 201.30822139 122.9186723  150.3362897  219.66565503\n",
      "  313.05750271 543.31022446 318.2514729  244.07375934 473.82697264\n",
      "  220.16584658 379.52602019 313.03673906 462.56350915 260.44001229\n",
      "  283.55070093 357.8407467  167.29614461   0.          43.27817002\n",
      "  446.40452507 198.04039992 346.52849811 157.42934923 621.40003219\n",
      "  336.85902096 351.87071489 140.2176879  320.3825838  378.477212\n",
      "  490.3886214  412.51060592  48.50773134 267.72000299  88.40814442\n",
      "  434.23495944 101.78899744 155.85891056 429.83834171 328.2499048\n",
      "  188.29763674 349.01719155 122.18837915 418.26905217 349.24203642\n",
      "  363.61655628  54.64430437 235.         404.46755123 382.10600623\n",
      "  597.68971883 525.67860904 128.14054784 337.55147756 347.6118525\n",
      "  105.09519494 224.24317158 307.32718721 178.37040113 256.46247289]\n",
      " [540.82899331 143.6279917  292.84979085 197.04060495 194.32961689\n",
      "  348.42072269 241.04978739 198.87936042 495.50882939 287.6803782\n",
      "  211.56795599 135.77186748 255.88278567 455.43934832 645.1829198\n",
      "  292.60553652 246.80559151 402.0199     262.48047546 159.07859693\n",
      "  216.84326137 427.65640414 489.53242998 424.90587193 145.27904185\n",
      "  500.18896429 258.11818998 456.83366776 395.66778995 166.96406799\n",
      "  366.99455037 467.20980298 382.68786236 263.54885695 462.00108225\n",
      "  237.42788379 238.43657438 133.37541003 218.07338214 587.64019604\n",
      "  265.69907791 223.64704335  95.70788891 132.09844814 193.00259066\n",
      "  355.30831682 551.86320769 357.28000224 274.78173156 496.0171368\n",
      "  176.91806013 406.00123153 335.62628026 494.12751391 239.35329536\n",
      "  292.82759433 390.86186818 181.66177363  43.27817002   0.\n",
      "  476.84378994 207.99278834 346.40005774 172.46738822 664.15133818\n",
      "  376.64970463 308.60330523 132.28000605 277.2002886  421.17217382\n",
      "  533.64595005 409.68524504  85.88364221 307.74827376 100.22474744\n",
      "  466.40004288 138.15932831 190.71706793 453.10043037 371.\n",
      "  217.33154396 369.96216023 114.21471009 448.57552318 377.53013125\n",
      "  354.46861638  97.08243919 248.21361768 426.43287866 338.99852507\n",
      "  640.90248868 567.18339186 145.7978052  344.81589291 361.44847489\n",
      "   67.46851117 211.17765033 350.12140751 216.27066375 297.95301643]\n",
      " [270.68062361 379.71699988 742.19202367 637.12243721 559.95714122\n",
      "  717.52421562 263.79727065 491.42751246 175.10282693 708.79334083\n",
      "  562.80813782 427.28210821 618.96041877  74.46475676 363.55054669\n",
      "  332.44849225 372.00134408 326.49655435 550.78489449 523.41379424\n",
      "  685.0029197   84.86459804 411.67219969 744.66435392 505.00891081\n",
      "  339.69545184 479.12941884 284.94385412 685.7674533  353.93926033\n",
      "  110.85576214  73.68174808 360.66882316 503.35871901 249.20072231\n",
      "  624.81997407 616.26617626 518.15152224 690.35063555 287.06271092\n",
      "  463.534249   260.31135204 569.01669571 595.00084034 481.38342306\n",
      "  400.0199995  300.60106454 473.87445595 202.41788459 116.40017182\n",
      "  621.25679071  86.21484791 163.78339354  24.20743687 459.88041924\n",
      "  267.08800048  94.64142856 313.38953397 446.40452507 476.84378994\n",
      "    0.         307.45568786 326.20392395 319.24442047 384.94804844\n",
      "  187.76847446 729.03223523 577.83215556 713.24890466 271.57687678\n",
      "  391.287618   360.92381468 398.18086343 440.77772176 383.02088716\n",
      "   28.65309756 346.         292.04280508 705.05035281 382.69178199\n",
      "  513.24555527 151.3274595  406.99508597  28.28427125 102.14205794\n",
      "  401.20319042 401.17951094 610.84367886 117.63077829 745.06643999\n",
      "  415.39378907 264.0170449  525.25517608 267.5256997  211.46394492\n",
      "  544.01838204 661.74315259 376.70280063 278.21035207 410.64339761]\n",
      " [463.23752007 204.         437.7784828  401.76610111 252.71525478\n",
      "  535.47735713 183.32484829 187.72320048 290.         401.47851748\n",
      "  380.5180679  244.70594598 434.9678149  266.73207531 574.54329689\n",
      "  109.20164834  98.47842403 208.49220609 406.35575547 216.0023148\n",
      "  423.85138905 287.32733946 489.77647963 596.99581238 197.80040445\n",
      "  464.22408382 364.16479786 406.50953248 554.05775872  48.37354649\n",
      "  199.96999775 323.81785003 387.08784533 381.54029931 393.99746192\n",
      "  425.47032799 309.35578223 212.08488866 423.23161508 503.18187567\n",
      "  183.37120821  64.84597135 302.64335446 340.01323504 177.25969649\n",
      "  387.7434719  345.44174617 428.43902717 138.1303732  298.24151287\n",
      "  318.78048874 224.54398233 146.16429112 329.1519406  169.74392478\n",
      "   85.58621384 243.16660955  34.98571137 198.04039992 207.99278834\n",
      "  307.45568786   0.         156.77372229  44.40720662 596.12918063\n",
      "  286.91810678 421.62661206 336.41194985 407.02948296 371.65171868\n",
      "  511.25825177 225.52383466 164.76953602 376.17283262 110.1453585\n",
      "  306.36579444 143.12581877 132.54433221 599.39052378 390.00512817\n",
      "  357.3513677  173.27723451 107.0046728  280.41576275 206.18923347\n",
      "  196.70536342 184.28781837 426.45632836 229.96086624 437.8961064\n",
      "  594.30379437 479.17637671 320.0624939  139.61733417 154.01947929\n",
      "  267.05991837 418.35989292 371.06603186 162.04937519 351.63759753]\n",
      " [551.42089188 360.56899478 508.77106836 543.41328655 307.41665537\n",
      "  687.32088576 320.8519908  229.49074055 220.07725916 455.35590476\n",
      "  534.95794227 401.32904206 588.18789515 258.89766318 659.71054259\n",
      "   53.82378656 106.28264204  55.75840744 563.02131398 286.22543563\n",
      "  552.00362318 346.78091066 617.05186168 752.29914263 275.30528509\n",
      "  576.67495177 520.13267538 515.98449589 710.52234307 182.45547402\n",
      "  251.28867861 373.06299736 521.80168647 537.99721189 494.63117573\n",
      "  576.31328286 353.45862558 296.63782631 547.4422344  583.45351143\n",
      "  166.1114084  198.48677538 434.41569953 475.94642556 223.18826134\n",
      "  530.89452813 219.67248348 578.73137119 247.0506021  259.3260496\n",
      "  404.58991584 243.90571949 184.04890654 350.40690632 176.2299634\n",
      "   90.44888059 305.01147519 191.75505208 346.52849811 346.40005774\n",
      "  326.20392395 156.77372229   0.         201.10196419 681.84455707\n",
      "  388.06185074 472.08579729 478.6240696  471.10614515 484.82264799\n",
      "  627.50378485  68.8839604  319.22562554 527.52251137 258.86289808\n",
      "  338.69455266 299.66814979 281.51376521 756.15143986 529.23529739\n",
      "  513.95135957 177.86792853 232.49946236 306.7523431  248.96586111\n",
      "   75.         340.         579.77668115 212.20744568 476.17328779\n",
      "  693.4298811  558.75933997 472.70498199  59.16924877 114.85643212\n",
      "  394.06217783 556.08722337 511.97265552 305.39482641 501.28335301]\n",
      " [448.00111607 160.11246048 423.18081242 362.35341864 250.22589794\n",
      "  492.2154     153.68799563 195.2331939  323.10988843 393.30013984\n",
      "  336.58579887 200.30227158 391.36811316 287.62823227 558.92038789\n",
      "  152.54179755 133.30416348 252.85766747 361.96270526 210.54453211\n",
      "  389.3096454  287.27164844 459.24394389 552.76758226 191.0942176\n",
      "  439.87725561 320.65557846 384.15882132 509.65086088  47.41307836\n",
      "  208.71032557 325.59176894 354.29507476 337.6462646  375.35316703\n",
      "  382.66042387 307.41665537 201.29580224 390.14997116 490.13059484\n",
      "  208.12736485  59.23681288 268.12870044 303.29028999 184.62123388\n",
      "  351.00569796 386.40134575 388.0051546  130.         324.8876729\n",
      "  302.03476621 241.01452238 166.10839834 339.32432863 190.19200824\n",
      "  127.44018205 244.77336456  10.         157.42934923 172.46738822\n",
      "  319.24442047  44.40720662 201.10196419   0.         580.09826754\n",
      "  271.01660466 414.05917451 297.19522203 395.37956447 348.42072269\n",
      "  484.93401613 269.77953962 121.26417443 335.35950859  72.277244\n",
      "  314.19739019  99.40321926  97.01546269 555.14412543 355.10561809\n",
      "  312.94727991 198.56736892  88.23831367 291.29538273 217.16813763\n",
      "  237.77510383 140.12137596 382.8328617  255.44079549 433.77989811\n",
      "  573.59306132 466.72690087 276.8176295  182.33211456 190.39432765\n",
      "  235.33168083 380.31171426 335.53837336 129.52219887 311.8413058 ]\n",
      " [132.96992141 521.50743044 956.70267063 734.82106666 822.40196984\n",
      "  723.79140641 435.27692335 775.1451477  559.39431531 948.30638509\n",
      "  616.92463073 545.36684901 655.54633703 458.31430264  22.13594362\n",
      "  669.02391587 688.94121665 696.85364317 565.10618471 781.06401786\n",
      "  809.90122855 336.70313334 233.56583654 699.4926733  761.33107122\n",
      "  174.13213374 495.25952792 207.4222746  636.12734574 627.14751056\n",
      "  430.70407474 317.95597179 304.80977675 513.9892995  205.88346218\n",
      "  678.84092393 878.16456317 764.77578414 823.96905282  99.24716621\n",
      "  778.9383801  531.50070555 727.151291   730.46081346 764.56327403\n",
      "  353.46428391 684.04678203 411.64304926 458.31212072 499.08115573\n",
      "  840.23627629 447.20688725 497.84535752 365.197207   765.7734652\n",
      "  601.00332778 376.94561942 580.50495261 621.40003219 664.15133818\n",
      "  384.94804844 596.12918063 681.84455707 580.09826754   0.\n",
      "  309.55451862 969.53648719 699.58916515 940.73428767 242.99176941\n",
      "  169.07099101 730.67708326 580.8967206  423.93395712 609.30944519\n",
      "  361.33364084 535.33634287 495.38066171 617.00324148 328.12497619\n",
      "  557.79028317 508.25682484 656.88355132 391.8788078  434.08754877\n",
      "  753.64248819 567.06966062 650.55437897 496.16932594 996.40403452\n",
      "   67.9779376  123.69316877 620.67221623 623.92707907 572.2447029\n",
      "  723.87084483 764.76466969 343.79645141 462.17961876 410.09876859]\n",
      " [177.04519197 245.49134404 666.95727    496.75949915 516.90714834\n",
      "  549.13204241 135.83077707 466.24671581 333.18163215 650.17305389\n",
      "  402.71578067 284.60674623 455.75102852 230.86792761 288.17008866\n",
      "  366.89099199 381.36596597 414.09781453 378.44021985 475.88759177\n",
      "  558.4012894  103.07764064 241.62988226 565.89928433 456.08880714\n",
      "  189.21416437 303.4633421  128.24975634 505.00891081 317.83328963\n",
      "  152.61061562 129.76902558 174.14074767 327.75753233 108.16653826\n",
      "  467.42806933 573.48496057 461.66004809 568.0818603  219.49487466\n",
      "  470.12445161 222.14634816 455.29441024 470.36687809 455.63691685\n",
      "  212.28518554 453.18428922 286.66705426 149.96666296 287.05748553\n",
      "  546.6671748  191.46279012 209.00239233 188.04520733 456.36936795\n",
      "  301.09965128 110.01818032 271.09039083 336.85902096 376.64970463\n",
      "  187.76847446 286.91810678 388.06185074 271.01660466 309.55451862\n",
      "    0.         671.40524276 445.80825475 646.2236455   99.98499887\n",
      "  241.         445.64672107 290.76622913 256.70216205 306.64963721\n",
      "  161.02794788 239.58505796 192.25503895 519.85094017 195.1665955\n",
      "  347.42769032 232.35533134 350.73636823 170.74249617 162.08639671\n",
      "  455.34272806 283.09715647 448.26443089 246.9817807  695.5896779\n",
      "  309.11001278 196.5807722  378.81129867 334.01347278 290.17236257\n",
      "  441.92872729 524.5350322  188.98677202 161.69724797 227.34335266]\n",
      " [842.91162052 451.98340678  70.49113419 356.62445233 170.88007491\n",
      "  521.13817745 537.130338   246.52180431 684.07967372  21.26029163\n",
      "  457.41119357 440.71986567 471.83895558 685.2743976  949.93105013\n",
      "  431.62252027 377.18032823 518.00386099 524.37009831 205.62587386\n",
      "  290.49784853 701.17758093 797.22644211 617.00324148 224.12942689\n",
      "  808.28274756 547.52260227 762.99475752 616.12742189 375.34117813\n",
      "  620.3942295  739.6411292  691.00651227 545.46310599 765.04444315\n",
      "  440.10907739 118.82760622 212.84971224 270.89481353 888.54769146\n",
      "  308.         472.88264929 276.70200578 301.95695057 255.00196078\n",
      "  661.21101019 687.04657775 652.9356783  543.13626283 708.46665412\n",
      "  132.57450735 645.84905357 567.12696991 750.47318406 295.89525174\n",
      "  477.83679222 658.82698791 418.24036151 351.87071489 308.60330523\n",
      "  729.03223523 421.62661206 472.08579729 414.05917451 969.53648719\n",
      "  671.40524276   0.         335.57413488  42.         726.90714675\n",
      "  842.24580735 503.83529055 388.97300678 607.54341409 365.\n",
      "  726.77713228 434.68149259 479.15028958 682.47197745 678.32514328\n",
      "  491.90751163 590.08135032 326.36942259 701.81479038 627.40816061\n",
      "  426.9191961  404.6047454  468.06196171 644.42610127  38.\n",
      "  948.8898777  866.81082134 407.60397447 507.82871128 551.58408244\n",
      "  259.73062969 340.09410462 657.61462879 510.48310452 602.07972894]\n",
      " [588.80387227 202.20039565 292.49444439  65.36818798 284.52416418\n",
      "  223.18826134 319.90154735 314.60610293 618.32434854 317.97169685\n",
      "  121.84005909 161.55494421 144.00694428 567.42664724 683.10540914\n",
      "  424.84820819 378.71493237 534.20033695 189.25643978 261.09002279\n",
      "  112.92918135 516.75913151 494.63117573 308.35855753 254.02362095\n",
      "  526.82919433 223.68057582 495.96068393 291.44639301 298.15599944\n",
      "  472.33145142 555.37104714 397.81905435 216.33307653 510.694625\n",
      "  117.17508268 310.17736861 235.17015117 124.81185841 636.72992705\n",
      "  389.12465869 340.99266854  65.62011887  34.98571137 311.10769839\n",
      "  356.32850012 681.74555371 329.8620924  377.57250959 612.65079776\n",
      "  213.67732683 515.88467704 452.13382975 592.12160913 362.78919499\n",
      "  421.95023403 486.02571948 306.96090956 140.2176879  132.28000605\n",
      "  577.83215556 336.41194985 478.6240696  297.19522203 699.58916515\n",
      "  445.80825475 335.57413488   0.         295.36756762 463.62484834\n",
      "  549.22854988 541.89297836 184.09236812 292.03595669 226.31173191\n",
      "  563.03197067 233.07080469 286.18350756 355.23794842 378.4507894\n",
      "  161.97839362 488.60004093 246.47312227 550.11453353 484.11672146\n",
      "  485.20717225 177.02259743 138.36184445 543.54852589 372.29289545\n",
      "  664.48325788 619.48769156  81.34494453 475.07894081 487.57050772\n",
      "  103.81714695  84.72307832 359.81800955 301.0265769  295.65182225]\n",
      " [815.61265316 420.80042776  41.14608122 314.84122983 164.1097194\n",
      "  479.15028958 511.00391388 242.05164738 678.16001062  32.24903099\n",
      "  417.16783193 406.61775662 430.40910771 672.96730976 921.47327688\n",
      "  427.51608157 371.90993533 519.54210609 484.48735794 192.98186443\n",
      "  248.58197843 681.12407093 763.42517643 575.00347825 209.80467106\n",
      "  777.34483982 509.86762988 733.64092034 574.35616128 359.56779611\n",
      "  603.51056329 720.0173609  658.00455925 506.9930966  737.25504407\n",
      "  398.54234405 121.27654349 195.14353692 229.05894438 861.76853041\n",
      "  310.85044636 454.58772531 238.02520875 261.40007651 249.33912649\n",
      "  626.57481596 688.81710199 615.72477618 522.80493494 699.15734996\n",
      "  100.49875621 631.51326194 553.18080227 734.0640299  295.61123118\n",
      "  468.87524993 639.61316434 400.38606369 320.3825838  277.2002886\n",
      "  713.24890466 407.02948296 471.10614515 395.37956447 940.73428767\n",
      "  646.2236455   42.         295.36756762   0.         697.78076786\n",
      "  809.90987153 507.98622029 359.92221382 571.27313958 341.45717155\n",
      "  709.46529161 407.65671833 454.31376823 640.76516759 644.41368701\n",
      "  453.15449904 578.21795199 307.14328904 685.65005652 611.19964005\n",
      "  431.71286754 374.07619545 426.75754241 633.58109189  80.\n",
      "  918.06971413 840.48854841 368.87531769 502.6748452  543.53012796\n",
      "  224.14281162 298.10736321 623.85655403 484.65348446 566.94267788]\n",
      " [125.35549449 278.82073094 713.81019886 505.01584134 583.00085763\n",
      "  525.03428459 197.06090429 540.80033284 429.33087473 705.69823579\n",
      "  395.18223644 305.37845373 441.72615952 324.8399606  224.10934831\n",
      "  460.10868281 469.012793   513.02436589 355.31676009 541.60132939\n",
      "  575.78207683 189.02909829 143.02447343 525.00380951 522.01532545\n",
      "   92.89241088 279.71592733  36.40054945 461.52464723 395.80929752\n",
      "  252.41434191 202.07176943 102.52804494 302.23831656  50.08991915\n",
      "  459.83692762 637.98589326 524.12307715 588.4301148  173.25414858\n",
      "  554.30136208 307.37599126 486.43396263 492.83262879 530.37345333\n",
      "  153.52524222 551.18508688 229.31419494 240.63457773 379.70119831\n",
      "  597.28217787 289.38728376 308.36504341 265.54848898 538.13381236\n",
      "  396.29534441 207.13522153 350.49821683 378.477212   421.17217382\n",
      "  271.57687678 371.65171868 484.82264799 348.42072269 242.99176941\n",
      "   99.98499887 726.90714675 463.62484834 697.78076786   0.\n",
      "  142.68847185 544.091904   338.04437579 216.52020691 369.40086627\n",
      "  243.07406279 293.61539469 257.47427056 464.53632797 129.34063553\n",
      "  336.04315199 332.34018716 419.07636536 260.11151455 261.51290599\n",
      "  549.92544949 324.09412213 435.36191841 345.04637369 754.30630383\n",
      "  226.10174701 157.43252523 387.64029718 432.16663453 389.73965669\n",
      "  481.40004155 534.46234666 133.66001646 223.57325421 193.06475598]\n",
      " [141.48498154 390.60081925 821.2825336  578.14617529 708.97813789\n",
      "  555.89297531 331.34423188 673.29414077 559.65078397 821.3221049\n",
      "  456.82928978 404.5540755  491.61977177 453.71025997 161.01242188\n",
      "  602.35869712 609.30862459 655.06182914 401.01122179 667.84728793\n",
      "  656.22023742 316.28468189  64.49806199 530.51013185 648.70640509\n",
      "   52.77309921 334.80292711 113.28283189 467.07708143 531.95206551\n",
      "  391.39366372 317.72472362 152.76125163 351.52809276 143.58621104\n",
      "  516.65268798 762.05642836 648.18901564 671.69189365 166.41213898\n",
      "  692.53880758 447.72312873 584.40568101 581.90377211 663.08973752\n",
      "  193.89172236 683.97733881 244.46881192 382.89032372 505.64908781\n",
      "  710.22390836 424.32652521 450.00111111 379.54182905 675.11480505\n",
      "  538.93413327 342.6674773  487.9477431  490.3886214  533.64595005\n",
      "  391.287618   511.25825177 627.50378485 484.93401613 169.07099101\n",
      "  241.         842.24580735 549.22854988 809.90987153 142.68847185\n",
      "    0.         686.41969669 456.26527372 262.73370549 497.06035851\n",
      "  362.9448994  418.62871378 390.38570671 449.49082304 170.80105386\n",
      "  398.77938763 472.15463569 549.17847736 385.9144983  399.43084508\n",
      "  692.40595029 438.41646867 487.16732239 479.52163663 872.21213016\n",
      "  117.68602296 171.01169551 468.41541392 574.58854844 531.09415361\n",
      "  587.33465758 608.15294129 189.6233108  356.54592972 253.8858011 ]\n",
      " [602.53630596 429.41471796 547.28511765 606.14932154 347.63486592\n",
      "  753.47528161 387.33060814 271.84002649 224.84883811 488.89467168\n",
      "  602.36616771 469.86381006 655.03129696 288.64684305 708.57674249\n",
      "  119.33147112 163.80781422  34.43835072 631.55839002 332.71008401\n",
      "  610.04999795 393.97461847 679.17891604 819.9640236  324.61669704\n",
      "  634.8582519  589.01358219 573.89284714 778.87418753 248.82323043\n",
      "  301.43821921 415.98677864 586.3411976  606.86736607 550.28083739\n",
      "  642.24138764 387.39385643 346.78091066 604.17381605 631.58926527\n",
      "  197.14461697 266.27053911 494.75044214 537.20014892 267.52943763\n",
      "  597.39601606 185.19449236 646.70317766 310.21444196 275.54491467\n",
      "  450.95676068 285.01403474 237.32045845 384.70768123 214.40149253\n",
      "  156.46724897 354.80276211 260.50911692 412.51060592 409.68524504\n",
      "  360.92381468 225.52383466  68.8839604  269.77953962 730.67708326\n",
      "  445.64672107 503.83529055 541.89297836 507.98622029 544.091904\n",
      "  686.41969669   0.         387.00129199 595.74910827 325.6148031\n",
      "  377.51423814 368.51322907 349.86425939 824.90847977 594.83190903\n",
      "  582.44055491 222.42751628 295.48096385 345.33751606 296.89223634\n",
      "   77.00649323 408.14825738 646.67147765 243.35365212 503.08051046\n",
      "  746.5828822  607.01647424 539.51181637 112.01785572 158.685223\n",
      "  453.48649373 617.4026239  578.02162589 372.90347276 569.21876287]\n",
      " [456.07017004  68.62215386 377.68902552 247.63077353 255.06861822\n",
      "  370.95147931 155.2063143  234.67637291 435.64320263 367.79342028\n",
      "  215.92822882  88.05679985 270.20732781 383.71994996 561.55943586\n",
      "  267.83950418 234.82972555 372.54261501 246.86838599 214.85343842\n",
      "  287.17416318 344.39802555 416.4252634  433.0738967  196.75873551\n",
      "  419.97738034 217.99311916 374.06015559 392.62322906 139.7891269\n",
      "  290.29123307 383.8606518  308.30180019 230.67292862 377.48244992\n",
      "  261.60275228 306.36579444 193.19679086 292.1711827  502.61018692\n",
      "  282.56680626 157.66420012 171.4176187  197.42846806 225.97787502\n",
      "  287.7846417  506.78693748 303.94900888 196.002551   428.56154751\n",
      "  259.45327132 332.53721596 268.12870044 414.16180413 258.2130903\n",
      "  248.65236777 309.34285187 131.24404748  48.50773134  85.88364221\n",
      "  398.18086343 164.76953602 319.22562554 121.26417443 580.8967206\n",
      "  290.76622913 388.97300678 184.09236812 359.92221382 338.04437579\n",
      "  456.26527372 387.00129199   0.         251.45377309  64.84597135\n",
      "  385.77843382  53.36665626 107.35455277 441.89138937 300.04166377\n",
      "  197.66891511 304.85406345 114.52947219 370.08647638 301.66372006\n",
      "  345.25353003  24.18677324 261.69065707 359.50660634 417.1618391\n",
      "  560.33204442 481.87238975 155.56670595 303.59512513 308.22881111\n",
      "  151.92103212 268.7824399  279.02867236 130.7402004  235.37204592]\n",
      " [334.34862045 185.06755523 576.58997563 315.9018835  500.01299983\n",
      "  309.13104018 215.07673049 486.12138402 559.19406292 587.55169985\n",
      "  194.12367192 172.4093965  232.00215516 469.04583998 410.49482335\n",
      "  484.75663998 467.8888757  572.3853597  142.20056259 461.80623642\n",
      "  395.21639642 357.96787565 204.247399   311.40006423 445.0404476\n",
      "  250.49151682  72.06941099 238.41140912 249.22680434 373.48360071\n",
      "  371.9381669  386.42981251 121.82364303  90.13878189 266.27053911\n",
      "  254.9607813  546.16572576 437.83330161 411.53493169 380.17101415\n",
      "  530.11413865 329.61947758 335.84669121 326.10581105 477.41910309\n",
      "   70.51950085 664.48777265  53.08483776 302.59213473 525.29039588\n",
      "  475.53023037 420.10712919 397.10200201 443.79837764 507.00394476\n",
      "  440.10112474 351.20364463 342.86148807 267.72000299 307.74827376\n",
      "  440.77772176 376.17283262 527.52251137 335.35950859 423.93395712\n",
      "  256.70216205 607.54341409 292.03595669 571.27313958 216.52020691\n",
      "  262.73370549 595.74910827 251.45377309   0.         311.04019033\n",
      "  415.71384389 239.30942313 246.02845364 264.31988196  96.30160954\n",
      "  136.21306839 433.01847536 364.35147866 419.77732192 384.67648745\n",
      "  572.7172077  227.98245547 226.75316977 469.82549952 640.96255741\n",
      "  380.1907416  368.91733491 210.73680267 491.35018062 469.9106298\n",
      "  347.81748087 345.86268952  84.21401309 224.12942689  30.47950131]\n",
      " [480.13019068 126.         365.40662282 291.65047574 213.60009363\n",
      "  428.50904308 174.09192974 179.12007146 395.38335827 343.80372307\n",
      "  277.00180505 152.77761616 329.44347011 357.00140056 588.99235988\n",
      "  206.30317496 170.41713529 313.3129426  311.31495306 172.20046458\n",
      "  317.0520462  341.5391632  462.75371419 494.81309603 152.63354808\n",
      "  456.65304116 282.02836737 405.80044357 456.21924554  76.83749085\n",
      "  272.2645772  380.86480541 354.75202607 295.32524443 403.53686325\n",
      "  317.66806575 268.88845271 155.58920271 318.11475917 524.90380071\n",
      "  219.58369703 125.06398362 195.92090241 231.16444363 169.54350474\n",
      "  340.69487815 455.5809478  364.00549446 184.0543398  396.23225512\n",
      "  243.73140955 308.64866758 236.3048878  401.67773152 196.02295784\n",
      "  195.72685048 301.70515408  81.60882305  88.40814442 100.22474744\n",
      "  383.02088716 110.1453585  258.86289808  72.277244   609.30944519\n",
      "  306.64963721 365.         226.31173191 341.45717155 369.40086627\n",
      "  497.06035851 325.6148031   64.84597135 311.04019033   0.\n",
      "  375.03066541  78.92401409 114.62983905 506.43558327 350.\n",
      "  262.19077024 270.024073    54.12947441 354.77457632 281.99645388\n",
      "  281.00711735  88.60022573 321.06852851 326.67108841 388.98971709\n",
      "  595.09074938 502.69075981 213.92522058 249.3531632  262.05724565\n",
      "  164.14932226 308.70212179 329.25673873 147.18695594 292.34397548]\n",
      " [244.18230894 363.08125812 737.24487112 621.16342455 558.98211063\n",
      "  696.54289172 245.8373446  492.58907824 200.99751242 706.29526404\n",
      "  543.11140662 409.8206925  598.83303182  97.12878049 339.70575503\n",
      "  340.65378319 376.94827231 343.10494022 528.68232427 521.46044912\n",
      "  671.54299937  58.00862005 383.02088716 721.34319155 502.67782923\n",
      "  311.23624468 456.16225184 256.30060476 661.87612134 351.51102401\n",
      "  106.47065323  45.89117562 333.05404967 480.46331806 220.63997825\n",
      "  605.80277319 615.71503149 514.78150705 677.63190598 262.76224995\n",
      "  469.26005583 254.9607813  557.13283874 581.4954858  482.35775105\n",
      "  373.26264212 326.67108841 447.61143864 191.80198122 143.61058457\n",
      "  615.8319576   94.86832981 167.26027622  29.61418579 464.02262876\n",
      "  273.65854637  77.00649323 309.09545451 434.23495944 466.40004288\n",
      "   28.65309756 306.36579444 338.69455266 314.19739019 361.33364084\n",
      "  161.02794788 726.77713228 563.03197067 709.46529161 243.07406279\n",
      "  362.9448994  377.51423814 385.77843382 415.71384389 375.03066541\n",
      "    0.         332.93993452 278.71849598 679.77716937 355.44338508\n",
      "  492.32509585 161.23585209 402.40526836  32.20248438 100.68763579\n",
      "  413.53234456 387.21828469 590.81723062 136.12494261 744.13775606\n",
      "  389.5137995  239.25300416 507.7991729  279.58004221 223.98660674\n",
      "  533.81363789 646.40931305 349.98571399 262.19077024 385.75251133]\n",
      " [408.27441752  60.90155991 427.44005428 294.81010837 290.68883707\n",
      "  404.96543062 103.77379245 257.73047938 393.10176799 413.42472108\n",
      "  246.40008117 104.66135868 302.95214143 334.83279409 515.48520832\n",
      "  251.92459189 229.29675096 350.0228564  264.8773301  249.41932563\n",
      "  339.00589965 291.04295216 383.83590244 458.91284576 230.15212361\n",
      "  379.1635531  221.25324856 329.95908837 413.08715787 134.21251805\n",
      "  239.30942313 330.49810892 275.87315926 238.41560352 330.38916447\n",
      "  298.96488088 344.81879299 230.80077989 344.70277051 454.17287458\n",
      "  292.33542379 117.41379817 224.58851262 249.00200802 247.98790293\n",
      "  263.37046152 472.46693006 292.34397548 144.58561478 381.73420072\n",
      "  307.61664454 283.00706705 222.84748148 361.49965422 270.35162289\n",
      "  220.22715546 256.32206304 108.2266141  101.78899744 138.15932831\n",
      "  346.         143.12581877 299.66814979  99.40321926 535.33634287\n",
      "  239.58505796 434.68149259 233.07080469 407.65671833 293.61539469\n",
      "  418.62871378 368.51322907  53.36665626 239.30942313  78.92401409\n",
      "  332.93993452   0.          54.23098745 456.65304116 271.64867016\n",
      "  216.39085008 260.53790511 132.50283016 318.02515624 251.04780421\n",
      "  336.47585352  56.29387178 294.35013165 313.46610662 461.06832465\n",
      "  518.40138889 432.8336863  192.75113489 275.17630712 271.62658191\n",
      "  204.91949639 317.64760349 251.03187049  78.26237921 218.00917412]\n",
      " [365.62959399  96.74709298 476.17013766 346.88326567 327.02446392\n",
      "  448.01785679  60.46486583 283.64766877 348.14364851 457.91811495\n",
      "  288.87713651 145.82523787 346.070802   283.65119425 474.87682613\n",
      "  239.49321494 229.05457865 327.39731215 297.88084866 285.70089254\n",
      "  393.06233602 237.22773868 362.59205728 495.26154706 265.9567634\n",
      "  347.07924167 243.6554945  293.75159574 445.47951693 142.61837189\n",
      "  186.42961138 276.74175688 257.28777662 263.9337038  289.49956822\n",
      "  345.22021957 382.95299973 270.11849252 398.91477787 410.27795456\n",
      "  304.68508332  84.59905437 278.74181602 303.02640149 273.30020124\n",
      "  255.28219679 435.59843893 297.52310835  91.78235124 332.41540277\n",
      "  355.20838954 231.38712151 176.64653973 307.31905245 285.72189276\n",
      "  194.98974332 202.09403752 102.1763182  155.85891056 190.71706793\n",
      "  292.04280508 132.54433221 281.51376521  97.01546269 495.38066171\n",
      "  192.25503895 479.15028958 286.18350756 454.31376823 257.47427056\n",
      "  390.38570671 349.86425939 107.35455277 246.02845364 114.62983905\n",
      "  278.71849598  54.23098745   0.         483.69928675 258.37956576\n",
      "  251.46769176 214.8883431  161.82088864 264.15336454 198.47921806\n",
      "  328.82366095 109.22453937 337.52185114 265.33375209 503.58812536\n",
      "  483.57522683 388.07473507 240.4163056  247.8326048  234.8659192\n",
      "  257.96317567 370.50371118 239.05229553  34.         220.23850708]\n",
      " [564.47143418 395.8345614  628.60878136 325.9831284  635.84274786\n",
      "  180.96684779 468.81232919 651.96395606 818.49679291 666.88829649\n",
      "  242.5963726  355.71055649 212.03773249 731.98702174 610.43345256\n",
      "  707.12516572 676.71929188 806.58291576 195.15122341 607.23142211\n",
      "  399.4608867  621.90835338 386.09066293 100.60318086 596.24994759\n",
      "  463.78119841 240.46829313 476.24048547  66.94027188 581.38197426\n",
      "  633.43902627 649.11093043 362.0082872  219.80445855 510.71028969\n",
      "  242.66849816 665.20372819 580.75554238 420.07618357 604.16636782\n",
      "  715.9497189  567.40285512 420.57579578 385.03246616 646.04179431\n",
      "  312.52519898 917.32055466 235.9682182  556.54739241 787.82294965\n",
      "  568.01408433 682.05938158 651.41461451 707.61147532 690.01014485\n",
      "  675.71591664 615.30561512 564.40499643 429.83834171 453.10043037\n",
      "  705.05035281 599.39052378 756.15143986 555.14412543 617.00324148\n",
      "  519.85094017 682.47197745 355.23794842 640.76516759 464.53632797\n",
      "  449.49082304 824.90847977 441.89138937 264.31988196 506.43558327\n",
      "  679.77716937 456.65304116 483.69928675   0.         335.36994499\n",
      "  244.24782496 688.75830304 550.77490865 684.06432446 646.35361839\n",
      "  787.10863291 419.04295723 217.02073634 729.78421468 720.23607241\n",
      "  556.70458953 599.54399338 307.54674441 730.03698536 717.90319682\n",
      "  454.75707801 345.17242068 334.62366922 470.95328855 294.59803122]\n",
      " [240.05207768 231.741235   653.72318301 408.33319728 555.09008278\n",
      "  403.43524883 208.95932619 529.12002419 522.01532545 657.69065677\n",
      "  288.87713651 237.80033642 328.29407549 423.44539199 314.33103569\n",
      "  493.38929863 487.37049562 567.62047179 238.43028331 514.85629063\n",
      "  485.6686113  297.8338463  119.01680554 396.87277558 496.55714676\n",
      "  154.32433379 167.14065933 145.41664279 333.08857681 399.14408426\n",
      "  334.43085982 319.8030644   27.29468813 186.4001073  176.91240771\n",
      "  350.80051311 605.52869461 493.09228345 500.96806285 285.01228044\n",
      "  561.02495488 333.09608223 415.10119248 411.25782667 519.50072185\n",
      "   26.17250466 636.53593771 100.         286.27259736 480.10415537\n",
      "  545.78475611 379.4153397  374.36345976 381.29384994 540.41558083\n",
      "  438.94532689 301.8907087  360.55512755 328.2499048  371.\n",
      "  382.69178199 390.00512817 529.23529739 355.10561809 328.12497619\n",
      "  195.1665955  678.32514328 378.4507894  644.41368701 129.34063553\n",
      "  170.80105386 594.83190903 300.04166377  96.30160954 350.\n",
      "  355.44338508 271.64867016 258.37956576 335.36994499   0.\n",
      "  229.93042426 406.2769991  403.9826729  365.77178677 346.10114129\n",
      "  584.11043476 279.51744132 322.98142361 433.23203944 709.75277386\n",
      "  286.94424546 275.00181818 297.6172038  484.87627288 453.48649373\n",
      "  420.57698463 438.34803524  21.02379604 228.00877176  83.21658489]\n",
      " [459.68793763 156.98407563 453.39827966 179.74426277 409.39589641\n",
      "  204.28411588 253.14817795 414.3669871  598.05016512 473.08033144\n",
      "   59.48108943 112.64546152 108.37435121 523.69647698 543.35991755\n",
      "  463.96228295 432.4835257  565.61559384  49.24428901 376.06515393\n",
      "  259.78837541 438.01940596 340.3307215  243.83601047 362.60860442\n",
      "  383.69258528  64.40496875 363.5629244  196.8146336  337.295123\n",
      "  423.06500683 472.64574472 253.10274594  54.3783045  385.85230335\n",
      "  123.79418403 447.59915103 350.00571424 276.73995013 506.90038469\n",
      "  474.05168495 331.63383422 215.2324325  196.91876498 407.54508953\n",
      "  205.30221626 686.47651089 168.5823241  335.17159784 576.5552879\n",
      "  363.41849155 471.43186146 426.86766099 521.8400138  448.46961993\n",
      "  436.60622991 418.74335816 322.47170419 188.29763674 217.33154396\n",
      "  513.24555527 357.3513677  513.95135957 312.94727991 557.79028317\n",
      "  347.42769032 491.90751163 161.97839362 453.15449904 336.04315199\n",
      "  398.77938763 582.44055491 197.66891511 136.21306839 262.19077024\n",
      "  492.32509585 216.39085008 251.46769176 244.24782496 229.93042426\n",
      "    0.         465.10751445 307.37924458 488.1854156  436.03898908\n",
      "  542.91896265 175.0257124  101.07917689 512.50951211 527.39833143\n",
      "  516.04747844 493.0415804   84.30895563 491.56586537 485.37202227\n",
      "  237.22773868 209.67832506 214.10744966 246.9817807  147.82760229]\n",
      " [380.4944152  311.6167518  610.1516205  552.48257891 419.35665012\n",
      "  662.87932537 220.0477221  347.05186932 133.25539389 570.54360044\n",
      "  503.72710866 360.56899478 560.88858074  95.27329112 486.15326801\n",
      "  181.15739013 222.81157959 188.73261509 510.09802979 385.57230191\n",
      "  586.29770595 171.56339936 473.0517942  708.24077827 368.41552627\n",
      "  419.68678797 449.17368578 358.87184342 655.99771341 221.65062599\n",
      "   81.         195.45076106 392.01275489 471.4764045  332.01355394\n",
      "  559.01699437 474.28683305 384.20957823 588.03061145 409.20043988\n",
      "  313.20919527 147.70917372 465.60068728 498.61608478 337.46407216\n",
      "  415.17707066 231.87280996 477.8755068  132.23085873 126.32101963\n",
      "  491.90649518  66.4003012   38.27531842 175.36818412 311.11734121\n",
      "  117.04699911 133.09019498 190.21303846 349.01719155 369.96216023\n",
      "  151.3274595  173.27723451 177.86792853 198.56736892 508.25682484\n",
      "  232.35533134 590.08135032 488.60004093 578.21795199 332.34018716\n",
      "  472.15463569 222.42751628 304.85406345 433.01847536 270.024073\n",
      "  161.23585209 260.53790511 214.8883431  688.75830304 406.2769991\n",
      "  465.10751445   0.         279.71592733 129.63024338  74.81310046\n",
      "  252.49158402 315.86864358 552.32780122  57.         603.1384584\n",
      "  525.23899322 384.61019227 453.15449904 118.70130581  64.25729531\n",
      "  433.84789961 573.07940113 393.11703092 219.32852072 403.20714279]\n",
      " [526.34304403 179.33767033 335.20143198 311.01446912 166.17159805\n",
      "  460.29772974 222.26560688 125.22779244 396.04292697 305.49795417\n",
      "  315.29668568 201.88362985 364.48456757 371.94085551 636.21537234\n",
      "  178.67568385 133.05637903 288.20999289 355.92836358 125.25573839\n",
      "  322.76926743 374.8346302  516.15210936 532.43778979 105.47511555\n",
      "  507.68691139 332.34018716 455.41190147 497.7650048   59.41380311\n",
      "  296.71872202 413.41504569 408.31482951 344.19325967 451.02993249\n",
      "  348.91402953 222.87440409 113.53413584 320.35136959 570.10349938\n",
      "  168.18144963 147.46185948 203.03940504 243.70679104 115.52056094\n",
      "  394.82274504 441.71484014 417.20258868 216.78099548 405.14935518\n",
      "  214.44113411 327.24608477 250.37971164 427.35114367 143.68368035\n",
      "  186.27130751 332.74614949  93.60555539 122.18837915 114.21471009\n",
      "  406.99508597 107.0046728  232.49946236  88.23831367 656.88355132\n",
      "  350.73636823 326.36942259 246.47312227 307.14328904 419.07636536\n",
      "  549.17847736 295.48096385 114.52947219 364.35147866  54.12947441\n",
      "  402.40526836 132.50283016 161.82088864 550.77490865 403.9826729\n",
      "  307.37924458 279.71592733   0.         379.1635531  304.85406345\n",
      "  242.20033031 138.70832708 356.40566774 336.59471178 347.24199055\n",
      "  645.14261989 547.31709274 250.0599928  235.13613078 259.10615585\n",
      "  164.3441511  323.73600356 383.27535793 195.55561869 346.20369727]\n",
      " [272.18376146 352.63720734 714.36195307 609.69254547 533.08160726\n",
      "  692.38211993 237.44683615 465.2794859  174.34735444 681.5071533\n",
      "  536.96275476 400.47222126 593.329588    68.59300256 370.12565434\n",
      "  309.82898509 347.50683447 310.93407661 526.56243694 496.23583103\n",
      "  657.00304413  71.11961755 402.05720986 721.39101741 477.72167629\n",
      "  333.6240399  455.7246976  276.69658473 663.10557229 326.55933611\n",
      "   82.71033793  74.16872656 344.81589291 479.86039637 242.54690268\n",
      "  598.58499814 589.54219527 490.60880547 662.24466778 292.97952147\n",
      "  439.50881675 232.28000344 540.83269132 567.02204543 455.15931277\n",
      "  381.93193111 299.70819141 454.68780498 174.23260315 120.15406776\n",
      "  593.329588    63.2534584  138.22083779  48.76474136 435.02873468\n",
      "  243.39268683  69.7782201  285.56785533 418.26905217 448.57552318\n",
      "   28.28427125 280.41576275 306.7523431  291.29538273 391.8788078\n",
      "  170.74249617 701.81479038 550.11453353 685.65005652 260.11151455\n",
      "  385.9144983  345.33751606 370.08647638 419.77732192 354.77457632\n",
      "   32.20248438 318.02515624 264.15336454 684.06432446 365.77178677\n",
      "  488.1854156  129.63024338 379.1635531    0.          74.46475676\n",
      "  381.643813   373.34300583 585.15809829 104.56098699 718.24508352\n",
      "  418.04305998 269.16351907 498.37837032 247.68124677 191.97135203\n",
      "  515.7402447  634.13563218 358.58750675 251.04780421 389.46630149]\n",
      " [305.74662713 291.66076184 640.04999805 545.33842703 458.90412942\n",
      "  638.75660466 183.00273222 391.9311164  176.23280058 607.07577781\n",
      "  480.95322018 340.58919537 538.00092937  87.658428   411.96359062\n",
      "  244.01844193 277.24357522 263.38754716 477.67038845 421.85898118\n",
      "  588.76480873  97.86214794 403.71400768 675.11332382 403.29765682\n",
      "  346.77081769 410.84546973 286.27259736 619.42715472 252.1150531\n",
      "   13.03840481 126.01587202 329.23699671 434.33742643 258.12400121\n",
      "  540.45998927 515.48520832 416.14660878 593.08431104 335.21634805\n",
      "  369.8229306  158.38244852 471.00424627 499.09217586 381.71848265\n",
      "  357.92876386 292.02739598 425.50910684 106.70520137 141.82383439\n",
      "  519.14256231  35.80502758  68.24954212 123.06502346 363.79252329\n",
      "  175.85505395  58.30951895 211.24866863 349.24203642 377.53013125\n",
      "  102.14205794 206.18923347 248.96586111 217.16813763 434.08754877\n",
      "  162.08639671 627.40816061 484.11672146 611.19964005 261.51290599\n",
      "  399.43084508 296.89223634 301.66372006 384.67648745 281.99645388\n",
      "  100.68763579 251.04780421 198.47921806 646.35361839 346.10114129\n",
      "  436.03898908  74.81310046 304.85406345  74.46475676   0.\n",
      "  322.44224289 307.16770664 529.62345114  87.13208364 644.08462177\n",
      "  450.42757464 310.567223   437.49514283 190.33917096 138.24615727\n",
      "  444.30282466 568.6554317  335.07611076 191.12822921 354.26120307]\n",
      " [622.38251903 396.33950093 471.28865889 548.04470621 272.80029325\n",
      "  702.31403232 375.34117813 198.69826371 287.27861041 412.14560534\n",
      "  556.43957444 431.84487956 606.58057997 333.51611655 731.52785319\n",
      "   91.00549434 110.63905278  96.76776323 592.12160913 260.86394921\n",
      "  545.3191726  420.00238095 678.01032441 774.08591254 254.67233851\n",
      "  642.48657574 557.12924892 582.29288163 737.14109911 205.82759776\n",
      "  324.00771596 447.28179037 579.06994396 572.87520456 562.9253947\n",
      "  590.9754648  310.85044636 277.10828208 538.05947627 655.70801429\n",
      "  121.27654349 251.16130275 433.67268763 477.12681752 195.49424544\n",
      "  583.30438023 261.76516193 625.09599263 309.5948966  331.09666262\n",
      "  378.08464661 318.6926419  256.18157623 425.40568873 140.57738083\n",
      "  154.25952159 377.51423814 229.92390045 363.61655628 354.46861638\n",
      "  401.20319042 196.70536342  75.         237.77510383 753.64248819\n",
      "  455.34272806 426.9191961  485.20717225 431.71286754 549.92544949\n",
      "  692.40595029  77.00649323 345.25353003 572.7172077  281.00711735\n",
      "  413.53234456 336.47585352 328.82366095 787.10863291 584.11043476\n",
      "  542.91896265 252.49158402 242.20033031 381.643813   322.44224289\n",
      "    0.         368.1100379  598.45300567 286.83967647 426.11735473\n",
      "  762.90235286 631.01267816 491.75705384 133.96268137 189.83413813\n",
      "  391.56097865 556.90932835 565.79236474 356.62445233 548.34295838]\n",
      " [444.19027454  48.02082881 389.81021023 238.51624683 275.94383486\n",
      "  353.45438178 149.32514859 258.2130903  447.90400757 383.53748187\n",
      "  196.62146373  64.19501538 251.97817366 391.12657798 548.12589795\n",
      "  289.27668416 257.89920512 392.68944473 224.26992665 236.24775131\n",
      "  284.34486104 343.23315691 396.78835668 412.71055232 218.57950499\n",
      "  403.68552117 193.82982227 359.75547251 370.81801466 162.33915116\n",
      "  295.32693748 382.42384863 288.97923801 206.72929159 365.25607456\n",
      "  245.50560075 326.0383413  213.77090541 290.99312707 491.19649836\n",
      "  306.7523431  170.47287174 173.21951391 194.31160542 249.64975466\n",
      "  266.29494926 523.20550456 280.30340704 200.56420418 437.82416562\n",
      "  273.65123789 339.28454135 278.44209452 416.05889006 282.39157211\n",
      "  266.73769887 310.31596801 149.96666296  54.64430437  97.08243919\n",
      "  401.17951094 184.28781837 340.         140.12137596 567.06966062\n",
      "  283.09715647 404.6047454  177.02259743 374.07619545 324.09412213\n",
      "  438.41646867 408.14825738  24.18677324 227.98245547  88.60022573\n",
      "  387.21828469  56.29387178 109.22453937 419.04295723 279.51744132\n",
      "  175.0257124  315.86864358 138.70832708 373.34300583 307.16770664\n",
      "  368.1100379    0.         243.40295808 369.35619664 433.88132018\n",
      "  544.3280261  471.0711199  138.97481786 321.86487848 323.39449593\n",
      "  159.38946013 261.48996157 258.49564793 127.09838709 212.70872102]\n",
      " [557.85481982 240.78413569 418.00119617 115.95257651 421.25764088\n",
      "  110.67520047 348.19103952 444.20378206 685.55452008 451.70122869\n",
      "   48.75448697 191.760267     8.60232527 617.01296583 637.2479894\n",
      "  527.37083727 488.41478274 633.75862913  86.31338251 395.049364\n",
      "  197.09134938 537.37882355 425.75579855 176.70597047 385.79787454\n",
      "  477.24312462 156.73225577 461.52464723 153.18289722 397.85047442\n",
      "  516.79493032 572.62291257 347.84479298 136.61625086 485.35863029\n",
      "   32.64965543 448.52870588 368.68007812 217.00230414 604.62633089\n",
      "  513.85795703 411.75235276 203.88722373 168.19036833 439.38593514\n",
      "  297.27092021 766.28780494 245.4648651  425.85091288 668.34197833\n",
      "  351.06979363 564.48649231 514.12547107 620.40631847 487.48333305\n",
      "  509.98235264 516.20247965 392.78110953 235.         248.21361768\n",
      "  610.84367886 426.45632836 579.77668115 382.8328617  650.55437897\n",
      "  448.26443089 468.06196171 138.36184445 426.75754241 435.36191841\n",
      "  487.16732239 646.67147765 261.69065707 226.75316977 321.06852851\n",
      "  590.81723062 294.35013165 337.52185114 217.02073634 322.98142361\n",
      "  101.07917689 552.32780122 356.40566774 585.15809829 529.62345114\n",
      "  598.45300567 243.40295808   0.         602.42924896 505.53140357\n",
      "  604.84212816 591.67643184 107.16809227 565.05220998 565.82771229\n",
      "  239.65391714 141.31525042 309.23292192 338.63992677 243.97130979]\n",
      " [374.22586763 361.80934206 666.02702648 607.00082372 473.55358725\n",
      "  712.64717778 262.24034777 399.9324943   89.49860334 625.1279869\n",
      "  553.69666786 411.02433018 610.94107736  46.69047012 474.34375721\n",
      "  226.33824246 272.83694764 208.94257584 556.12678411 440.69150207\n",
      "  642.47334575 165.30275255 487.93954544 754.26918272 423.88323864\n",
      "  426.75754241 492.10771179 367.2710171  700.25281149 278.31277369\n",
      "   99.04544412 178.21335528 416.20307543 515.09707823 336.36289926\n",
      "  610.53173546 527.81151939 440.14770248 644.49747866 397.11207486\n",
      "  360.66189153 203.39370688 521.9894635  554.42312362 390.62129998\n",
      "  444.93257916 206.24257562 511.79878859 177.34147851  69.58448103\n",
      "  548.29280499  55.6596802   91.44397192 141.35416513 360.90580489\n",
      "  167.69317219 137.9275172  247.16391322 404.46755123 426.43287866\n",
      "  117.63077829 229.96086624 212.20744568 255.44079549 496.16932594\n",
      "  246.9817807  644.42610127 543.54852589 633.58109189 345.04637369\n",
      "  479.52163663 243.35365212 359.50660634 469.82549952 326.67108841\n",
      "  136.12494261 313.46610662 265.33375209 729.78421468 433.23203944\n",
      "  512.50951211  57.         336.59471178 104.56098699  87.13208364\n",
      "  286.83967647 369.35619664 602.42924896   0.         656.40307738\n",
      "  520.27781041 373.10052265 505.30980596 155.1289786  100.\n",
      "  490.63326426 628.1695631  422.13268056 265.52965936 439.52815609]\n",
      " [868.62189703 481.61499146 104.75208828 394.46799617 185.18099255\n",
      "  559.1287866  562.42777314 256.49366464 691.59308846  54.40588203\n",
      "  494.07388111 472.67113303 509.40357282 698.40174685 976.52086511\n",
      "  438.78240621 385.84582413 519.54210609 560.72096447 223.34278587\n",
      "  328.44025332 720.95076115 828.45518889 655.00305343 242.68910153\n",
      "  837.10513079 582.10394261 790.53715915 653.9457164  392.94910612\n",
      "  637.67154555 758.96310846 721.6716705  580.69096773 791.26796978\n",
      "  477.78237724 128.94960256 234.26694176 308.78471465 913.76419278\n",
      "  310.33530254 491.94511889 312.43559336 338.9542742  265.8006772\n",
      "  693.25031554 687.65470987 687.07859812 563.60003549 718.90263597\n",
      "  165.46903033 660.85474955 582.07301947 767.00065189 301.24076749\n",
      "  488.92126155 677.98598806 437.25164379 382.10600623 338.99852507\n",
      "  745.06643999 437.8961064  476.17328779 433.77989811 996.40403452\n",
      "  695.5896779   38.         372.29289545  80.         754.30630383\n",
      "  872.21213016 503.08051046 417.1618391  640.96255741 388.98971709\n",
      "  744.13775606 461.06832465 503.58812536 720.23607241 709.75277386\n",
      "  527.39833143 603.1384584  347.24199055 718.24508352 644.08462177\n",
      "  426.11735473 433.88132018 505.53140357 656.40307738   0.\n",
      "  977.49271097 891.66193145 443.15798537 515.40469536 561.48463915\n",
      "  293.39393313 378.08464661 688.93903939 535.62020126 634.58963118]\n",
      " [146.05478424 497.27758848 931.42739921 695.12660717 808.6185751\n",
      "  671.96800519 423.15127319 766.77571688 590.35667185 927.7866134\n",
      "  574.31437384 515.80034897 609.26184847 486.23142638  74.27651042\n",
      "  675.49833456 690.0818792  713.49281706 518.66366751 767.23529637\n",
      "  772.5652076  356.02528    180.24982663 642.19701027 747.71786123\n",
      "  140.7302384  452.23998054 189.85520799 579.51100076 621.0032206\n",
      "  445.19321648 344.17582716 266.67208328 469.18866141 200.96019506\n",
      "  634.3311438  863.20333642 749.20024026 787.67505991 133.15029102\n",
      "  777.63230386 529.50731817 697.03658441 696.62759061 756.32400464\n",
      "  310.83114387 715.96438459 361.56465535 458.86054526 531.54962139\n",
      "  817.81171427 468.23605158 510.13429604 398.02763723 762.50245901\n",
      "  608.80210249 392.1645063  575.16693229 597.68971883 640.90248868\n",
      "  415.39378907 594.30379437 693.4298811  573.59306132  67.9779376\n",
      "  309.11001278 948.8898777  664.48325788 918.06971413 226.10174701\n",
      "  117.68602296 746.5828822  560.33204442 380.1907416  595.09074938\n",
      "  389.5137995  518.40138889 483.57522683 556.70458953 286.94424546\n",
      "  516.04747844 525.23899322 645.14261989 418.04305998 450.42757464\n",
      "  762.90235286 544.3280261  604.84212816 520.27781041 977.49271097\n",
      "    0.         153.16984037 584.11043476 637.03846038 588.05526951\n",
      "  697.44963976 725.14274457 304.80977675 449.67210276 370.15132041]\n",
      " [ 35.22782991 428.54404674 859.546392   662.24013771 713.4879116\n",
      "  677.90412301 329.70592958 661.82323924 439.09224543 845.55603008\n",
      "  552.31874855 459.57045162 597.81351607 336.38073667 101.63660758\n",
      "  547.4422344  569.71922909 573.17100415 510.08332653 672.45892068\n",
      "  732.03825037 213.04694318 222.38030488 669.78354713 652.65994208\n",
      "  137.99275343 435.29530207 130.55267136 605.68803851 513.06334892\n",
      "  307.48333288 195.02820309 248.0503981  457.08314342 108.84851859\n",
      "  616.78602448 770.04740114 657.99848024 744.15388194  24.69817807\n",
      "  660.74579075 415.2023603  638.77147713 647.79086131 651.1965909\n",
      "  301.0265769  564.42891492 371.98118232 341.07183994 379.58134833\n",
      "  740.4032685  323.59542642 374.92665949 245.66033461 648.83665125\n",
      "  479.12941884 253.7479064  466.20381809 525.67860904 567.18339186\n",
      "  264.0170449  479.17637671 558.75933997 466.72690087 123.69316877\n",
      "  196.5807722  866.81082134 619.48769156 840.48854841 157.43252523\n",
      "  171.01169551 607.01647424 481.87238975 368.91733491 502.69075981\n",
      "  239.25300416 432.8336863  388.07473507 599.54399338 275.00181818\n",
      "  493.0415804  384.61019227 547.31709274 269.16351907 310.567223\n",
      "  631.01267816 471.0711199  591.67643184 373.10052265 891.66193145\n",
      "  153.16984037   0.         544.56771847 500.62460986 448.64685444\n",
      "  630.29278911 691.59598032 284.70335439 356.32850012 348.05315686]\n",
      " [512.99220267 146.01369799 369.77019891 118.45674316 331.29594021\n",
      "  215.42516102 261.96182928 344.511248   585.8498101  388.82000977\n",
      "   65.9241989   98.00510191 115.52056094 523.71939051 604.66519662\n",
      "  420.22018038 381.52588379 526.83299061 121.26417443 300.54117854\n",
      "  189.23530326 457.85696456 413.36303657 282.39688384 288.90309794\n",
      "  447.2940867  143.22011032 418.86752082 250.         290.68883707\n",
      "  425.02235235 495.29183317 317.60510071 138.19189557 435.76369743\n",
      "  106.53168543 366.40005459 274.11676344 203.62956563 560.8707516\n",
      "  410.61539182 309.23292192 130.92364187 115.43396381 338.78754404\n",
      "  275.18175812 661.91993474 249.70382456 331.44531977 572.80013966\n",
      "  279.52996262 471.27486672 415.29266789 537.32020249 384.39693027\n",
      "  404.21900005 431.33513652 286.80306832 128.14054784 145.7978052\n",
      "  525.25517608 320.0624939  472.70498199 276.8176295  620.67221623\n",
      "  378.81129867 407.60397447  81.34494453 368.87531769 387.64029718\n",
      "  468.41541392 539.51181637 155.56670595 210.73680267 213.92522058\n",
      "  507.7991729  192.75113489 240.4163056  307.54674441 297.6172038\n",
      "   84.30895563 453.15449904 250.0599928  498.37837032 437.49514283\n",
      "  491.75705384 138.97481786 107.16809227 505.30980596 443.15798537\n",
      "  584.11043476 544.56771847   0.         459.14812425 462.36133056\n",
      "  154.57360706 147.25827651 279.30270317 247.52373624 214.61826577]\n",
      " [494.13560892 335.1492205  538.49141126 540.4377855  338.81263259\n",
      "  674.54651433 279.24362123 261.48996157 176.30938716 489.88365966\n",
      "  518.48336521 379.52602019 573.60090655 201.6754819  601.79149213\n",
      "   76.65507159 130.86252328  82.76472679 539.94258954 312.00641019\n",
      "  557.82882679 288.20131853 567.27418415 733.59730098 298.24151287\n",
      "  523.17205583 490.95111773 462.25209572 688.2012787  178.03651311\n",
      "  193.22784478 313.96974377 475.47870615 510.39200621 439.39617659\n",
      "  564.88051834 389.16577445 317.90721917 555.42596266 525.3046735\n",
      "  210.09045671 163.26665306 437.52257085 476.74311741 253.55078387\n",
      "  488.60004093 207.06762181 541.15524575 199.10047715 207.51144547\n",
      "  427.85277842 184.76200908 126.90547664 291.73275442 214.56001491\n",
      "   55.15432893 246.98380514 172.35138526 337.55147756 344.81589291\n",
      "  267.5256997  139.61733417  59.16924877 182.33211456 623.92707907\n",
      "  334.01347278 507.82871128 475.07894081 502.6748452  432.16663453\n",
      "  574.58854844 112.01785572 303.59512513 491.35018062 249.3531632\n",
      "  279.58004221 275.17630712 247.8326048  730.03698536 484.87627288\n",
      "  491.56586537 118.70130581 235.13613078 247.68124677 190.33917096\n",
      "  133.96268137 321.86487848 565.05220998 155.1289786  515.40469536\n",
      "  637.03846038 500.62460986 459.14812425   0.          56.08029957\n",
      "  399.47215172 555.96582629 468.62458322 267.23959288 463.77796412]\n",
      " [443.85245296 328.61223349 577.7819658  552.67531155 381.06823536\n",
      "  676.33275834 254.89213405 305.39482641 137.29530218 532.90243009\n",
      "  518.01544379 375.79382645 574.42928198 146.21901381 550.12907576\n",
      "  126.76355943 175.84083712 125.44720005 532.46314426 350.89742091\n",
      "  577.76465797 235.63743336 528.20923884 729.11041688 335.43553777\n",
      "  479.00104384 477.46204038 418.00478466 680.2896442  199.74483723\n",
      "  142.86357128 259.53805116 441.61634934 498.40244783 392.86129868\n",
      "  568.8839952  433.71073309 353.51096164 577.24951278 473.26314034\n",
      "  261.37520923 154.30165262 456.50082147 493.13791174 296.62265591\n",
      "  459.78799462 201.13676939 517.58863975 168.67127793 157.48650736\n",
      "  463.2763754  129.3754227   81.49846624 235.67138138 263.00760445\n",
      "   75.10659092 196.12241075 180.69311    347.6118525  361.44847489\n",
      "  211.46394492 154.01947929 114.85643212 190.39432765 572.2447029\n",
      "  290.17236257 551.58408244 487.57050772 543.53012796 389.73965669\n",
      "  531.09415361 158.685223   308.22881111 469.9106298  262.05724565\n",
      "  223.98660674 271.62658191 234.8659192  717.90319682 453.48649373\n",
      "  485.37202227  64.25729531 259.10615585 191.97135203 138.24615727\n",
      "  189.83413813 323.39449593 565.82771229 100.         561.48463915\n",
      "  588.05526951 448.64685444 462.36133056  56.08029957   0.\n",
      "  421.04750326 570.64612502 438.67527854 247.84269204 441.07255639]\n",
      " [602.95936845 202.62526989 234.05341271 159.61516219 181.60396471\n",
      "  326.53483735 306.86316169 212.21922627 556.7737422  239.76655313\n",
      "  214.021027   182.98087332 246.         521.0345478  705.43674415\n",
      "  340.54368295 289.84996119 449.75104224 275.63744303 157.30861388\n",
      "  158.49605673 495.04141241 539.58687901 412.04490047 150.95032295\n",
      "  556.87072108 289.13145799 516.50072604 392.58756985 222.33533232\n",
      "  433.94124026 534.58862689 434.90918592 289.16777137 523.91697816\n",
      "  220.7351354  212.23571801 131.5180596  156.32018424 650.17305389\n",
      "  288.92213484 289.01557051  42.52058325  86.68333173 209.48030934\n",
      "  402.45745117 606.00082508 393.70674366 342.13009222 560.14730206\n",
      "  127.95311641 472.17899149 400.45099575 561.47128155 262.86498436\n",
      "  349.81709507 458.32848482 243.97745798 105.09519494  67.46851117\n",
      "  544.01838204 267.05991837 394.06217783 235.33168083 723.87084483\n",
      "  441.92872729 259.73062969 103.81714695 224.14281162 481.40004155\n",
      "  587.33465758 453.48649373 151.92103212 347.81748087 164.14932226\n",
      "  533.81363789 204.91949639 257.96317567 454.75707801 420.57698463\n",
      "  237.22773868 433.84789961 164.3441511  515.7402447  444.30282466\n",
      "  391.56097865 159.38946013 239.65391714 490.63326426 293.39393313\n",
      "  697.44963976 630.29278911 154.57360706 399.47215172 421.04750326\n",
      "    0.         165.51737069 400.1362268  282.66057383 342.81190178]\n",
      " [659.76056263 284.04401067 283.59301825  30.01666204 331.05890714\n",
      "  182.10161998 402.06094065 374.97333239 702.34250904 326.09814474\n",
      "  153.9123127  240.30397417 142.23923509 652.13572207 749.41643964\n",
      "  502.28477978 453.60004409 611.83657949 219.31712199 315.97784732\n",
      "   55.90169944 599.10099316 550.00545452 277.18044664 313.12936624\n",
      "  590.76983674 274.04561664 565.10618471 278.28941769 378.13357428\n",
      "  556.80607037 637.37979259 460.21951284 260.34208265 582.84560563\n",
      "  109.17875251 344.05813462 292.00171232  76.15773106 707.58533054\n",
      "  453.43136195 425.40568873 123.23960402  80.21221852 373.23719\n",
      "  414.3428532  762.98427245 375.2932187  462.04437016 697.31843515\n",
      "  239.2822601  600.55391099 536.73922905 675.62267576 427.61898929\n",
      "  503.62684599 569.42514872 389.96025438 224.24317158 211.17765033\n",
      "  661.74315259 418.35989292 556.08722337 380.31171426 764.76466969\n",
      "  524.5350322  340.09410462  84.72307832 298.10736321 534.46234666\n",
      "  608.15294129 617.4026239  268.7824399  345.86268952 308.70212179\n",
      "  646.40931305 317.64760349 370.50371118 345.17242068 438.34803524\n",
      "  209.67832506 573.07940113 323.73600356 634.13563218 568.6554317\n",
      "  556.90932835 261.48996157 141.31525042 628.1695631  378.08464661\n",
      "  725.14274457 691.59598032 147.25827651 555.96582629 570.64612502\n",
      "  165.51737069   0.         421.36089045 384.21998907 355.30831682]\n",
      " [250.1539526  210.71782079 633.48243859 391.36939073 534.07209251\n",
      "  393.28615536 191.21192431 508.3719111  511.28270067 636.9529025\n",
      "  273.40811985 217.2487054  314.87934197 414.3428532  329.25673873\n",
      "  475.23152252 468.10682541 551.29393249 225.88713996 493.85119216\n",
      "  467.8888757  292.06334929 139.61733417 391.47158262 475.56808135\n",
      "  169.66437458 152.61061562 154.20765221 328.16154558 379.2228896\n",
      "  323.11298334 316.18349103  39.         173.17332358 182.88794383\n",
      "  336.21570457 584.51090666 472.06991008 482.87161855 296.13848112\n",
      "  540.94824152 315.06348567 395.27838292 392.31747348 498.78352018\n",
      "   23.34523506 624.15703152  98.88377015 270.69170656 471.06899707\n",
      "  525.09522946 369.01219492 360.34705493 376.60191184 520.15862965\n",
      "  421.84949923 293.15524897 341.17737322 307.32718721 350.12140751\n",
      "  376.70280063 371.06603186 511.97265552 335.53837336 343.79645141\n",
      "  188.98677202 657.61462879 359.81800955 623.85655403 133.66001646\n",
      "  189.6233108  578.02162589 279.02867236  84.21401309 329.25673873\n",
      "  349.98571399 251.03187049 239.05229553 334.62366922  21.02379604\n",
      "  214.10744966 393.11703092 383.27535793 358.58750675 335.07611076\n",
      "  565.79236474 258.49564793 309.23292192 422.13268056 688.93903939\n",
      "  304.80977675 284.70335439 279.30270317 468.62458322 438.67527854\n",
      "  400.1362268  421.36089045   0.         209.28927349  66.3098786 ]\n",
      " [333.06605951 101.60708637 505.30188996 359.09330264 360.31236448\n",
      "  448.16514813  26.90724809 317.64760349 351.60204778 489.22898524\n",
      "  289.92757716 149.89663105 347.05186932 278.38462601 441.81444069\n",
      "  266.30996977 259.84995671 348.56993559 291.00687277 318.94356868\n",
      "  410.67018397 216.33538777 329.73474188 489.21978701 299.24070579\n",
      "  313.08145905 230.62523713 259.88074188 436.68753131 175.8635835\n",
      "  178.39282497 255.40947516 225.39077177 252.46187831 256.36302385\n",
      "  349.43525867 415.98677864 302.76063152 417.90549171 378.19042822\n",
      "  337.61664651 106.96261029 300.04166377 320.80679544 307.29952815\n",
      "  226.73552876 446.37428241 274.11676344  88.20430828 330.05454095\n",
      "  384.98441527 225.84950742 181.37254478 291.43953061 319.10029771\n",
      "  216.62179022 185.21878954 133.82077567 178.37040113 216.27066375\n",
      "  278.21035207 162.04937519 305.39482641 129.52219887 462.17961876\n",
      "  161.69724797 510.48310452 301.0265769  484.65348446 223.57325421\n",
      "  356.54592972 372.90347276 130.7402004  224.12942689 147.18695594\n",
      "  262.19077024  78.26237921  34.         470.95328855 228.00877176\n",
      "  246.9817807  219.32852072 195.55561869 251.04780421 191.12822921\n",
      "  356.62445233 127.09838709 338.63992677 265.52965936 535.62020126\n",
      "  449.67210276 356.32850012 247.52373624 267.23959288 247.84269204\n",
      "  282.66057383 384.21998907 209.28927349   0.         196.6545194 ]\n",
      " [314.00636936 167.35889579 574.41187314 325.30139871 487.62690656\n",
      "  332.18217893 186.19613315 469.52422728 528.92816147 581.74908681\n",
      "  207.18349355 162.33915116 249.90398156 438.56698462 395.53634473\n",
      "  459.62811054 444.93257916 545.2228902  162.30834852 448.55545922\n",
      "  402.45372405 328.10059433 199.42417105 339.31254029 431.17745767\n",
      "  235.9682182   87.29833904 217.67177125 277.80028798 351.56933882\n",
      "  341.5391632  357.11202724 105.30906894 109.22453937 243.13165158\n",
      "  270.32572945 535.55578608 425.3292842  417.80856861 360.66189153\n",
      "  510.14115694 302.94884057 334.52055243 328.78260295 460.50624317\n",
      "   60.8276253  634.83304892  77.49193506 273.27092784 494.81814841\n",
      "  469.59131167 389.66780724 367.52278841 413.96859784 487.64126158\n",
      "  413.1682466  320.8005611  318.94356868 256.46247289 297.95301643\n",
      "  410.64339761 351.63759753 501.28335301 311.8413058  410.09876859\n",
      "  227.34335266 602.07972894 295.65182225 566.94267788 193.06475598\n",
      "  253.8858011  569.21876287 235.37204592  30.47950131 292.34397548\n",
      "  385.75251133 218.00917412 220.23850708 294.59803122  83.21658489\n",
      "  147.82760229 403.20714279 346.20369727 389.46630149 354.26120307\n",
      "  548.34295838 212.70872102 243.97130979 439.52815609 634.58963118\n",
      "  370.15132041 348.05315686 214.61826577 463.77796412 441.07255639\n",
      "  342.81190178 355.30831682  66.3098786  196.6545194    0.        ]]\n"
     ]
    }
   ],
   "source": [
    "arr = np.random.randint(34, 789, size=(100,2))\n",
    "piont_dist = np.sqrt(np.sum((arr - arr[:, np.newaxis])**2, axis=-1))\n",
    "\n",
    "print(piont_dist)"
   ]
  },
  {
   "cell_type": "markdown",
   "metadata": {},
   "source": [
    "#### 53. How to convert a float (32 bits) array into an integer (32 bits) in place?"
   ]
  },
  {
   "cell_type": "code",
   "execution_count": 57,
   "metadata": {},
   "outputs": [
    {
     "name": "stdout",
     "output_type": "stream",
     "text": [
      "[7.01e-45 1.25e-43 5.61e-45]\n"
     ]
    }
   ],
   "source": [
    "float_array = np.array([5.67, 89.49, 4.8], dtype=np.float32)\n",
    "\n",
    "float_array.view(dtype=np.int32)[:] = float_array\n",
    "\n",
    "print(float_array)"
   ]
  },
  {
   "cell_type": "markdown",
   "metadata": {},
   "source": [
    "#### 54. How to read the following file? (★★☆)\n",
    "```\n",
    "1, 2, 3, 4, 5\n",
    "6,  ,  , 7, 8\n",
    " ,  , 9,10,11\n",
    "```"
   ]
  },
  {
   "cell_type": "code",
   "execution_count": 58,
   "metadata": {},
   "outputs": [
    {
     "name": "stdout",
     "output_type": "stream",
     "text": [
      "[[ 1.  2.  3.  4.  5.]\n",
      " [ 6. nan nan  7.  8.]\n",
      " [nan nan  9. 10. 11.]]\n"
     ]
    }
   ],
   "source": [
    "\n",
    "data = np.genfromtxt('fifty_four.txt', delimiter=',', dtype=float, missing_values='')\n",
    "\n",
    "\n",
    "print(data)"
   ]
  },
  {
   "cell_type": "markdown",
   "metadata": {},
   "source": [
    "#### 55. What is the equivalent of enumerate for numpy arrays? "
   ]
  },
  {
   "cell_type": "code",
   "execution_count": 65,
   "metadata": {},
   "outputs": [
    {
     "name": "stdout",
     "output_type": "stream",
     "text": [
      "(0,) 43\n",
      "(1,) 45\n",
      "(2,) 80\n",
      "(3,) 69\n",
      "(4,) 48\n",
      "(5,) 28\n",
      "(6,) 83\n",
      "(7,) 71\n",
      "(8,) 73\n",
      "(9,) 36\n",
      "(10,) 68\n",
      "(11,) 95\n",
      "(12,) 56\n",
      "(13,) 52\n",
      "(14,) 55\n",
      "(15,) 50\n",
      "(16,) 86\n",
      "(17,) 50\n",
      "(18,) 61\n",
      "(19,) 47\n",
      "(20,) 27\n",
      "(21,) 32\n",
      "(22,) 41\n"
     ]
    }
   ],
   "source": [
    "arr = np.random.randint(23, 98, 23)\n",
    "for index, value in np.ndenumerate(arr):\n",
    "    print(index, value)"
   ]
  },
  {
   "cell_type": "markdown",
   "metadata": {},
   "source": [
    "#### 56. Generate a generic 2D Gaussian-like array "
   ]
  },
  {
   "cell_type": "code",
   "execution_count": null,
   "metadata": {},
   "outputs": [],
   "source": []
  },
  {
   "cell_type": "markdown",
   "metadata": {},
   "source": [
    "#### 57. How to randomly place p elements in a 2D array?"
   ]
  },
  {
   "cell_type": "code",
   "execution_count": 66,
   "metadata": {},
   "outputs": [
    {
     "ename": "TypeError",
     "evalue": "'module' object is not callable",
     "output_type": "error",
     "traceback": [
      "\u001b[1;31m---------------------------------------------------------------------------\u001b[0m",
      "\u001b[1;31mTypeError\u001b[0m                                 Traceback (most recent call last)",
      "Cell \u001b[1;32mIn[66], line 3\u001b[0m\n\u001b[0;32m      1\u001b[0m n \u001b[38;5;241m=\u001b[39m \u001b[38;5;241m10\u001b[39m\n\u001b[0;32m      2\u001b[0m p \u001b[38;5;241m=\u001b[39m \u001b[38;5;241m3\u001b[39m\n\u001b[1;32m----> 3\u001b[0m z \u001b[38;5;241m=\u001b[39m \u001b[43mnp\u001b[49m\u001b[38;5;241;43m.\u001b[39;49m\u001b[43mrandom\u001b[49m\u001b[43m(\u001b[49m\u001b[43m(\u001b[49m\u001b[43mn\u001b[49m\u001b[43m,\u001b[49m\u001b[43mn\u001b[49m\u001b[43m)\u001b[49m\u001b[43m)\u001b[49m\n\u001b[0;32m      4\u001b[0m np\u001b[38;5;241m.\u001b[39mput(z, np\u001b[38;5;241m.\u001b[39mrandom\u001b[38;5;241m.\u001b[39mchoice(\u001b[38;5;28mrange\u001b[39m(n\u001b[38;5;241m*\u001b[39mn), p, replace\u001b[38;5;241m=\u001b[39m\u001b[38;5;28;01mFalse\u001b[39;00m),\u001b[38;5;241m1\u001b[39m)\n\u001b[0;32m      5\u001b[0m \u001b[38;5;28mprint\u001b[39m(z)\n",
      "\u001b[1;31mTypeError\u001b[0m: 'module' object is not callable"
     ]
    }
   ],
   "source": [
    "n = 10\n",
    "p = 3\n",
    "z = np.random((n,n))\n",
    "np.put(z, np.random.choice(range(n*n), p, replace=False),1)\n",
    "print(z)"
   ]
  },
  {
   "cell_type": "markdown",
   "metadata": {},
   "source": [
    "#### 58. Subtract the mean of each row of a matrix "
   ]
  },
  {
   "cell_type": "markdown",
   "metadata": {},
   "source": [
    "#### 59. How to sort an array by the nth column? "
   ]
  },
  {
   "cell_type": "markdown",
   "metadata": {},
   "source": [
    "#### 60. How to tell if a given 2D array has null columns?"
   ]
  },
  {
   "cell_type": "markdown",
   "metadata": {},
   "source": [
    "#### 61. Find the nearest value from a given value in an array "
   ]
  },
  {
   "cell_type": "markdown",
   "metadata": {},
   "source": [
    "#### 62. Considering two arrays with shape (1,3) and (3,1), how to compute their sum using an iterator? "
   ]
  },
  {
   "cell_type": "markdown",
   "metadata": {},
   "source": [
    "#### 63. Create an array class that has a name attribute"
   ]
  },
  {
   "cell_type": "markdown",
   "metadata": {},
   "source": [
    "#### 64. Consider a given vector, how to add 1 to each element indexed by a second vector (be careful with repeated indices)?"
   ]
  },
  {
   "cell_type": "markdown",
   "metadata": {},
   "source": [
    "#### 65. How to accumulate elements of a vector (X) to an array (F) based on an index list (I)? "
   ]
  },
  {
   "cell_type": "markdown",
   "metadata": {},
   "source": [
    "#### 66. Considering a (w,h,3) image of (dtype=ubyte), compute the number of unique colors"
   ]
  },
  {
   "cell_type": "markdown",
   "metadata": {},
   "source": [
    "#### 67. Considering a four dimensions array, how to get sum over the last two axis at once? "
   ]
  },
  {
   "cell_type": "markdown",
   "metadata": {},
   "source": [
    "#### 68. Considering a one-dimensional vector D, how to compute means of subsets of D using a vector S of same size describing subset  indices?"
   ]
  },
  {
   "cell_type": "markdown",
   "metadata": {},
   "source": [
    "#### 69. How to get the diagonal of a dot product? "
   ]
  },
  {
   "cell_type": "markdown",
   "metadata": {},
   "source": [
    "#### 70. Consider the vector [1, 2, 3, 4, 5], how to build a new vector with 3 consecutive zeros interleaved between each value? "
   ]
  },
  {
   "cell_type": "markdown",
   "metadata": {},
   "source": [
    "#### 71. Consider an array of dimension (5,5,3), how to mulitply it by an array with dimensions (5,5)? "
   ]
  },
  {
   "cell_type": "markdown",
   "metadata": {},
   "source": [
    "#### 72. How to swap two rows of an array? "
   ]
  },
  {
   "cell_type": "markdown",
   "metadata": {},
   "source": [
    "#### 73. Consider a set of 10 triplets describing 10 triangles (with shared vertices), find the set of unique line segments composing all the  triangles"
   ]
  },
  {
   "cell_type": "markdown",
   "metadata": {},
   "source": [
    "#### 74. Given a sorted array C that corresponds to a bincount, how to produce an array A such that np.bincount(A) == C? "
   ]
  },
  {
   "cell_type": "markdown",
   "metadata": {},
   "source": [
    "#### 75. How to compute averages using a sliding window over an array? "
   ]
  },
  {
   "cell_type": "markdown",
   "metadata": {},
   "source": [
    "#### 76. Consider a one-dimensional array Z, build a two-dimensional array whose first row is (Z[0],Z[1],Z[2]) and each subsequent row is  shifted by 1 (last row should be (Z[-3],Z[-2],Z[-1])"
   ]
  },
  {
   "cell_type": "markdown",
   "metadata": {},
   "source": [
    "#### 77. How to negate a boolean, or to change the sign of a float inplace?"
   ]
  },
  {
   "cell_type": "markdown",
   "metadata": {},
   "source": [
    "#### 78. Consider 2 sets of points P0,P1 describing lines (2d) and a point p, how to compute distance from p to each line i (P0[i],P1[i])? "
   ]
  },
  {
   "cell_type": "markdown",
   "metadata": {},
   "source": [
    "#### 79. Consider 2 sets of points P0,P1 describing lines (2d) and a set of points P, how to compute distance from each point j (P[j]) to each line i (P0[i],P1[i])?"
   ]
  },
  {
   "cell_type": "markdown",
   "metadata": {},
   "source": [
    "#### 80. Consider an arbitrary array, write a function that extract a subpart with a fixed shape and centered on a given element (pad with a `fill` value when necessary) "
   ]
  },
  {
   "cell_type": "markdown",
   "metadata": {},
   "source": [
    "#### 81. Consider an array Z = [1,2,3,4,5,6,7,8,9,10,11,12,13,14], how to generate an array R = [[1,2,3,4], [2,3,4,5], [3,4,5,6], ..., [11,12,13,14]]? "
   ]
  },
  {
   "cell_type": "markdown",
   "metadata": {},
   "source": [
    "#### 82. Compute a matrix rank"
   ]
  },
  {
   "cell_type": "markdown",
   "metadata": {},
   "source": [
    "#### 83. How to find the most frequent value in an array?"
   ]
  },
  {
   "cell_type": "markdown",
   "metadata": {},
   "source": [
    "#### 84. Extract all the contiguous 3x3 blocks from a random 10x10 matrix"
   ]
  },
  {
   "cell_type": "markdown",
   "metadata": {},
   "source": [
    "#### 85. Create a 2D array subclass such that Z[i,j] == Z[j,i]"
   ]
  },
  {
   "cell_type": "markdown",
   "metadata": {},
   "source": [
    "#### 86. Consider a set of p matrices with shape (n,n) and a set of p vectors with shape (n,1). How to compute the sum of of the p matrix products at once? (result has shape (n,1))"
   ]
  },
  {
   "cell_type": "markdown",
   "metadata": {},
   "source": [
    "#### 87. Consider a 16x16 array, how to get the block-sum (block size is 4x4)?"
   ]
  },
  {
   "cell_type": "markdown",
   "metadata": {},
   "source": [
    "#### 88. How to implement the Game of Life using numpy arrays?"
   ]
  },
  {
   "cell_type": "markdown",
   "metadata": {},
   "source": [
    "#### 89. How to get the n largest values of an array"
   ]
  },
  {
   "cell_type": "markdown",
   "metadata": {},
   "source": [
    "#### 90. Given an arbitrary number of vectors, build the cartesian product (every combinations of every item) "
   ]
  },
  {
   "cell_type": "markdown",
   "metadata": {},
   "source": [
    "#### 91. How to create a record array from a regular array?"
   ]
  },
  {
   "cell_type": "markdown",
   "metadata": {},
   "source": [
    "#### 92. Consider a large vector Z, compute Z to the power of 3 using 3 different methods "
   ]
  },
  {
   "cell_type": "markdown",
   "metadata": {},
   "source": [
    "#### 93. Consider two arrays A and B of shape (8,3) and (2,2). How to find rows of A that contain elements of each row of B regardless of the order of the elements in B? "
   ]
  },
  {
   "cell_type": "markdown",
   "metadata": {},
   "source": [
    "\n",
    "#### 94. Considering a 10x3 matrix, extract rows with unequal values (e.g. [2,2,3])"
   ]
  },
  {
   "cell_type": "markdown",
   "metadata": {},
   "source": [
    "#### 95. Convert a vector of ints into a matrix binary representation"
   ]
  },
  {
   "cell_type": "markdown",
   "metadata": {},
   "source": [
    "#### 96. Given a two dimensional array, how to extract unique rows? "
   ]
  },
  {
   "cell_type": "markdown",
   "metadata": {},
   "source": [
    "#### 97. Considering 2 vectors A & B, write the einsum equivalent of inner, outer, sum, and mul function"
   ]
  },
  {
   "cell_type": "markdown",
   "metadata": {},
   "source": [
    "#### 98. Considering a path described by two vectors (X,Y), how to sample it using equidistant samples"
   ]
  },
  {
   "cell_type": "markdown",
   "metadata": {},
   "source": [
    "#### 99. Given an integer n and a 2D array X, select from X the rows which can be interpreted as draws from a multinomial distribution with n degrees, i.e., the rows which only contain integers and which sum to n."
   ]
  },
  {
   "cell_type": "markdown",
   "metadata": {},
   "source": [
    "#### 100. Compute bootstrapped 95% confidence intervals for the mean of a 1D array X (i.e., resample the elements of an array with replacement N times, compute the mean of each sample, and then compute percentiles over the means). "
   ]
  },
  {
   "cell_type": "code",
   "execution_count": 52,
   "metadata": {
    "vscode": {
     "languageId": "javascript"
    }
   },
   "outputs": [
    {
     "name": "stdout",
     "output_type": "stream",
     "text": [
      "[[ 2.5 -7.5  8. ]\n",
      " [ 0.  -2.   4.5]]\n"
     ]
    }
   ],
   "source": [
    "a = np.array([[2.5, -7.5, 8], [0, -2, 4.5]])\n",
    "print(a)"
   ]
  }
 ],
 "metadata": {
  "kernelspec": {
   "display_name": "datascience",
   "language": "python",
   "name": "python3"
  },
  "language_info": {
   "codemirror_mode": {
    "name": "ipython",
    "version": 3
   },
   "file_extension": ".py",
   "mimetype": "text/x-python",
   "name": "python",
   "nbconvert_exporter": "python",
   "pygments_lexer": "ipython3",
   "version": "3.11.5"
  }
 },
 "nbformat": 4,
 "nbformat_minor": 2
}
